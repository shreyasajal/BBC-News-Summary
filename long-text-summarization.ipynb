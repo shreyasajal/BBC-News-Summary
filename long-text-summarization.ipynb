{
 "cells": [
  {
   "cell_type": "markdown",
   "id": "cdcf059e",
   "metadata": {
    "papermill": {
     "duration": 0.010736,
     "end_time": "2023-05-25T18:07:07.480554",
     "exception": false,
     "start_time": "2023-05-25T18:07:07.469818",
     "status": "completed"
    },
    "tags": []
   },
   "source": [
    "Long text summarization refers to the task of generating a concise summary of a lengthy document or piece of text. However, a common challenge in performing long text summarization is the limitation on the maximum allowed input, often set at 512 tokens. Tokens can be words, subwords, or characters depending on the tokenization method used.\n",
    "\n",
    "The maximum token limit is typically imposed due to computational constraints and to ensure efficient processing within the models used for text summarization, such as transformer-based models like T5, FLANT5, BART as used in our experiments.\n",
    "In this notebook we explore and evaluate few strategies to deal with problem of long text summarization for our task."
   ]
  },
  {
   "cell_type": "code",
   "execution_count": 1,
   "id": "7a2f2407",
   "metadata": {
    "execution": {
     "iopub.execute_input": "2023-05-25T18:07:07.499245Z",
     "iopub.status.busy": "2023-05-25T18:07:07.498837Z",
     "iopub.status.idle": "2023-05-25T18:07:23.662581Z",
     "shell.execute_reply": "2023-05-25T18:07:23.661418Z"
    },
    "papermill": {
     "duration": 16.176009,
     "end_time": "2023-05-25T18:07:23.665261",
     "exception": false,
     "start_time": "2023-05-25T18:07:07.489252",
     "status": "completed"
    },
    "tags": []
   },
   "outputs": [
    {
     "name": "stdout",
     "output_type": "stream",
     "text": [
      "\u001b[33mWARNING: Running pip as the 'root' user can result in broken permissions and conflicting behaviour with the system package manager. It is recommended to use a virtual environment instead: https://pip.pypa.io/warnings/venv\u001b[0m\u001b[33m\r\n",
      "\u001b[0m\u001b[31mERROR: Could not find a version that satisfies the requirement torch==1.7.1 (from versions: 1.11.0, 1.12.0, 1.12.1, 1.13.0, 1.13.1, 2.0.0, 2.0.1)\u001b[0m\u001b[31m\r\n",
      "\u001b[0m\u001b[31mERROR: No matching distribution found for torch==1.7.1\u001b[0m\u001b[31m\r\n",
      "\u001b[0m"
     ]
    }
   ],
   "source": [
    "!pip install datasets transformers rouge-score nltk -q\n",
    "!pip install torch==1.7.1 -q"
   ]
  },
  {
   "cell_type": "markdown",
   "id": "5d410edf",
   "metadata": {
    "papermill": {
     "duration": 0.008989,
     "end_time": "2023-05-25T18:07:23.684065",
     "exception": false,
     "start_time": "2023-05-25T18:07:23.675076",
     "status": "completed"
    },
    "tags": []
   },
   "source": [
    "## Import the Libraries"
   ]
  },
  {
   "cell_type": "code",
   "execution_count": 2,
   "id": "50beae12",
   "metadata": {
    "execution": {
     "iopub.execute_input": "2023-05-25T18:07:23.703961Z",
     "iopub.status.busy": "2023-05-25T18:07:23.703088Z",
     "iopub.status.idle": "2023-05-25T18:07:36.461472Z",
     "shell.execute_reply": "2023-05-25T18:07:36.460115Z"
    },
    "papermill": {
     "duration": 12.770808,
     "end_time": "2023-05-25T18:07:36.463753",
     "exception": false,
     "start_time": "2023-05-25T18:07:23.692945",
     "status": "completed"
    },
    "tags": []
   },
   "outputs": [
    {
     "name": "stderr",
     "output_type": "stream",
     "text": [
      "/opt/conda/lib/python3.10/site-packages/scipy/__init__.py:146: UserWarning: A NumPy version >=1.16.5 and <1.23.0 is required for this version of SciPy (detected version 1.23.5\n",
      "  warnings.warn(f\"A NumPy version >={np_minversion} and <{np_maxversion}\"\n"
     ]
    },
    {
     "name": "stdout",
     "output_type": "stream",
     "text": [
      "4.28.1\n"
     ]
    }
   ],
   "source": [
    "import numpy as np\n",
    "import pandas as pd\n",
    "import nltk\n",
    "\n",
    "import torch\n",
    "import datasets\n",
    "import warnings\n",
    "import transformers\n",
    "from tqdm import tqdm\n",
    "from datasets import Dataset\n",
    "from datasets import load_metric\n",
    "from transformers import AutoTokenizer\n",
    "from transformers import AutoModelForSeq2SeqLM, DataCollatorForSeq2Seq, Seq2SeqTrainingArguments, Seq2SeqTrainer\n",
    "\n",
    "warnings.filterwarnings(\"ignore\")\n",
    "print(transformers.__version__)"
   ]
  },
  {
   "cell_type": "code",
   "execution_count": 3,
   "id": "09d54344",
   "metadata": {
    "execution": {
     "iopub.execute_input": "2023-05-25T18:07:36.483049Z",
     "iopub.status.busy": "2023-05-25T18:07:36.482773Z",
     "iopub.status.idle": "2023-05-25T18:07:36.560764Z",
     "shell.execute_reply": "2023-05-25T18:07:36.559508Z"
    },
    "papermill": {
     "duration": 0.089965,
     "end_time": "2023-05-25T18:07:36.562923",
     "exception": false,
     "start_time": "2023-05-25T18:07:36.472958",
     "status": "completed"
    },
    "tags": []
   },
   "outputs": [
    {
     "name": "stdout",
     "output_type": "stream",
     "text": [
      "[INFO] training using Tesla P100-PCIE-16GB\n"
     ]
    }
   ],
   "source": [
    "DEVICE = \"cuda\" if torch.cuda.is_available() else \"cpu\"\n",
    "print(\"[INFO] training using {}\".format(torch.cuda.get_device_name(0)))"
   ]
  },
  {
   "cell_type": "markdown",
   "id": "6507c35e",
   "metadata": {
    "papermill": {
     "duration": 0.008705,
     "end_time": "2023-05-25T18:07:36.580827",
     "exception": false,
     "start_time": "2023-05-25T18:07:36.572122",
     "status": "completed"
    },
    "tags": []
   },
   "source": [
    "**Helper functions**"
   ]
  },
  {
   "cell_type": "code",
   "execution_count": 4,
   "id": "2790f82d",
   "metadata": {
    "execution": {
     "iopub.execute_input": "2023-05-25T18:07:36.599674Z",
     "iopub.status.busy": "2023-05-25T18:07:36.599400Z",
     "iopub.status.idle": "2023-05-25T18:07:37.307290Z",
     "shell.execute_reply": "2023-05-25T18:07:37.306463Z"
    },
    "papermill": {
     "duration": 0.719665,
     "end_time": "2023-05-25T18:07:37.309342",
     "exception": false,
     "start_time": "2023-05-25T18:07:36.589677",
     "status": "completed"
    },
    "tags": []
   },
   "outputs": [
    {
     "data": {
      "application/vnd.jupyter.widget-view+json": {
       "model_id": "7a436bb1041649f99b99ef4971370bca",
       "version_major": 2,
       "version_minor": 0
      },
      "text/plain": [
       "Downloading builder script:   0%|          | 0.00/2.16k [00:00<?, ?B/s]"
      ]
     },
     "metadata": {},
     "output_type": "display_data"
    }
   ],
   "source": [
    "import math\n",
    "metric = load_metric(\"rouge\")\n",
    "\n",
    "def split_string(string, n):\n",
    "    words = string.split()\n",
    "    total_words = len(words)\n",
    "    words_per_part = math.ceil(total_words / n)\n",
    "    parts = []\n",
    "\n",
    "    current_part = []\n",
    "    for word in words:\n",
    "        current_part.append(word)\n",
    "        if len(current_part) == words_per_part:\n",
    "            parts.append(\" \".join(current_part))\n",
    "            current_part = []\n",
    "\n",
    "    if current_part:\n",
    "        parts.append(\" \".join(current_part))\n",
    "\n",
    "    return parts\n",
    "\n",
    "def compute_metrics_(preds, labels):\n",
    "    labels=list(np.array(labels))\n",
    "    # Rouge expects a newline after each sentence\n",
    "    decoded_preds = [\"\\n\".join(nltk.sent_tokenize(pred.strip())) for pred in preds]\n",
    "    decoded_labels = [\"\\n\".join(nltk.sent_tokenize(label.strip())) for label in labels]\n",
    "    \n",
    "    result = metric.compute(predictions=decoded_preds, references=decoded_labels, use_stemmer=True)\n",
    "    # Extract a few results\n",
    "    result = {key: value.mid.fmeasure * 100 for key, value in result.items()}\n",
    "    return {k: round(v, 4) for k, v in result.items()}"
   ]
  },
  {
   "cell_type": "markdown",
   "id": "7e9cb119",
   "metadata": {
    "papermill": {
     "duration": 0.008962,
     "end_time": "2023-05-25T18:07:37.327742",
     "exception": false,
     "start_time": "2023-05-25T18:07:37.318780",
     "status": "completed"
    },
    "tags": []
   },
   "source": [
    "## Load the test data"
   ]
  },
  {
   "cell_type": "code",
   "execution_count": 5,
   "id": "71cacfce",
   "metadata": {
    "execution": {
     "iopub.execute_input": "2023-05-25T18:07:37.348242Z",
     "iopub.status.busy": "2023-05-25T18:07:37.346873Z",
     "iopub.status.idle": "2023-05-25T18:07:37.394067Z",
     "shell.execute_reply": "2023-05-25T18:07:37.393242Z"
    },
    "papermill": {
     "duration": 0.059475,
     "end_time": "2023-05-25T18:07:37.396158",
     "exception": false,
     "start_time": "2023-05-25T18:07:37.336683",
     "status": "completed"
    },
    "tags": []
   },
   "outputs": [],
   "source": [
    "test=pd.read_csv('/kaggle/input/train-val-test-split/test.csv')"
   ]
  },
  {
   "cell_type": "markdown",
   "id": "45f12c20",
   "metadata": {
    "papermill": {
     "duration": 0.009026,
     "end_time": "2023-05-25T18:07:37.414453",
     "exception": false,
     "start_time": "2023-05-25T18:07:37.405427",
     "status": "completed"
    },
    "tags": []
   },
   "source": [
    "## Load the trained model"
   ]
  },
  {
   "cell_type": "code",
   "execution_count": 6,
   "id": "3eace078",
   "metadata": {
    "execution": {
     "iopub.execute_input": "2023-05-25T18:07:37.434769Z",
     "iopub.status.busy": "2023-05-25T18:07:37.433370Z",
     "iopub.status.idle": "2023-05-25T18:07:46.329063Z",
     "shell.execute_reply": "2023-05-25T18:07:46.328179Z"
    },
    "papermill": {
     "duration": 8.907591,
     "end_time": "2023-05-25T18:07:46.331119",
     "exception": false,
     "start_time": "2023-05-25T18:07:37.423528",
     "status": "completed"
    },
    "tags": []
   },
   "outputs": [
    {
     "data": {
      "application/vnd.jupyter.widget-view+json": {
       "model_id": "107c2377750e4ad685a4f4311c6073a5",
       "version_major": 2,
       "version_minor": 0
      },
      "text/plain": [
       "Downloading (…)lve/main/config.json:   0%|          | 0.00/1.21k [00:00<?, ?B/s]"
      ]
     },
     "metadata": {},
     "output_type": "display_data"
    },
    {
     "data": {
      "application/vnd.jupyter.widget-view+json": {
       "model_id": "46e109e473a445f9908f3a54bdb4ad5f",
       "version_major": 2,
       "version_minor": 0
      },
      "text/plain": [
       "Downloading (…)ve/main/spiece.model:   0%|          | 0.00/792k [00:00<?, ?B/s]"
      ]
     },
     "metadata": {},
     "output_type": "display_data"
    },
    {
     "data": {
      "application/vnd.jupyter.widget-view+json": {
       "model_id": "04754a21a2fe42a8846313fefd073f85",
       "version_major": 2,
       "version_minor": 0
      },
      "text/plain": [
       "Downloading (…)/main/tokenizer.json:   0%|          | 0.00/1.39M [00:00<?, ?B/s]"
      ]
     },
     "metadata": {},
     "output_type": "display_data"
    },
    {
     "data": {
      "application/vnd.jupyter.widget-view+json": {
       "model_id": "289be1311012404e86e120733cc1c918",
       "version_major": 2,
       "version_minor": 0
      },
      "text/plain": [
       "Downloading pytorch_model.bin:   0%|          | 0.00/892M [00:00<?, ?B/s]"
      ]
     },
     "metadata": {},
     "output_type": "display_data"
    },
    {
     "data": {
      "application/vnd.jupyter.widget-view+json": {
       "model_id": "aacc36bb0e4444aeaf00a35d1772e0f8",
       "version_major": 2,
       "version_minor": 0
      },
      "text/plain": [
       "Downloading (…)neration_config.json:   0%|          | 0.00/147 [00:00<?, ?B/s]"
      ]
     },
     "metadata": {},
     "output_type": "display_data"
    }
   ],
   "source": [
    "model_checkpoint ='t5-base'\n",
    "tokenizer = AutoTokenizer.from_pretrained(model_checkpoint)\n",
    "model = AutoModelForSeq2SeqLM.from_pretrained(model_checkpoint)\n",
    "pad_on_right = tokenizer.padding_side == \"right\"\n",
    "assert isinstance(tokenizer, transformers.PreTrainedTokenizerFast)"
   ]
  },
  {
   "cell_type": "markdown",
   "id": "20518854",
   "metadata": {
    "papermill": {
     "duration": 0.010316,
     "end_time": "2023-05-25T18:07:46.351792",
     "exception": false,
     "start_time": "2023-05-25T18:07:46.341476",
     "status": "completed"
    },
    "tags": []
   },
   "source": [
    "## Load model"
   ]
  },
  {
   "cell_type": "code",
   "execution_count": 7,
   "id": "3a9f20e0",
   "metadata": {
    "execution": {
     "iopub.execute_input": "2023-05-25T18:07:46.373018Z",
     "iopub.status.busy": "2023-05-25T18:07:46.372738Z",
     "iopub.status.idle": "2023-05-25T18:07:58.354301Z",
     "shell.execute_reply": "2023-05-25T18:07:58.353419Z"
    },
    "papermill": {
     "duration": 11.994629,
     "end_time": "2023-05-25T18:07:58.356515",
     "exception": false,
     "start_time": "2023-05-25T18:07:46.361886",
     "status": "completed"
    },
    "tags": []
   },
   "outputs": [
    {
     "data": {
      "text/plain": [
       "T5ForConditionalGeneration(\n",
       "  (shared): Embedding(32128, 768)\n",
       "  (encoder): T5Stack(\n",
       "    (embed_tokens): Embedding(32128, 768)\n",
       "    (block): ModuleList(\n",
       "      (0): T5Block(\n",
       "        (layer): ModuleList(\n",
       "          (0): T5LayerSelfAttention(\n",
       "            (SelfAttention): T5Attention(\n",
       "              (q): Linear(in_features=768, out_features=768, bias=False)\n",
       "              (k): Linear(in_features=768, out_features=768, bias=False)\n",
       "              (v): Linear(in_features=768, out_features=768, bias=False)\n",
       "              (o): Linear(in_features=768, out_features=768, bias=False)\n",
       "              (relative_attention_bias): Embedding(32, 12)\n",
       "            )\n",
       "            (layer_norm): T5LayerNorm()\n",
       "            (dropout): Dropout(p=0.1, inplace=False)\n",
       "          )\n",
       "          (1): T5LayerFF(\n",
       "            (DenseReluDense): T5DenseActDense(\n",
       "              (wi): Linear(in_features=768, out_features=3072, bias=False)\n",
       "              (wo): Linear(in_features=3072, out_features=768, bias=False)\n",
       "              (dropout): Dropout(p=0.1, inplace=False)\n",
       "              (act): ReLU()\n",
       "            )\n",
       "            (layer_norm): T5LayerNorm()\n",
       "            (dropout): Dropout(p=0.1, inplace=False)\n",
       "          )\n",
       "        )\n",
       "      )\n",
       "      (1-11): 11 x T5Block(\n",
       "        (layer): ModuleList(\n",
       "          (0): T5LayerSelfAttention(\n",
       "            (SelfAttention): T5Attention(\n",
       "              (q): Linear(in_features=768, out_features=768, bias=False)\n",
       "              (k): Linear(in_features=768, out_features=768, bias=False)\n",
       "              (v): Linear(in_features=768, out_features=768, bias=False)\n",
       "              (o): Linear(in_features=768, out_features=768, bias=False)\n",
       "            )\n",
       "            (layer_norm): T5LayerNorm()\n",
       "            (dropout): Dropout(p=0.1, inplace=False)\n",
       "          )\n",
       "          (1): T5LayerFF(\n",
       "            (DenseReluDense): T5DenseActDense(\n",
       "              (wi): Linear(in_features=768, out_features=3072, bias=False)\n",
       "              (wo): Linear(in_features=3072, out_features=768, bias=False)\n",
       "              (dropout): Dropout(p=0.1, inplace=False)\n",
       "              (act): ReLU()\n",
       "            )\n",
       "            (layer_norm): T5LayerNorm()\n",
       "            (dropout): Dropout(p=0.1, inplace=False)\n",
       "          )\n",
       "        )\n",
       "      )\n",
       "    )\n",
       "    (final_layer_norm): T5LayerNorm()\n",
       "    (dropout): Dropout(p=0.1, inplace=False)\n",
       "  )\n",
       "  (decoder): T5Stack(\n",
       "    (embed_tokens): Embedding(32128, 768)\n",
       "    (block): ModuleList(\n",
       "      (0): T5Block(\n",
       "        (layer): ModuleList(\n",
       "          (0): T5LayerSelfAttention(\n",
       "            (SelfAttention): T5Attention(\n",
       "              (q): Linear(in_features=768, out_features=768, bias=False)\n",
       "              (k): Linear(in_features=768, out_features=768, bias=False)\n",
       "              (v): Linear(in_features=768, out_features=768, bias=False)\n",
       "              (o): Linear(in_features=768, out_features=768, bias=False)\n",
       "              (relative_attention_bias): Embedding(32, 12)\n",
       "            )\n",
       "            (layer_norm): T5LayerNorm()\n",
       "            (dropout): Dropout(p=0.1, inplace=False)\n",
       "          )\n",
       "          (1): T5LayerCrossAttention(\n",
       "            (EncDecAttention): T5Attention(\n",
       "              (q): Linear(in_features=768, out_features=768, bias=False)\n",
       "              (k): Linear(in_features=768, out_features=768, bias=False)\n",
       "              (v): Linear(in_features=768, out_features=768, bias=False)\n",
       "              (o): Linear(in_features=768, out_features=768, bias=False)\n",
       "            )\n",
       "            (layer_norm): T5LayerNorm()\n",
       "            (dropout): Dropout(p=0.1, inplace=False)\n",
       "          )\n",
       "          (2): T5LayerFF(\n",
       "            (DenseReluDense): T5DenseActDense(\n",
       "              (wi): Linear(in_features=768, out_features=3072, bias=False)\n",
       "              (wo): Linear(in_features=3072, out_features=768, bias=False)\n",
       "              (dropout): Dropout(p=0.1, inplace=False)\n",
       "              (act): ReLU()\n",
       "            )\n",
       "            (layer_norm): T5LayerNorm()\n",
       "            (dropout): Dropout(p=0.1, inplace=False)\n",
       "          )\n",
       "        )\n",
       "      )\n",
       "      (1-11): 11 x T5Block(\n",
       "        (layer): ModuleList(\n",
       "          (0): T5LayerSelfAttention(\n",
       "            (SelfAttention): T5Attention(\n",
       "              (q): Linear(in_features=768, out_features=768, bias=False)\n",
       "              (k): Linear(in_features=768, out_features=768, bias=False)\n",
       "              (v): Linear(in_features=768, out_features=768, bias=False)\n",
       "              (o): Linear(in_features=768, out_features=768, bias=False)\n",
       "            )\n",
       "            (layer_norm): T5LayerNorm()\n",
       "            (dropout): Dropout(p=0.1, inplace=False)\n",
       "          )\n",
       "          (1): T5LayerCrossAttention(\n",
       "            (EncDecAttention): T5Attention(\n",
       "              (q): Linear(in_features=768, out_features=768, bias=False)\n",
       "              (k): Linear(in_features=768, out_features=768, bias=False)\n",
       "              (v): Linear(in_features=768, out_features=768, bias=False)\n",
       "              (o): Linear(in_features=768, out_features=768, bias=False)\n",
       "            )\n",
       "            (layer_norm): T5LayerNorm()\n",
       "            (dropout): Dropout(p=0.1, inplace=False)\n",
       "          )\n",
       "          (2): T5LayerFF(\n",
       "            (DenseReluDense): T5DenseActDense(\n",
       "              (wi): Linear(in_features=768, out_features=3072, bias=False)\n",
       "              (wo): Linear(in_features=3072, out_features=768, bias=False)\n",
       "              (dropout): Dropout(p=0.1, inplace=False)\n",
       "              (act): ReLU()\n",
       "            )\n",
       "            (layer_norm): T5LayerNorm()\n",
       "            (dropout): Dropout(p=0.1, inplace=False)\n",
       "          )\n",
       "        )\n",
       "      )\n",
       "    )\n",
       "    (final_layer_norm): T5LayerNorm()\n",
       "    (dropout): Dropout(p=0.1, inplace=False)\n",
       "  )\n",
       "  (lm_head): Linear(in_features=768, out_features=32128, bias=False)\n",
       ")"
      ]
     },
     "execution_count": 7,
     "metadata": {},
     "output_type": "execute_result"
    }
   ],
   "source": [
    "model.load_state_dict(torch.load('/kaggle/input/t5-base-model/t5-base-finetuned-newsarticles/checkpoint-1500/pytorch_model.bin'))\n",
    "model.to(DEVICE)"
   ]
  },
  {
   "cell_type": "markdown",
   "id": "d6eccd86",
   "metadata": {
    "papermill": {
     "duration": 0.010044,
     "end_time": "2023-05-25T18:07:58.377143",
     "exception": false,
     "start_time": "2023-05-25T18:07:58.367099",
     "status": "completed"
    },
    "tags": []
   },
   "source": [
    "## Performance on test data using vanilla inference"
   ]
  },
  {
   "cell_type": "code",
   "execution_count": 8,
   "id": "51040241",
   "metadata": {
    "execution": {
     "iopub.execute_input": "2023-05-25T18:07:58.400010Z",
     "iopub.status.busy": "2023-05-25T18:07:58.398515Z",
     "iopub.status.idle": "2023-05-25T18:24:14.747376Z",
     "shell.execute_reply": "2023-05-25T18:24:14.746381Z"
    },
    "papermill": {
     "duration": 976.363387,
     "end_time": "2023-05-25T18:24:14.750906",
     "exception": false,
     "start_time": "2023-05-25T18:07:58.387519",
     "status": "completed"
    },
    "tags": []
   },
   "outputs": [
    {
     "name": "stderr",
     "output_type": "stream",
     "text": [
      "  0%|          | 0/445 [00:00<?, ?it/s]Token indices sequence length is longer than the specified maximum sequence length for this model (958 > 512). Running this sequence through the model will result in indexing errors\n",
      "100%|██████████| 445/445 [16:16<00:00,  2.19s/it]\n"
     ]
    }
   ],
   "source": [
    "normal_predictions=[]\n",
    "for i in tqdm(test['document']):\n",
    "    text='summarize:'+ i\n",
    "    inputs = tokenizer(text, return_tensors=\"pt\").input_ids.to(DEVICE)\n",
    "    outputs = model.generate(inputs, max_new_tokens=128, num_beams=3, do_sample=False)\n",
    "    summary=tokenizer.decode(outputs[0], skip_special_tokens=True)\n",
    "    normal_predictions.append(summary)"
   ]
  },
  {
   "cell_type": "code",
   "execution_count": 9,
   "id": "28155422",
   "metadata": {
    "execution": {
     "iopub.execute_input": "2023-05-25T18:24:14.838054Z",
     "iopub.status.busy": "2023-05-25T18:24:14.837465Z",
     "iopub.status.idle": "2023-05-25T18:24:29.667504Z",
     "shell.execute_reply": "2023-05-25T18:24:29.666328Z"
    },
    "papermill": {
     "duration": 14.875572,
     "end_time": "2023-05-25T18:24:29.669834",
     "exception": false,
     "start_time": "2023-05-25T18:24:14.794262",
     "status": "completed"
    },
    "tags": []
   },
   "outputs": [
    {
     "data": {
      "text/plain": [
       "{'rouge1': 57.9471, 'rouge2': 51.0773, 'rougeL': 43.6278, 'rougeLsum': 48.0644}"
      ]
     },
     "execution_count": 9,
     "metadata": {},
     "output_type": "execute_result"
    }
   ],
   "source": [
    "normal_result=compute_metrics_(normal_predictions, test['summary'])\n",
    "normal_result"
   ]
  },
  {
   "cell_type": "markdown",
   "id": "249f269c",
   "metadata": {
    "papermill": {
     "duration": 0.041889,
     "end_time": "2023-05-25T18:24:29.754865",
     "exception": false,
     "start_time": "2023-05-25T18:24:29.712976",
     "status": "completed"
    },
    "tags": []
   },
   "source": [
    "## Analyze the data\n",
    "We look for examples in our test data which on tokenization have more than 512 tokens. This gives us an idea of how many test summaries are truncated before being fed to the model and are suffering the loss of information as the model might be missing the important parts in the document while generating the summary and that can hamper the model scores."
   ]
  },
  {
   "cell_type": "code",
   "execution_count": 10,
   "id": "ab8615f9",
   "metadata": {
    "execution": {
     "iopub.execute_input": "2023-05-25T18:24:29.840643Z",
     "iopub.status.busy": "2023-05-25T18:24:29.839909Z",
     "iopub.status.idle": "2023-05-25T18:24:30.652411Z",
     "shell.execute_reply": "2023-05-25T18:24:30.650419Z"
    },
    "papermill": {
     "duration": 0.85769,
     "end_time": "2023-05-25T18:24:30.654732",
     "exception": false,
     "start_time": "2023-05-25T18:24:29.797042",
     "status": "completed"
    },
    "tags": []
   },
   "outputs": [
    {
     "data": {
      "text/html": [
       "<div>\n",
       "<style scoped>\n",
       "    .dataframe tbody tr th:only-of-type {\n",
       "        vertical-align: middle;\n",
       "    }\n",
       "\n",
       "    .dataframe tbody tr th {\n",
       "        vertical-align: top;\n",
       "    }\n",
       "\n",
       "    .dataframe thead th {\n",
       "        text-align: right;\n",
       "    }\n",
       "</style>\n",
       "<table border=\"1\" class=\"dataframe\">\n",
       "  <thead>\n",
       "    <tr style=\"text-align: right;\">\n",
       "      <th></th>\n",
       "      <th>Unnamed: 0</th>\n",
       "      <th>document</th>\n",
       "      <th>summary</th>\n",
       "      <th>categories</th>\n",
       "      <th>articles_length</th>\n",
       "      <th>summaries_length</th>\n",
       "      <th>tokenized_length</th>\n",
       "    </tr>\n",
       "  </thead>\n",
       "  <tbody>\n",
       "    <tr>\n",
       "      <th>0</th>\n",
       "      <td>314</td>\n",
       "      <td>blair dismisses quit claim report\\n\\ntony blai...</td>\n",
       "      <td>former welfare minister frank field mp said th...</td>\n",
       "      <td>politics</td>\n",
       "      <td>625</td>\n",
       "      <td>255</td>\n",
       "      <td>957</td>\n",
       "    </tr>\n",
       "    <tr>\n",
       "      <th>1</th>\n",
       "      <td>1310</td>\n",
       "      <td>web helps collect aid donations\\n\\nthe web is ...</td>\n",
       "      <td>many of the sites that google lists are also t...</td>\n",
       "      <td>tech</td>\n",
       "      <td>468</td>\n",
       "      <td>191</td>\n",
       "      <td>573</td>\n",
       "    </tr>\n",
       "    <tr>\n",
       "      <th>3</th>\n",
       "      <td>904</td>\n",
       "      <td>reds sink 10-man magpies\\n\\ntitus bramble's ow...</td>\n",
       "      <td>given, andrew o'brien, elliott, bramble, berna...</td>\n",
       "      <td>sport</td>\n",
       "      <td>427</td>\n",
       "      <td>206</td>\n",
       "      <td>830</td>\n",
       "    </tr>\n",
       "    <tr>\n",
       "      <th>6</th>\n",
       "      <td>1561</td>\n",
       "      <td>charity single for quake relief\\n\\nsingers inc...</td>\n",
       "      <td>he said the song was a slow ballad and would w...</td>\n",
       "      <td>entertainment</td>\n",
       "      <td>360</td>\n",
       "      <td>135</td>\n",
       "      <td>518</td>\n",
       "    </tr>\n",
       "    <tr>\n",
       "      <th>7</th>\n",
       "      <td>1862</td>\n",
       "      <td>giving financial gifts to children\\n\\nyour chi...</td>\n",
       "      <td>therefore, it may be preferable for parents to...</td>\n",
       "      <td>business</td>\n",
       "      <td>793</td>\n",
       "      <td>340</td>\n",
       "      <td>1002</td>\n",
       "    </tr>\n",
       "    <tr>\n",
       "      <th>...</th>\n",
       "      <td>...</td>\n",
       "      <td>...</td>\n",
       "      <td>...</td>\n",
       "      <td>...</td>\n",
       "      <td>...</td>\n",
       "      <td>...</td>\n",
       "      <td>...</td>\n",
       "    </tr>\n",
       "    <tr>\n",
       "      <th>438</th>\n",
       "      <td>2058</td>\n",
       "      <td>japan's ageing workforce: built to last\\n\\nin ...</td>\n",
       "      <td>glen wood, vice president of deutsche securiti...</td>\n",
       "      <td>business</td>\n",
       "      <td>891</td>\n",
       "      <td>388</td>\n",
       "      <td>1311</td>\n",
       "    </tr>\n",
       "    <tr>\n",
       "      <th>439</th>\n",
       "      <td>463</td>\n",
       "      <td>scotland v italy (sat)\\n\\nmurrayfield, edinbur...</td>\n",
       "      <td>and the pressure is on scotland coach matt wil...</td>\n",
       "      <td>sport</td>\n",
       "      <td>425</td>\n",
       "      <td>157</td>\n",
       "      <td>816</td>\n",
       "    </tr>\n",
       "    <tr>\n",
       "      <th>442</th>\n",
       "      <td>123</td>\n",
       "      <td>more reforms ahead says milburn\\n\\nlabour will...</td>\n",
       "      <td>labour will continue to pursue controversial r...</td>\n",
       "      <td>politics</td>\n",
       "      <td>542</td>\n",
       "      <td>220</td>\n",
       "      <td>732</td>\n",
       "    </tr>\n",
       "    <tr>\n",
       "      <th>443</th>\n",
       "      <td>860</td>\n",
       "      <td>jones happy with henson heroics\\n\\nwales fly-h...</td>\n",
       "      <td>jones was happy to hail henson's heroic contri...</td>\n",
       "      <td>sport</td>\n",
       "      <td>453</td>\n",
       "      <td>193</td>\n",
       "      <td>714</td>\n",
       "    </tr>\n",
       "    <tr>\n",
       "      <th>444</th>\n",
       "      <td>362</td>\n",
       "      <td>guantanamo pair's passport ban\\n\\nthe governme...</td>\n",
       "      <td>the men's solicitor, louise christian, has rai...</td>\n",
       "      <td>politics</td>\n",
       "      <td>450</td>\n",
       "      <td>170</td>\n",
       "      <td>668</td>\n",
       "    </tr>\n",
       "  </tbody>\n",
       "</table>\n",
       "<p>217 rows × 7 columns</p>\n",
       "</div>"
      ],
      "text/plain": [
       "     Unnamed: 0                                           document  \\\n",
       "0           314  blair dismisses quit claim report\\n\\ntony blai...   \n",
       "1          1310  web helps collect aid donations\\n\\nthe web is ...   \n",
       "3           904  reds sink 10-man magpies\\n\\ntitus bramble's ow...   \n",
       "6          1561  charity single for quake relief\\n\\nsingers inc...   \n",
       "7          1862  giving financial gifts to children\\n\\nyour chi...   \n",
       "..          ...                                                ...   \n",
       "438        2058  japan's ageing workforce: built to last\\n\\nin ...   \n",
       "439         463  scotland v italy (sat)\\n\\nmurrayfield, edinbur...   \n",
       "442         123  more reforms ahead says milburn\\n\\nlabour will...   \n",
       "443         860  jones happy with henson heroics\\n\\nwales fly-h...   \n",
       "444         362  guantanamo pair's passport ban\\n\\nthe governme...   \n",
       "\n",
       "                                               summary     categories  \\\n",
       "0    former welfare minister frank field mp said th...       politics   \n",
       "1    many of the sites that google lists are also t...           tech   \n",
       "3    given, andrew o'brien, elliott, bramble, berna...          sport   \n",
       "6    he said the song was a slow ballad and would w...  entertainment   \n",
       "7    therefore, it may be preferable for parents to...       business   \n",
       "..                                                 ...            ...   \n",
       "438  glen wood, vice president of deutsche securiti...       business   \n",
       "439  and the pressure is on scotland coach matt wil...          sport   \n",
       "442  labour will continue to pursue controversial r...       politics   \n",
       "443  jones was happy to hail henson's heroic contri...          sport   \n",
       "444  the men's solicitor, louise christian, has rai...       politics   \n",
       "\n",
       "     articles_length  summaries_length  tokenized_length  \n",
       "0                625               255               957  \n",
       "1                468               191               573  \n",
       "3                427               206               830  \n",
       "6                360               135               518  \n",
       "7                793               340              1002  \n",
       "..               ...               ...               ...  \n",
       "438              891               388              1311  \n",
       "439              425               157               816  \n",
       "442              542               220               732  \n",
       "443              453               193               714  \n",
       "444              450               170               668  \n",
       "\n",
       "[217 rows x 7 columns]"
      ]
     },
     "execution_count": 10,
     "metadata": {},
     "output_type": "execute_result"
    }
   ],
   "source": [
    "test['tokenized_length']=test['document'].apply(lambda x:len(tokenizer(x)['input_ids']))\n",
    "test[test['tokenized_length']>512]"
   ]
  },
  {
   "cell_type": "code",
   "execution_count": 11,
   "id": "c9b9d44c",
   "metadata": {
    "execution": {
     "iopub.execute_input": "2023-05-25T18:24:30.743497Z",
     "iopub.status.busy": "2023-05-25T18:24:30.743182Z",
     "iopub.status.idle": "2023-05-25T18:24:30.754002Z",
     "shell.execute_reply": "2023-05-25T18:24:30.753063Z"
    },
    "papermill": {
     "duration": 0.057163,
     "end_time": "2023-05-25T18:24:30.756311",
     "exception": false,
     "start_time": "2023-05-25T18:24:30.699148",
     "status": "completed"
    },
    "tags": []
   },
   "outputs": [
    {
     "data": {
      "text/plain": [
       "count     217.000000\n",
       "mean      849.032258\n",
       "std       553.437560\n",
       "min       515.000000\n",
       "25%       604.000000\n",
       "50%       713.000000\n",
       "75%       890.000000\n",
       "max      5077.000000\n",
       "Name: tokenized_length, dtype: float64"
      ]
     },
     "execution_count": 11,
     "metadata": {},
     "output_type": "execute_result"
    }
   ],
   "source": [
    "test[test['tokenized_length']>512]['tokenized_length'].describe()"
   ]
  },
  {
   "cell_type": "markdown",
   "id": "15502d41",
   "metadata": {
    "papermill": {
     "duration": 0.042216,
     "end_time": "2023-05-25T18:24:30.842676",
     "exception": false,
     "start_time": "2023-05-25T18:24:30.800460",
     "status": "completed"
    },
    "tags": []
   },
   "source": [
    "We can see there are 217 rows in the test data with tokenized length>512 and 75% of them are in the range 512-890, whereas 25% are greater than 890 going till 5077 that is maximum."
   ]
  },
  {
   "cell_type": "markdown",
   "id": "321d501e",
   "metadata": {
    "papermill": {
     "duration": 0.042423,
     "end_time": "2023-05-25T18:24:30.927852",
     "exception": false,
     "start_time": "2023-05-25T18:24:30.885429",
     "status": "completed"
    },
    "tags": []
   },
   "source": [
    "## Methods tried to solve the problem\n",
    "\n",
    "1. Map reduce\n",
    "2. Modified Map reduce\n",
    "3. Refine"
   ]
  },
  {
   "cell_type": "markdown",
   "id": "267df22a",
   "metadata": {
    "papermill": {
     "duration": 0.042453,
     "end_time": "2023-05-25T18:24:31.012700",
     "exception": false,
     "start_time": "2023-05-25T18:24:30.970247",
     "status": "completed"
    },
    "tags": []
   },
   "source": [
    "## Map Reduce\n",
    "This method is inspired by the `MapReduceDocumentsChain` implemented in the LangChain model.\n",
    "The steps followed in this inference method is:\n",
    "* Calculate the number of tokens for the document for which we want the summary.If the number of tokens<=520(we chose a number close to 512 as we want to include the text that contains some meaningful information and not just a few tokens), we do the vanilla inference on the text. If the number of tokens >512, we divide the document into chunks such that none of the chunks after division exceed 512 tokens. We consider upto 5000 tokens as that is the maximum number of tokens as seen in our test data.\n",
    "* Next, we pass each of the chunk to the model and generate the summary for each of the chunks.\n",
    "* Then we concatenate the generated summary for the chunks and generate a summary of the concatenated summary text to generate the final summary.\n",
    "\n",
    "The `modified` argument is used for **Modified Map Reduce** where the only modification is that we omit the last step in the Map Reduce function and return the concatenated summary of the chunks as the final summary"
   ]
  },
  {
   "cell_type": "code",
   "execution_count": 12,
   "id": "839eec33",
   "metadata": {
    "execution": {
     "iopub.execute_input": "2023-05-25T18:24:31.100147Z",
     "iopub.status.busy": "2023-05-25T18:24:31.099233Z",
     "iopub.status.idle": "2023-05-25T18:24:31.110891Z",
     "shell.execute_reply": "2023-05-25T18:24:31.110013Z"
    },
    "papermill": {
     "duration": 0.057275,
     "end_time": "2023-05-25T18:24:31.112797",
     "exception": false,
     "start_time": "2023-05-25T18:24:31.055522",
     "status": "completed"
    },
    "tags": []
   },
   "outputs": [],
   "source": [
    "def map_reduce(text, modified=True):\n",
    "    i=text\n",
    "    token_length=len(tokenizer(i)['input_ids'])\n",
    "    if token_length<=520:\n",
    "        text='summarize:'+ i\n",
    "        inputs = tokenizer(text, return_tensors=\"pt\").input_ids.to(DEVICE)\n",
    "        outputs = model.generate(inputs, max_new_tokens=128, num_beams=3, do_sample=False)\n",
    "        summary=tokenizer.decode(outputs[0], skip_special_tokens=True)\n",
    "        return summary\n",
    "        \n",
    "    elif token_length>520 and token_length<=1024:\n",
    "        input_list=split_string(i, 2)\n",
    "        \n",
    "    elif token_length>1024 and token_length<=1536:\n",
    "        input_list=split_string(i, 3)\n",
    "        \n",
    "    elif token_length>1536 and token_length<=2100:\n",
    "        input_list=split_string(i, 4)\n",
    "        \n",
    "    elif token_length>2100 and token_length<=3000:\n",
    "        input_list=split_string(i, 5)\n",
    "        \n",
    "    elif token_length>3000 and token_length<=4000:\n",
    "        input_list=split_string(i, 7)\n",
    "        \n",
    "    else:\n",
    "        input_list=split_string(i, 8)\n",
    "\n",
    "    main_summary=''\n",
    "    for inp in input_list:\n",
    "        text='summarize:'+ inp\n",
    "        inputs = tokenizer(text, return_tensors=\"pt\").input_ids.to(DEVICE)\n",
    "        outputs = model.generate(inputs, max_new_tokens=128, do_sample=False)\n",
    "        summary = tokenizer.decode(outputs[0], skip_special_tokens=True)\n",
    "        main_summary+=''+ summary\n",
    "        \n",
    "    if modified==True:\n",
    "        return main_summary\n",
    "    \n",
    "    text='summarize:'+ main_summary\n",
    "    inputs = tokenizer(text, return_tensors=\"pt\").input_ids.to(DEVICE)\n",
    "    outputs = model.generate(inputs, max_new_tokens=128, num_beams=3, do_sample=False)\n",
    "    summary = tokenizer.decode(outputs[0], skip_special_tokens=True)\n",
    "    return summary"
   ]
  },
  {
   "cell_type": "code",
   "execution_count": 13,
   "id": "e99b9468",
   "metadata": {
    "execution": {
     "iopub.execute_input": "2023-05-25T18:24:31.199518Z",
     "iopub.status.busy": "2023-05-25T18:24:31.198837Z",
     "iopub.status.idle": "2023-05-25T18:57:02.785412Z",
     "shell.execute_reply": "2023-05-25T18:57:02.784298Z"
    },
    "papermill": {
     "duration": 1951.632571,
     "end_time": "2023-05-25T18:57:02.787740",
     "exception": false,
     "start_time": "2023-05-25T18:24:31.155169",
     "status": "completed"
    },
    "tags": []
   },
   "outputs": [
    {
     "name": "stderr",
     "output_type": "stream",
     "text": [
      "100%|██████████| 445/445 [32:17<00:00,  4.35s/it]\n"
     ]
    },
    {
     "data": {
      "text/plain": [
       "{'rouge1': 54.9131, 'rouge2': 46.3191, 'rougeL': 41.276, 'rougeLsum': 45.3409}"
      ]
     },
     "execution_count": 13,
     "metadata": {},
     "output_type": "execute_result"
    }
   ],
   "source": [
    "mapreduce_predictions_=[]\n",
    "for i in tqdm(test['document']):\n",
    "    summary= map_reduce(i, modified= False)\n",
    "    mapreduce_predictions_.append(summary) \n",
    "mr_result=compute_metrics_(mapreduce_predictions_, test['summary'])\n",
    "mr_result"
   ]
  },
  {
   "cell_type": "markdown",
   "id": "fcc23e57",
   "metadata": {
    "papermill": {
     "duration": 0.076344,
     "end_time": "2023-05-25T18:57:02.942764",
     "exception": false,
     "start_time": "2023-05-25T18:57:02.866420",
     "status": "completed"
    },
    "tags": []
   },
   "source": [
    "## Modified Map Reduce"
   ]
  },
  {
   "cell_type": "code",
   "execution_count": 14,
   "id": "558b6f1c",
   "metadata": {
    "_kg_hide-output": true,
    "execution": {
     "iopub.execute_input": "2023-05-25T18:57:03.099266Z",
     "iopub.status.busy": "2023-05-25T18:57:03.098866Z",
     "iopub.status.idle": "2023-05-25T19:21:53.643526Z",
     "shell.execute_reply": "2023-05-25T19:21:53.642442Z"
    },
    "papermill": {
     "duration": 1490.741443,
     "end_time": "2023-05-25T19:21:53.761026",
     "exception": false,
     "start_time": "2023-05-25T18:57:03.019583",
     "status": "completed"
    },
    "tags": []
   },
   "outputs": [
    {
     "name": "stderr",
     "output_type": "stream",
     "text": [
      "100%|██████████| 445/445 [24:24<00:00,  3.29s/it]\n"
     ]
    },
    {
     "data": {
      "text/plain": [
       "{'rouge1': 65.7871, 'rouge2': 55.4353, 'rougeL': 45.2729, 'rougeLsum': 51.3515}"
      ]
     },
     "execution_count": 14,
     "metadata": {},
     "output_type": "execute_result"
    }
   ],
   "source": [
    "mod_mapreduce_predictions=[]\n",
    "for i in tqdm(test['document']):\n",
    "    summary= map_reduce(i, modified= True)\n",
    "    mod_mapreduce_predictions.append(summary) \n",
    "result=compute_metrics_(mod_mapreduce_predictions, test['summary'])\n",
    "result"
   ]
  },
  {
   "cell_type": "markdown",
   "id": "5e26d393",
   "metadata": {
    "papermill": {
     "duration": 0.106354,
     "end_time": "2023-05-25T19:21:53.973843",
     "exception": false,
     "start_time": "2023-05-25T19:21:53.867489",
     "status": "completed"
    },
    "tags": []
   },
   "source": [
    "We can see that the modified map reduce method helped improve the scores."
   ]
  },
  {
   "cell_type": "markdown",
   "id": "68edfe78",
   "metadata": {
    "papermill": {
     "duration": 0.107621,
     "end_time": "2023-05-25T19:21:54.188171",
     "exception": false,
     "start_time": "2023-05-25T19:21:54.080550",
     "status": "completed"
    },
    "tags": []
   },
   "source": [
    "## Refine \n",
    "This method is inspired by the `RefineDocumentsChain` implemented in the LangChain model.\n",
    "The steps followed in this inference method is:\n",
    "* Calculate the number of tokens for the document for which we want the summary.If the number of tokens<=520 (we chose a number close to 512 as we want to include the text that contains some meaningful information and not just a few tokens), we do the vanilla inference on the text. If the number of tokens >512, we divide the document into chunks such that none of the chunks after division exceed 512 tokens. We consider upto 5000 tokens as that is the maximum number of tokens as seen in our test data.\n",
    "* Next, we pass the first chunk to the model and generate the summary, then we pass the generated summary in addition to the next chunk so that the model refines the previous summary based on the new context, and we continue this till the last chunk and return the final generated summary.\n",
    "\n",
    "Since more context(previous summary + new text) is passed at each step, we divide the text into more number of chunks so that the number of tokens per chunk is lesser."
   ]
  },
  {
   "cell_type": "code",
   "execution_count": 15,
   "id": "80d78d57",
   "metadata": {
    "execution": {
     "iopub.execute_input": "2023-05-25T19:21:54.406173Z",
     "iopub.status.busy": "2023-05-25T19:21:54.405808Z",
     "iopub.status.idle": "2023-05-25T19:21:54.416150Z",
     "shell.execute_reply": "2023-05-25T19:21:54.415335Z"
    },
    "papermill": {
     "duration": 0.121303,
     "end_time": "2023-05-25T19:21:54.418188",
     "exception": false,
     "start_time": "2023-05-25T19:21:54.296885",
     "status": "completed"
    },
    "tags": []
   },
   "outputs": [],
   "source": [
    "def refine(text):\n",
    "    i=text\n",
    "    token_length=len(tokenizer(i)['input_ids'])\n",
    "    if token_length<=520:\n",
    "        text='summarize:'+ i\n",
    "        inputs = tokenizer(text, return_tensors=\"pt\").input_ids.to(DEVICE)\n",
    "        outputs = model.generate(inputs, max_new_tokens=128, num_beams=3, do_sample=False)\n",
    "        summary=tokenizer.decode(outputs[0], skip_special_tokens=True)\n",
    "        return summary\n",
    "        \n",
    "    elif token_length>520 and token_length<=1024:\n",
    "        input_list=split_string(i, 3)\n",
    "        \n",
    "    elif token_length>1024 and token_length<=1536:\n",
    "        input_list=split_string(i, 4)\n",
    "        \n",
    "    elif token_length>1536 and token_length<=2100:\n",
    "        input_list=split_string(i, 5)\n",
    "        \n",
    "    elif token_length>2100 and token_length<=3000:\n",
    "        input_list=split_string(i, 6)\n",
    "        \n",
    "    elif token_length>3000 and token_length<=4000:\n",
    "        input_list=split_string(i, 8)\n",
    "        \n",
    "    else:\n",
    "        input_list=split_string(i, 9)\n",
    "\n",
    "    res=''\n",
    "    for inp in input_list:\n",
    "        text='summarize:'+ res + inp\n",
    "        inputs = tokenizer(text, return_tensors=\"pt\").input_ids.to(DEVICE)\n",
    "        outputs = model.generate(inputs, max_new_tokens=128, num_beams=3, do_sample=False)\n",
    "        summary = tokenizer.decode(outputs[0], skip_special_tokens=True)\n",
    "        res=summary\n",
    "    return summary"
   ]
  },
  {
   "cell_type": "code",
   "execution_count": 16,
   "id": "691179dd",
   "metadata": {
    "_kg_hide-output": true,
    "execution": {
     "iopub.execute_input": "2023-05-25T19:21:54.633613Z",
     "iopub.status.busy": "2023-05-25T19:21:54.632695Z",
     "iopub.status.idle": "2023-05-25T19:55:49.964487Z",
     "shell.execute_reply": "2023-05-25T19:55:49.963550Z"
    },
    "papermill": {
     "duration": 2035.441473,
     "end_time": "2023-05-25T19:55:49.966709",
     "exception": false,
     "start_time": "2023-05-25T19:21:54.525236",
     "status": "completed"
    },
    "tags": []
   },
   "outputs": [
    {
     "name": "stderr",
     "output_type": "stream",
     "text": [
      "100%|██████████| 445/445 [33:41<00:00,  4.54s/it]\n"
     ]
    },
    {
     "data": {
      "text/plain": [
       "{'rouge1': 54.99, 'rouge2': 46.5886, 'rougeL': 41.5034, 'rougeLsum': 45.5726}"
      ]
     },
     "execution_count": 16,
     "metadata": {},
     "output_type": "execute_result"
    }
   ],
   "source": [
    "refine_predictions=[]\n",
    "for i in tqdm(test['document']):\n",
    "    summary=refine(i)\n",
    "    refine_predictions.append(summary) \n",
    "refine_result=compute_metrics_(refine_predictions, test['summary'])\n",
    "refine_result"
   ]
  },
  {
   "cell_type": "markdown",
   "id": "c351dbcc",
   "metadata": {
    "papermill": {
     "duration": 0.166825,
     "end_time": "2023-05-25T19:55:50.282994",
     "exception": false,
     "start_time": "2023-05-25T19:55:50.116169",
     "status": "completed"
    },
    "tags": []
   },
   "source": [
    "## Modified Inference Function"
   ]
  },
  {
   "cell_type": "code",
   "execution_count": 17,
   "id": "6d44b9d7",
   "metadata": {
    "execution": {
     "iopub.execute_input": "2023-05-25T19:55:50.608862Z",
     "iopub.status.busy": "2023-05-25T19:55:50.608195Z",
     "iopub.status.idle": "2023-05-25T19:55:50.615240Z",
     "shell.execute_reply": "2023-05-25T19:55:50.614375Z"
    },
    "papermill": {
     "duration": 0.151482,
     "end_time": "2023-05-25T19:55:50.617308",
     "exception": false,
     "start_time": "2023-05-25T19:55:50.465826",
     "status": "completed"
    },
    "tags": []
   },
   "outputs": [],
   "source": [
    "def inference_function(text, method=\"normal\"):\n",
    "    if method==\"normal\": \n",
    "        text='summarize:'+ text\n",
    "        inputs = tokenizer(text, return_tensors=\"pt\").input_ids.to(DEVICE)\n",
    "        outputs = model.generate(inputs, max_new_tokens=128, num_beams=3, do_sample=False)\n",
    "        summary=tokenizer.decode(outputs[0], skip_special_tokens=True)\n",
    "        \n",
    "    elif method==\"map_reduce\":\n",
    "        summary=map_reduce(text, modified=False)\n",
    "            \n",
    "    elif method==\"modified_map_reduce\":\n",
    "        summary=map_reduce(text, modified=True)\n",
    "            \n",
    "    elif method==\"refine\":\n",
    "        summary=refine(text)\n",
    "        \n",
    "    return summary"
   ]
  },
  {
   "cell_type": "code",
   "execution_count": 18,
   "id": "e440f3d9",
   "metadata": {
    "execution": {
     "iopub.execute_input": "2023-05-25T19:55:50.905262Z",
     "iopub.status.busy": "2023-05-25T19:55:50.904931Z",
     "iopub.status.idle": "2023-05-25T19:55:53.538068Z",
     "shell.execute_reply": "2023-05-25T19:55:53.537212Z"
    },
    "papermill": {
     "duration": 2.778646,
     "end_time": "2023-05-25T19:55:53.540645",
     "exception": false,
     "start_time": "2023-05-25T19:55:50.761999",
     "status": "completed"
    },
    "tags": []
   },
   "outputs": [
    {
     "data": {
      "text/plain": [
       "'mr blair said the claims were \"reheated from six months ago\" and that he was concentrating on running the country.but the prime minister said he had discussed these claims with the chancellor and dismissed them as a \"load of nonsense\".the liberal democrat parliamentary chairman matthew taylor said the personal ambition of mr blair and mr brown was \"getting in the way of good government\".the book, by sunday telegraph journalist robert peston and serialised in the newspaper, said the'"
      ]
     },
     "execution_count": 18,
     "metadata": {},
     "output_type": "execute_result"
    }
   ],
   "source": [
    "summary=inference_function(test['document'][0], method=\"normal\")\n",
    "summary"
   ]
  },
  {
   "cell_type": "code",
   "execution_count": 19,
   "id": "89f2d0e8",
   "metadata": {
    "execution": {
     "iopub.execute_input": "2023-05-25T19:55:53.830514Z",
     "iopub.status.busy": "2023-05-25T19:55:53.830146Z",
     "iopub.status.idle": "2023-05-25T19:55:59.941295Z",
     "shell.execute_reply": "2023-05-25T19:55:59.940262Z"
    },
    "papermill": {
     "duration": 6.256657,
     "end_time": "2023-05-25T19:55:59.943744",
     "exception": false,
     "start_time": "2023-05-25T19:55:53.687087",
     "status": "completed"
    },
    "tags": []
   },
   "outputs": [
    {
     "data": {
      "text/plain": [
       "'the liberal democrat parliamentary chairman matthew taylor said the personal ambition of mr blair and mr brown was \"getting in the way of good government\".what the book says is there is now a pretty profound mutual mistrust, mutual animosity.\"what the book says is there is now a pretty profound mutual mistrust, mutual animosity.\"what the book says is there is now a pretty profound mutual mistrust, mutual animosity.\"what the book says is there is now a pretty profound mutual'"
      ]
     },
     "execution_count": 19,
     "metadata": {},
     "output_type": "execute_result"
    }
   ],
   "source": [
    "summary=inference_function(test['document'][0], method=\"map_reduce\")\n",
    "summary"
   ]
  },
  {
   "cell_type": "code",
   "execution_count": 20,
   "id": "a2ab7855",
   "metadata": {
    "execution": {
     "iopub.execute_input": "2023-05-25T19:56:00.235518Z",
     "iopub.status.busy": "2023-05-25T19:56:00.235158Z",
     "iopub.status.idle": "2023-05-25T19:56:04.219155Z",
     "shell.execute_reply": "2023-05-25T19:56:04.218246Z"
    },
    "papermill": {
     "duration": 4.133903,
     "end_time": "2023-05-25T19:56:04.221217",
     "exception": false,
     "start_time": "2023-05-25T19:56:00.087314",
     "status": "completed"
    },
    "tags": []
   },
   "outputs": [
    {
     "data": {
      "text/plain": [
       "'according to mr peston the prime minister said: \"help me to get through the year and i will then stand down.\"what the book says is there is now a pretty profound mutual mistrust, mutual animosity.\"what the book says is there is now a pretty profound mutual mistrust, mutual animosity.\"what the book says is there is now a pretty profound mutual mistrust, mutual animosity.\"what the book says is there is now a pretty profound mutual mistrust, mutual animosity.\"what the book says is there is now a pretty profound mutualbut the prime minister said he had discussed these claims with the chancellor and dismissed them as a \"load of nonsense\".the liberal democrat parliamentary chairman matthew taylor said the personal ambition of mr blair and mr brown was \"getting in the way of good government\".the liberal democrat parliamentary chairman matthew taylor said the personal ambition of mr blair and mr brown was \"getting in the way of good government\".the former welfare minister frank field mp said the prime minister'"
      ]
     },
     "execution_count": 20,
     "metadata": {},
     "output_type": "execute_result"
    }
   ],
   "source": [
    "summary=inference_function(test['document'][0], method=\"modified_map_reduce\")\n",
    "summary"
   ]
  },
  {
   "cell_type": "code",
   "execution_count": 21,
   "id": "29407e66",
   "metadata": {
    "execution": {
     "iopub.execute_input": "2023-05-25T19:56:04.502692Z",
     "iopub.status.busy": "2023-05-25T19:56:04.501994Z",
     "iopub.status.idle": "2023-05-25T19:56:10.875889Z",
     "shell.execute_reply": "2023-05-25T19:56:10.875023Z"
    },
    "papermill": {
     "duration": 6.51616,
     "end_time": "2023-05-25T19:56:10.878012",
     "exception": false,
     "start_time": "2023-05-25T19:56:04.361852",
     "status": "completed"
    },
    "tags": []
   },
   "outputs": [
    {
     "data": {
      "text/plain": [
       "'but the prime minister said he had discussed these claims with the chancellor and dismissed them as a \"load of nonsense\".the liberal democrat parliamentary chairman matthew taylor said the personal ambition of mr blair and mr brown was \"getting in the way of good government\".but, in a wide-ranging bbc interview covering issues such as the asian tsunami disaster, the middle east peace process and northern ireland, mr blair said: \"when you get to the top in politics you get this'"
      ]
     },
     "execution_count": 21,
     "metadata": {},
     "output_type": "execute_result"
    }
   ],
   "source": [
    "summary=inference_function(test['document'][0], method=\"refine\")\n",
    "summary"
   ]
  },
  {
   "cell_type": "code",
   "execution_count": 22,
   "id": "b8484684",
   "metadata": {
    "execution": {
     "iopub.execute_input": "2023-05-25T19:56:11.166336Z",
     "iopub.status.busy": "2023-05-25T19:56:11.165985Z",
     "iopub.status.idle": "2023-05-25T19:56:11.172203Z",
     "shell.execute_reply": "2023-05-25T19:56:11.171342Z"
    },
    "papermill": {
     "duration": 0.151274,
     "end_time": "2023-05-25T19:56:11.174108",
     "exception": false,
     "start_time": "2023-05-25T19:56:11.022834",
     "status": "completed"
    },
    "tags": []
   },
   "outputs": [
    {
     "data": {
      "text/plain": [
       "'former welfare minister frank field mp said the prime minister should sack mr brown, but did not believe mr blair was strong enough to do so.mr blair said the claims were \"reheated from six months ago\" and that he was concentrating on running the country.the liberal democrat parliamentary chairman matthew taylor said the personal ambition of mr blair and mr brown was \"getting in the way of good government\".according to mr peston the prime minister said: \"help me to get through the year and i will then stand down.\"according to a new book, brown\\'s britain, mr blair went back on a pledge to make way for mr brown after cabinet allies intervened in june 2004.mr blair said: \"i\\'ve dealt with this six months ago.and that at a dinner hosted by deputy prime minister john prescott he told mr brown of his intention to stand down.during the interview mr blair also said the former home secretary david blunkett would play a \"big role\" at the general election.tory leader michael howard accused the prime minister and mr brown of \"squabbling like schoolboys\".but, in a wide-ranging bbc interview covering issues such as the asian tsunami disaster, the middle east peace process and northern ireland, mr blair said: \"when you get to the top in politics you get this huge swell around you.but the prime minister said he had discussed these claims with the chancellor and dismissed them as a \"load of nonsense\".tony blair has dismissed reports he told gordon brown he would quit before the next general election.'"
      ]
     },
     "execution_count": 22,
     "metadata": {},
     "output_type": "execute_result"
    }
   ],
   "source": [
    "test['summary'][0]"
   ]
  },
  {
   "cell_type": "code",
   "execution_count": null,
   "id": "8d259d94",
   "metadata": {
    "papermill": {
     "duration": 0.140899,
     "end_time": "2023-05-25T19:56:11.458837",
     "exception": false,
     "start_time": "2023-05-25T19:56:11.317938",
     "status": "completed"
    },
    "tags": []
   },
   "outputs": [],
   "source": []
  }
 ],
 "metadata": {
  "kernelspec": {
   "display_name": "Python 3",
   "language": "python",
   "name": "python3"
  },
  "language_info": {
   "codemirror_mode": {
    "name": "ipython",
    "version": 3
   },
   "file_extension": ".py",
   "mimetype": "text/x-python",
   "name": "python",
   "nbconvert_exporter": "python",
   "pygments_lexer": "ipython3",
   "version": "3.10.10"
  },
  "papermill": {
   "default_parameters": {},
   "duration": 6558.068923,
   "end_time": "2023-05-25T19:56:15.193046",
   "environment_variables": {},
   "exception": null,
   "input_path": "__notebook__.ipynb",
   "output_path": "__notebook__.ipynb",
   "parameters": {},
   "start_time": "2023-05-25T18:06:57.124123",
   "version": "2.4.0"
  },
  "widgets": {
   "application/vnd.jupyter.widget-state+json": {
    "state": {
     "008fb427939942b28c0ddcd53bd8c1f2": {
      "model_module": "@jupyter-widgets/controls",
      "model_module_version": "1.5.0",
      "model_name": "HTMLModel",
      "state": {
       "_dom_classes": [],
       "_model_module": "@jupyter-widgets/controls",
       "_model_module_version": "1.5.0",
       "_model_name": "HTMLModel",
       "_view_count": null,
       "_view_module": "@jupyter-widgets/controls",
       "_view_module_version": "1.5.0",
       "_view_name": "HTMLView",
       "description": "",
       "description_tooltip": null,
       "layout": "IPY_MODEL_381f00c9d93d43c590551d82aaf18396",
       "placeholder": "​",
       "style": "IPY_MODEL_36f75d10513c4a61b4dea4dbc29096e0",
       "value": "Downloading (…)neration_config.json: 100%"
      }
     },
     "04754a21a2fe42a8846313fefd073f85": {
      "model_module": "@jupyter-widgets/controls",
      "model_module_version": "1.5.0",
      "model_name": "HBoxModel",
      "state": {
       "_dom_classes": [],
       "_model_module": "@jupyter-widgets/controls",
       "_model_module_version": "1.5.0",
       "_model_name": "HBoxModel",
       "_view_count": null,
       "_view_module": "@jupyter-widgets/controls",
       "_view_module_version": "1.5.0",
       "_view_name": "HBoxView",
       "box_style": "",
       "children": [
        "IPY_MODEL_8f2c6063548943228d9485005663ab62",
        "IPY_MODEL_de4f66789b8c43c39fce64d57603b909",
        "IPY_MODEL_3505fcf2630e4f6592a34cb5dcd7e3b9"
       ],
       "layout": "IPY_MODEL_b776bd169544481fb103ff39cf0ba66c"
      }
     },
     "05565c862ea94f29bd403f827cfa9757": {
      "model_module": "@jupyter-widgets/controls",
      "model_module_version": "1.5.0",
      "model_name": "HTMLModel",
      "state": {
       "_dom_classes": [],
       "_model_module": "@jupyter-widgets/controls",
       "_model_module_version": "1.5.0",
       "_model_name": "HTMLModel",
       "_view_count": null,
       "_view_module": "@jupyter-widgets/controls",
       "_view_module_version": "1.5.0",
       "_view_name": "HTMLView",
       "description": "",
       "description_tooltip": null,
       "layout": "IPY_MODEL_cf4101934902466f9eb9ed108048720b",
       "placeholder": "​",
       "style": "IPY_MODEL_d908206008da4caaa25c3132398b54ae",
       "value": " 792k/792k [00:00&lt;00:00, 2.39MB/s]"
      }
     },
     "08663c67261841d7821e6febbbd38904": {
      "model_module": "@jupyter-widgets/controls",
      "model_module_version": "1.5.0",
      "model_name": "FloatProgressModel",
      "state": {
       "_dom_classes": [],
       "_model_module": "@jupyter-widgets/controls",
       "_model_module_version": "1.5.0",
       "_model_name": "FloatProgressModel",
       "_view_count": null,
       "_view_module": "@jupyter-widgets/controls",
       "_view_module_version": "1.5.0",
       "_view_name": "ProgressView",
       "bar_style": "success",
       "description": "",
       "description_tooltip": null,
       "layout": "IPY_MODEL_fcc611426afd432bbfc6bd889424cf25",
       "max": 1208.0,
       "min": 0.0,
       "orientation": "horizontal",
       "style": "IPY_MODEL_0af753359a3d4855b8bf2dabf13b0507",
       "value": 1208.0
      }
     },
     "0af753359a3d4855b8bf2dabf13b0507": {
      "model_module": "@jupyter-widgets/controls",
      "model_module_version": "1.5.0",
      "model_name": "ProgressStyleModel",
      "state": {
       "_model_module": "@jupyter-widgets/controls",
       "_model_module_version": "1.5.0",
       "_model_name": "ProgressStyleModel",
       "_view_count": null,
       "_view_module": "@jupyter-widgets/base",
       "_view_module_version": "1.2.0",
       "_view_name": "StyleView",
       "bar_color": null,
       "description_width": ""
      }
     },
     "0ce018c113ee416faba58ab86db9d9e3": {
      "model_module": "@jupyter-widgets/controls",
      "model_module_version": "1.5.0",
      "model_name": "HTMLModel",
      "state": {
       "_dom_classes": [],
       "_model_module": "@jupyter-widgets/controls",
       "_model_module_version": "1.5.0",
       "_model_name": "HTMLModel",
       "_view_count": null,
       "_view_module": "@jupyter-widgets/controls",
       "_view_module_version": "1.5.0",
       "_view_name": "HTMLView",
       "description": "",
       "description_tooltip": null,
       "layout": "IPY_MODEL_d701aacdcff1445383b0cf52fd548c5c",
       "placeholder": "​",
       "style": "IPY_MODEL_7ff940fafed24d619ceadb14608099a5",
       "value": " 892M/892M [00:02&lt;00:00, 428MB/s]"
      }
     },
     "0f50a9be140448bab23dff1efc83e3e8": {
      "model_module": "@jupyter-widgets/base",
      "model_module_version": "1.2.0",
      "model_name": "LayoutModel",
      "state": {
       "_model_module": "@jupyter-widgets/base",
       "_model_module_version": "1.2.0",
       "_model_name": "LayoutModel",
       "_view_count": null,
       "_view_module": "@jupyter-widgets/base",
       "_view_module_version": "1.2.0",
       "_view_name": "LayoutView",
       "align_content": null,
       "align_items": null,
       "align_self": null,
       "border": null,
       "bottom": null,
       "display": null,
       "flex": null,
       "flex_flow": null,
       "grid_area": null,
       "grid_auto_columns": null,
       "grid_auto_flow": null,
       "grid_auto_rows": null,
       "grid_column": null,
       "grid_gap": null,
       "grid_row": null,
       "grid_template_areas": null,
       "grid_template_columns": null,
       "grid_template_rows": null,
       "height": null,
       "justify_content": null,
       "justify_items": null,
       "left": null,
       "margin": null,
       "max_height": null,
       "max_width": null,
       "min_height": null,
       "min_width": null,
       "object_fit": null,
       "object_position": null,
       "order": null,
       "overflow": null,
       "overflow_x": null,
       "overflow_y": null,
       "padding": null,
       "right": null,
       "top": null,
       "visibility": null,
       "width": null
      }
     },
     "107c2377750e4ad685a4f4311c6073a5": {
      "model_module": "@jupyter-widgets/controls",
      "model_module_version": "1.5.0",
      "model_name": "HBoxModel",
      "state": {
       "_dom_classes": [],
       "_model_module": "@jupyter-widgets/controls",
       "_model_module_version": "1.5.0",
       "_model_name": "HBoxModel",
       "_view_count": null,
       "_view_module": "@jupyter-widgets/controls",
       "_view_module_version": "1.5.0",
       "_view_name": "HBoxView",
       "box_style": "",
       "children": [
        "IPY_MODEL_2066e0899d9d49ac9447b80adebf0fe5",
        "IPY_MODEL_08663c67261841d7821e6febbbd38904",
        "IPY_MODEL_4f3eda5461be4a98ac0b3fb8ab558551"
       ],
       "layout": "IPY_MODEL_fbcfc6fcb19a449d9ea90a730826ab76"
      }
     },
     "125201e922f74f90ad12806d5ec94285": {
      "model_module": "@jupyter-widgets/controls",
      "model_module_version": "1.5.0",
      "model_name": "FloatProgressModel",
      "state": {
       "_dom_classes": [],
       "_model_module": "@jupyter-widgets/controls",
       "_model_module_version": "1.5.0",
       "_model_name": "FloatProgressModel",
       "_view_count": null,
       "_view_module": "@jupyter-widgets/controls",
       "_view_module_version": "1.5.0",
       "_view_name": "ProgressView",
       "bar_style": "success",
       "description": "",
       "description_tooltip": null,
       "layout": "IPY_MODEL_30b47059a1844c23935fa7391a461633",
       "max": 891691430.0,
       "min": 0.0,
       "orientation": "horizontal",
       "style": "IPY_MODEL_9f5704ff834446a7ac6b1c986dfa4236",
       "value": 891691430.0
      }
     },
     "14590912bf0c408ca976a248120927b9": {
      "model_module": "@jupyter-widgets/base",
      "model_module_version": "1.2.0",
      "model_name": "LayoutModel",
      "state": {
       "_model_module": "@jupyter-widgets/base",
       "_model_module_version": "1.2.0",
       "_model_name": "LayoutModel",
       "_view_count": null,
       "_view_module": "@jupyter-widgets/base",
       "_view_module_version": "1.2.0",
       "_view_name": "LayoutView",
       "align_content": null,
       "align_items": null,
       "align_self": null,
       "border": null,
       "bottom": null,
       "display": null,
       "flex": null,
       "flex_flow": null,
       "grid_area": null,
       "grid_auto_columns": null,
       "grid_auto_flow": null,
       "grid_auto_rows": null,
       "grid_column": null,
       "grid_gap": null,
       "grid_row": null,
       "grid_template_areas": null,
       "grid_template_columns": null,
       "grid_template_rows": null,
       "height": null,
       "justify_content": null,
       "justify_items": null,
       "left": null,
       "margin": null,
       "max_height": null,
       "max_width": null,
       "min_height": null,
       "min_width": null,
       "object_fit": null,
       "object_position": null,
       "order": null,
       "overflow": null,
       "overflow_x": null,
       "overflow_y": null,
       "padding": null,
       "right": null,
       "top": null,
       "visibility": null,
       "width": null
      }
     },
     "16fa2c520ee143f5b3c4117623341924": {
      "model_module": "@jupyter-widgets/controls",
      "model_module_version": "1.5.0",
      "model_name": "HTMLModel",
      "state": {
       "_dom_classes": [],
       "_model_module": "@jupyter-widgets/controls",
       "_model_module_version": "1.5.0",
       "_model_name": "HTMLModel",
       "_view_count": null,
       "_view_module": "@jupyter-widgets/controls",
       "_view_module_version": "1.5.0",
       "_view_name": "HTMLView",
       "description": "",
       "description_tooltip": null,
       "layout": "IPY_MODEL_240d6f11c3914e62ad3cb55794d94fac",
       "placeholder": "​",
       "style": "IPY_MODEL_7c8ebff000054ca2bc6a51bfbba7c13d",
       "value": " 5.60k/? [00:00&lt;00:00, 355kB/s]"
      }
     },
     "17d22c098fca4cf4b455229e776694c0": {
      "model_module": "@jupyter-widgets/base",
      "model_module_version": "1.2.0",
      "model_name": "LayoutModel",
      "state": {
       "_model_module": "@jupyter-widgets/base",
       "_model_module_version": "1.2.0",
       "_model_name": "LayoutModel",
       "_view_count": null,
       "_view_module": "@jupyter-widgets/base",
       "_view_module_version": "1.2.0",
       "_view_name": "LayoutView",
       "align_content": null,
       "align_items": null,
       "align_self": null,
       "border": null,
       "bottom": null,
       "display": null,
       "flex": null,
       "flex_flow": null,
       "grid_area": null,
       "grid_auto_columns": null,
       "grid_auto_flow": null,
       "grid_auto_rows": null,
       "grid_column": null,
       "grid_gap": null,
       "grid_row": null,
       "grid_template_areas": null,
       "grid_template_columns": null,
       "grid_template_rows": null,
       "height": null,
       "justify_content": null,
       "justify_items": null,
       "left": null,
       "margin": null,
       "max_height": null,
       "max_width": null,
       "min_height": null,
       "min_width": null,
       "object_fit": null,
       "object_position": null,
       "order": null,
       "overflow": null,
       "overflow_x": null,
       "overflow_y": null,
       "padding": null,
       "right": null,
       "top": null,
       "visibility": null,
       "width": null
      }
     },
     "1a2d34f32de84702860800299d9c870f": {
      "model_module": "@jupyter-widgets/controls",
      "model_module_version": "1.5.0",
      "model_name": "DescriptionStyleModel",
      "state": {
       "_model_module": "@jupyter-widgets/controls",
       "_model_module_version": "1.5.0",
       "_model_name": "DescriptionStyleModel",
       "_view_count": null,
       "_view_module": "@jupyter-widgets/base",
       "_view_module_version": "1.2.0",
       "_view_name": "StyleView",
       "description_width": ""
      }
     },
     "1ec8909698cd47d593f705a25022cf42": {
      "model_module": "@jupyter-widgets/controls",
      "model_module_version": "1.5.0",
      "model_name": "FloatProgressModel",
      "state": {
       "_dom_classes": [],
       "_model_module": "@jupyter-widgets/controls",
       "_model_module_version": "1.5.0",
       "_model_name": "FloatProgressModel",
       "_view_count": null,
       "_view_module": "@jupyter-widgets/controls",
       "_view_module_version": "1.5.0",
       "_view_name": "ProgressView",
       "bar_style": "success",
       "description": "",
       "description_tooltip": null,
       "layout": "IPY_MODEL_2a845000532044eba76b2e43fbf4d29a",
       "max": 147.0,
       "min": 0.0,
       "orientation": "horizontal",
       "style": "IPY_MODEL_932b35b6d8db4e97b1ffe0041614de3b",
       "value": 147.0
      }
     },
     "2066e0899d9d49ac9447b80adebf0fe5": {
      "model_module": "@jupyter-widgets/controls",
      "model_module_version": "1.5.0",
      "model_name": "HTMLModel",
      "state": {
       "_dom_classes": [],
       "_model_module": "@jupyter-widgets/controls",
       "_model_module_version": "1.5.0",
       "_model_name": "HTMLModel",
       "_view_count": null,
       "_view_module": "@jupyter-widgets/controls",
       "_view_module_version": "1.5.0",
       "_view_name": "HTMLView",
       "description": "",
       "description_tooltip": null,
       "layout": "IPY_MODEL_d67f5f74ccba4529ab8628b7e9a551aa",
       "placeholder": "​",
       "style": "IPY_MODEL_c5aec39d059f472d8775861832eabf0d",
       "value": "Downloading (…)lve/main/config.json: 100%"
      }
     },
     "240d6f11c3914e62ad3cb55794d94fac": {
      "model_module": "@jupyter-widgets/base",
      "model_module_version": "1.2.0",
      "model_name": "LayoutModel",
      "state": {
       "_model_module": "@jupyter-widgets/base",
       "_model_module_version": "1.2.0",
       "_model_name": "LayoutModel",
       "_view_count": null,
       "_view_module": "@jupyter-widgets/base",
       "_view_module_version": "1.2.0",
       "_view_name": "LayoutView",
       "align_content": null,
       "align_items": null,
       "align_self": null,
       "border": null,
       "bottom": null,
       "display": null,
       "flex": null,
       "flex_flow": null,
       "grid_area": null,
       "grid_auto_columns": null,
       "grid_auto_flow": null,
       "grid_auto_rows": null,
       "grid_column": null,
       "grid_gap": null,
       "grid_row": null,
       "grid_template_areas": null,
       "grid_template_columns": null,
       "grid_template_rows": null,
       "height": null,
       "justify_content": null,
       "justify_items": null,
       "left": null,
       "margin": null,
       "max_height": null,
       "max_width": null,
       "min_height": null,
       "min_width": null,
       "object_fit": null,
       "object_position": null,
       "order": null,
       "overflow": null,
       "overflow_x": null,
       "overflow_y": null,
       "padding": null,
       "right": null,
       "top": null,
       "visibility": null,
       "width": null
      }
     },
     "289be1311012404e86e120733cc1c918": {
      "model_module": "@jupyter-widgets/controls",
      "model_module_version": "1.5.0",
      "model_name": "HBoxModel",
      "state": {
       "_dom_classes": [],
       "_model_module": "@jupyter-widgets/controls",
       "_model_module_version": "1.5.0",
       "_model_name": "HBoxModel",
       "_view_count": null,
       "_view_module": "@jupyter-widgets/controls",
       "_view_module_version": "1.5.0",
       "_view_name": "HBoxView",
       "box_style": "",
       "children": [
        "IPY_MODEL_aec27aba98dd4bf0ac2e0ea854b17faa",
        "IPY_MODEL_125201e922f74f90ad12806d5ec94285",
        "IPY_MODEL_0ce018c113ee416faba58ab86db9d9e3"
       ],
       "layout": "IPY_MODEL_a07a803b5f44443284aa40922a1568a3"
      }
     },
     "2a845000532044eba76b2e43fbf4d29a": {
      "model_module": "@jupyter-widgets/base",
      "model_module_version": "1.2.0",
      "model_name": "LayoutModel",
      "state": {
       "_model_module": "@jupyter-widgets/base",
       "_model_module_version": "1.2.0",
       "_model_name": "LayoutModel",
       "_view_count": null,
       "_view_module": "@jupyter-widgets/base",
       "_view_module_version": "1.2.0",
       "_view_name": "LayoutView",
       "align_content": null,
       "align_items": null,
       "align_self": null,
       "border": null,
       "bottom": null,
       "display": null,
       "flex": null,
       "flex_flow": null,
       "grid_area": null,
       "grid_auto_columns": null,
       "grid_auto_flow": null,
       "grid_auto_rows": null,
       "grid_column": null,
       "grid_gap": null,
       "grid_row": null,
       "grid_template_areas": null,
       "grid_template_columns": null,
       "grid_template_rows": null,
       "height": null,
       "justify_content": null,
       "justify_items": null,
       "left": null,
       "margin": null,
       "max_height": null,
       "max_width": null,
       "min_height": null,
       "min_width": null,
       "object_fit": null,
       "object_position": null,
       "order": null,
       "overflow": null,
       "overflow_x": null,
       "overflow_y": null,
       "padding": null,
       "right": null,
       "top": null,
       "visibility": null,
       "width": null
      }
     },
     "2b55e9e8745241d7a956b527fe9691c0": {
      "model_module": "@jupyter-widgets/controls",
      "model_module_version": "1.5.0",
      "model_name": "DescriptionStyleModel",
      "state": {
       "_model_module": "@jupyter-widgets/controls",
       "_model_module_version": "1.5.0",
       "_model_name": "DescriptionStyleModel",
       "_view_count": null,
       "_view_module": "@jupyter-widgets/base",
       "_view_module_version": "1.2.0",
       "_view_name": "StyleView",
       "description_width": ""
      }
     },
     "30b47059a1844c23935fa7391a461633": {
      "model_module": "@jupyter-widgets/base",
      "model_module_version": "1.2.0",
      "model_name": "LayoutModel",
      "state": {
       "_model_module": "@jupyter-widgets/base",
       "_model_module_version": "1.2.0",
       "_model_name": "LayoutModel",
       "_view_count": null,
       "_view_module": "@jupyter-widgets/base",
       "_view_module_version": "1.2.0",
       "_view_name": "LayoutView",
       "align_content": null,
       "align_items": null,
       "align_self": null,
       "border": null,
       "bottom": null,
       "display": null,
       "flex": null,
       "flex_flow": null,
       "grid_area": null,
       "grid_auto_columns": null,
       "grid_auto_flow": null,
       "grid_auto_rows": null,
       "grid_column": null,
       "grid_gap": null,
       "grid_row": null,
       "grid_template_areas": null,
       "grid_template_columns": null,
       "grid_template_rows": null,
       "height": null,
       "justify_content": null,
       "justify_items": null,
       "left": null,
       "margin": null,
       "max_height": null,
       "max_width": null,
       "min_height": null,
       "min_width": null,
       "object_fit": null,
       "object_position": null,
       "order": null,
       "overflow": null,
       "overflow_x": null,
       "overflow_y": null,
       "padding": null,
       "right": null,
       "top": null,
       "visibility": null,
       "width": null
      }
     },
     "343ef0e94c0241c49aa7a1a6190def59": {
      "model_module": "@jupyter-widgets/base",
      "model_module_version": "1.2.0",
      "model_name": "LayoutModel",
      "state": {
       "_model_module": "@jupyter-widgets/base",
       "_model_module_version": "1.2.0",
       "_model_name": "LayoutModel",
       "_view_count": null,
       "_view_module": "@jupyter-widgets/base",
       "_view_module_version": "1.2.0",
       "_view_name": "LayoutView",
       "align_content": null,
       "align_items": null,
       "align_self": null,
       "border": null,
       "bottom": null,
       "display": null,
       "flex": null,
       "flex_flow": null,
       "grid_area": null,
       "grid_auto_columns": null,
       "grid_auto_flow": null,
       "grid_auto_rows": null,
       "grid_column": null,
       "grid_gap": null,
       "grid_row": null,
       "grid_template_areas": null,
       "grid_template_columns": null,
       "grid_template_rows": null,
       "height": null,
       "justify_content": null,
       "justify_items": null,
       "left": null,
       "margin": null,
       "max_height": null,
       "max_width": null,
       "min_height": null,
       "min_width": null,
       "object_fit": null,
       "object_position": null,
       "order": null,
       "overflow": null,
       "overflow_x": null,
       "overflow_y": null,
       "padding": null,
       "right": null,
       "top": null,
       "visibility": null,
       "width": null
      }
     },
     "3505fcf2630e4f6592a34cb5dcd7e3b9": {
      "model_module": "@jupyter-widgets/controls",
      "model_module_version": "1.5.0",
      "model_name": "HTMLModel",
      "state": {
       "_dom_classes": [],
       "_model_module": "@jupyter-widgets/controls",
       "_model_module_version": "1.5.0",
       "_model_name": "HTMLModel",
       "_view_count": null,
       "_view_module": "@jupyter-widgets/controls",
       "_view_module_version": "1.5.0",
       "_view_name": "HTMLView",
       "description": "",
       "description_tooltip": null,
       "layout": "IPY_MODEL_343ef0e94c0241c49aa7a1a6190def59",
       "placeholder": "​",
       "style": "IPY_MODEL_1a2d34f32de84702860800299d9c870f",
       "value": " 1.39M/1.39M [00:00&lt;00:00, 4.28MB/s]"
      }
     },
     "36f75d10513c4a61b4dea4dbc29096e0": {
      "model_module": "@jupyter-widgets/controls",
      "model_module_version": "1.5.0",
      "model_name": "DescriptionStyleModel",
      "state": {
       "_model_module": "@jupyter-widgets/controls",
       "_model_module_version": "1.5.0",
       "_model_name": "DescriptionStyleModel",
       "_view_count": null,
       "_view_module": "@jupyter-widgets/base",
       "_view_module_version": "1.2.0",
       "_view_name": "StyleView",
       "description_width": ""
      }
     },
     "381f00c9d93d43c590551d82aaf18396": {
      "model_module": "@jupyter-widgets/base",
      "model_module_version": "1.2.0",
      "model_name": "LayoutModel",
      "state": {
       "_model_module": "@jupyter-widgets/base",
       "_model_module_version": "1.2.0",
       "_model_name": "LayoutModel",
       "_view_count": null,
       "_view_module": "@jupyter-widgets/base",
       "_view_module_version": "1.2.0",
       "_view_name": "LayoutView",
       "align_content": null,
       "align_items": null,
       "align_self": null,
       "border": null,
       "bottom": null,
       "display": null,
       "flex": null,
       "flex_flow": null,
       "grid_area": null,
       "grid_auto_columns": null,
       "grid_auto_flow": null,
       "grid_auto_rows": null,
       "grid_column": null,
       "grid_gap": null,
       "grid_row": null,
       "grid_template_areas": null,
       "grid_template_columns": null,
       "grid_template_rows": null,
       "height": null,
       "justify_content": null,
       "justify_items": null,
       "left": null,
       "margin": null,
       "max_height": null,
       "max_width": null,
       "min_height": null,
       "min_width": null,
       "object_fit": null,
       "object_position": null,
       "order": null,
       "overflow": null,
       "overflow_x": null,
       "overflow_y": null,
       "padding": null,
       "right": null,
       "top": null,
       "visibility": null,
       "width": null
      }
     },
     "3fbf0bc96111419fa9507c0b5c13fb54": {
      "model_module": "@jupyter-widgets/base",
      "model_module_version": "1.2.0",
      "model_name": "LayoutModel",
      "state": {
       "_model_module": "@jupyter-widgets/base",
       "_model_module_version": "1.2.0",
       "_model_name": "LayoutModel",
       "_view_count": null,
       "_view_module": "@jupyter-widgets/base",
       "_view_module_version": "1.2.0",
       "_view_name": "LayoutView",
       "align_content": null,
       "align_items": null,
       "align_self": null,
       "border": null,
       "bottom": null,
       "display": null,
       "flex": null,
       "flex_flow": null,
       "grid_area": null,
       "grid_auto_columns": null,
       "grid_auto_flow": null,
       "grid_auto_rows": null,
       "grid_column": null,
       "grid_gap": null,
       "grid_row": null,
       "grid_template_areas": null,
       "grid_template_columns": null,
       "grid_template_rows": null,
       "height": null,
       "justify_content": null,
       "justify_items": null,
       "left": null,
       "margin": null,
       "max_height": null,
       "max_width": null,
       "min_height": null,
       "min_width": null,
       "object_fit": null,
       "object_position": null,
       "order": null,
       "overflow": null,
       "overflow_x": null,
       "overflow_y": null,
       "padding": null,
       "right": null,
       "top": null,
       "visibility": null,
       "width": null
      }
     },
     "46e109e473a445f9908f3a54bdb4ad5f": {
      "model_module": "@jupyter-widgets/controls",
      "model_module_version": "1.5.0",
      "model_name": "HBoxModel",
      "state": {
       "_dom_classes": [],
       "_model_module": "@jupyter-widgets/controls",
       "_model_module_version": "1.5.0",
       "_model_name": "HBoxModel",
       "_view_count": null,
       "_view_module": "@jupyter-widgets/controls",
       "_view_module_version": "1.5.0",
       "_view_name": "HBoxView",
       "box_style": "",
       "children": [
        "IPY_MODEL_7edb6edd52cf48c0b8be3a2a70dd996d",
        "IPY_MODEL_cfd35ec37ec2430eac0b167556f177c8",
        "IPY_MODEL_05565c862ea94f29bd403f827cfa9757"
       ],
       "layout": "IPY_MODEL_8e1d92993fc9479e9afa0e146a6eb98a"
      }
     },
     "4f3eda5461be4a98ac0b3fb8ab558551": {
      "model_module": "@jupyter-widgets/controls",
      "model_module_version": "1.5.0",
      "model_name": "HTMLModel",
      "state": {
       "_dom_classes": [],
       "_model_module": "@jupyter-widgets/controls",
       "_model_module_version": "1.5.0",
       "_model_name": "HTMLModel",
       "_view_count": null,
       "_view_module": "@jupyter-widgets/controls",
       "_view_module_version": "1.5.0",
       "_view_name": "HTMLView",
       "description": "",
       "description_tooltip": null,
       "layout": "IPY_MODEL_b13ca5f15370473895956d617d3fb711",
       "placeholder": "​",
       "style": "IPY_MODEL_86f0d9b2a3f64ac18996de255dcf782b",
       "value": " 1.21k/1.21k [00:00&lt;00:00, 83.5kB/s]"
      }
     },
     "507b50a598c9456086696e7995e53c8c": {
      "model_module": "@jupyter-widgets/controls",
      "model_module_version": "1.5.0",
      "model_name": "ProgressStyleModel",
      "state": {
       "_model_module": "@jupyter-widgets/controls",
       "_model_module_version": "1.5.0",
       "_model_name": "ProgressStyleModel",
       "_view_count": null,
       "_view_module": "@jupyter-widgets/base",
       "_view_module_version": "1.2.0",
       "_view_name": "StyleView",
       "bar_color": null,
       "description_width": ""
      }
     },
     "5b20e7a2a16a4584ac62e310c1dc9d9c": {
      "model_module": "@jupyter-widgets/controls",
      "model_module_version": "1.5.0",
      "model_name": "DescriptionStyleModel",
      "state": {
       "_model_module": "@jupyter-widgets/controls",
       "_model_module_version": "1.5.0",
       "_model_name": "DescriptionStyleModel",
       "_view_count": null,
       "_view_module": "@jupyter-widgets/base",
       "_view_module_version": "1.2.0",
       "_view_name": "StyleView",
       "description_width": ""
      }
     },
     "6173c028dc2c4a948a37e6e68f4e804f": {
      "model_module": "@jupyter-widgets/controls",
      "model_module_version": "1.5.0",
      "model_name": "ProgressStyleModel",
      "state": {
       "_model_module": "@jupyter-widgets/controls",
       "_model_module_version": "1.5.0",
       "_model_name": "ProgressStyleModel",
       "_view_count": null,
       "_view_module": "@jupyter-widgets/base",
       "_view_module_version": "1.2.0",
       "_view_name": "StyleView",
       "bar_color": null,
       "description_width": ""
      }
     },
     "6565f5512d0845daad35e60737eae0f5": {
      "model_module": "@jupyter-widgets/base",
      "model_module_version": "1.2.0",
      "model_name": "LayoutModel",
      "state": {
       "_model_module": "@jupyter-widgets/base",
       "_model_module_version": "1.2.0",
       "_model_name": "LayoutModel",
       "_view_count": null,
       "_view_module": "@jupyter-widgets/base",
       "_view_module_version": "1.2.0",
       "_view_name": "LayoutView",
       "align_content": null,
       "align_items": null,
       "align_self": null,
       "border": null,
       "bottom": null,
       "display": null,
       "flex": null,
       "flex_flow": null,
       "grid_area": null,
       "grid_auto_columns": null,
       "grid_auto_flow": null,
       "grid_auto_rows": null,
       "grid_column": null,
       "grid_gap": null,
       "grid_row": null,
       "grid_template_areas": null,
       "grid_template_columns": null,
       "grid_template_rows": null,
       "height": null,
       "justify_content": null,
       "justify_items": null,
       "left": null,
       "margin": null,
       "max_height": null,
       "max_width": null,
       "min_height": null,
       "min_width": null,
       "object_fit": null,
       "object_position": null,
       "order": null,
       "overflow": null,
       "overflow_x": null,
       "overflow_y": null,
       "padding": null,
       "right": null,
       "top": null,
       "visibility": null,
       "width": null
      }
     },
     "7a436bb1041649f99b99ef4971370bca": {
      "model_module": "@jupyter-widgets/controls",
      "model_module_version": "1.5.0",
      "model_name": "HBoxModel",
      "state": {
       "_dom_classes": [],
       "_model_module": "@jupyter-widgets/controls",
       "_model_module_version": "1.5.0",
       "_model_name": "HBoxModel",
       "_view_count": null,
       "_view_module": "@jupyter-widgets/controls",
       "_view_module_version": "1.5.0",
       "_view_name": "HBoxView",
       "box_style": "",
       "children": [
        "IPY_MODEL_ab78865bba884ad59b8f75d9826bdbcf",
        "IPY_MODEL_d5831b67259a4f7d8a6b7165f523d081",
        "IPY_MODEL_16fa2c520ee143f5b3c4117623341924"
       ],
       "layout": "IPY_MODEL_17d22c098fca4cf4b455229e776694c0"
      }
     },
     "7c8ebff000054ca2bc6a51bfbba7c13d": {
      "model_module": "@jupyter-widgets/controls",
      "model_module_version": "1.5.0",
      "model_name": "DescriptionStyleModel",
      "state": {
       "_model_module": "@jupyter-widgets/controls",
       "_model_module_version": "1.5.0",
       "_model_name": "DescriptionStyleModel",
       "_view_count": null,
       "_view_module": "@jupyter-widgets/base",
       "_view_module_version": "1.2.0",
       "_view_name": "StyleView",
       "description_width": ""
      }
     },
     "7edb6edd52cf48c0b8be3a2a70dd996d": {
      "model_module": "@jupyter-widgets/controls",
      "model_module_version": "1.5.0",
      "model_name": "HTMLModel",
      "state": {
       "_dom_classes": [],
       "_model_module": "@jupyter-widgets/controls",
       "_model_module_version": "1.5.0",
       "_model_name": "HTMLModel",
       "_view_count": null,
       "_view_module": "@jupyter-widgets/controls",
       "_view_module_version": "1.5.0",
       "_view_name": "HTMLView",
       "description": "",
       "description_tooltip": null,
       "layout": "IPY_MODEL_0f50a9be140448bab23dff1efc83e3e8",
       "placeholder": "​",
       "style": "IPY_MODEL_c7354fc12c1046b496a4d8305882d199",
       "value": "Downloading (…)ve/main/spiece.model: 100%"
      }
     },
     "7ff940fafed24d619ceadb14608099a5": {
      "model_module": "@jupyter-widgets/controls",
      "model_module_version": "1.5.0",
      "model_name": "DescriptionStyleModel",
      "state": {
       "_model_module": "@jupyter-widgets/controls",
       "_model_module_version": "1.5.0",
       "_model_name": "DescriptionStyleModel",
       "_view_count": null,
       "_view_module": "@jupyter-widgets/base",
       "_view_module_version": "1.2.0",
       "_view_name": "StyleView",
       "description_width": ""
      }
     },
     "86f0d9b2a3f64ac18996de255dcf782b": {
      "model_module": "@jupyter-widgets/controls",
      "model_module_version": "1.5.0",
      "model_name": "DescriptionStyleModel",
      "state": {
       "_model_module": "@jupyter-widgets/controls",
       "_model_module_version": "1.5.0",
       "_model_name": "DescriptionStyleModel",
       "_view_count": null,
       "_view_module": "@jupyter-widgets/base",
       "_view_module_version": "1.2.0",
       "_view_name": "StyleView",
       "description_width": ""
      }
     },
     "8812845c3022499eb70670fd87f58df6": {
      "model_module": "@jupyter-widgets/controls",
      "model_module_version": "1.5.0",
      "model_name": "DescriptionStyleModel",
      "state": {
       "_model_module": "@jupyter-widgets/controls",
       "_model_module_version": "1.5.0",
       "_model_name": "DescriptionStyleModel",
       "_view_count": null,
       "_view_module": "@jupyter-widgets/base",
       "_view_module_version": "1.2.0",
       "_view_name": "StyleView",
       "description_width": ""
      }
     },
     "8e1d92993fc9479e9afa0e146a6eb98a": {
      "model_module": "@jupyter-widgets/base",
      "model_module_version": "1.2.0",
      "model_name": "LayoutModel",
      "state": {
       "_model_module": "@jupyter-widgets/base",
       "_model_module_version": "1.2.0",
       "_model_name": "LayoutModel",
       "_view_count": null,
       "_view_module": "@jupyter-widgets/base",
       "_view_module_version": "1.2.0",
       "_view_name": "LayoutView",
       "align_content": null,
       "align_items": null,
       "align_self": null,
       "border": null,
       "bottom": null,
       "display": null,
       "flex": null,
       "flex_flow": null,
       "grid_area": null,
       "grid_auto_columns": null,
       "grid_auto_flow": null,
       "grid_auto_rows": null,
       "grid_column": null,
       "grid_gap": null,
       "grid_row": null,
       "grid_template_areas": null,
       "grid_template_columns": null,
       "grid_template_rows": null,
       "height": null,
       "justify_content": null,
       "justify_items": null,
       "left": null,
       "margin": null,
       "max_height": null,
       "max_width": null,
       "min_height": null,
       "min_width": null,
       "object_fit": null,
       "object_position": null,
       "order": null,
       "overflow": null,
       "overflow_x": null,
       "overflow_y": null,
       "padding": null,
       "right": null,
       "top": null,
       "visibility": null,
       "width": null
      }
     },
     "8f2c6063548943228d9485005663ab62": {
      "model_module": "@jupyter-widgets/controls",
      "model_module_version": "1.5.0",
      "model_name": "HTMLModel",
      "state": {
       "_dom_classes": [],
       "_model_module": "@jupyter-widgets/controls",
       "_model_module_version": "1.5.0",
       "_model_name": "HTMLModel",
       "_view_count": null,
       "_view_module": "@jupyter-widgets/controls",
       "_view_module_version": "1.5.0",
       "_view_name": "HTMLView",
       "description": "",
       "description_tooltip": null,
       "layout": "IPY_MODEL_3fbf0bc96111419fa9507c0b5c13fb54",
       "placeholder": "​",
       "style": "IPY_MODEL_8812845c3022499eb70670fd87f58df6",
       "value": "Downloading (…)/main/tokenizer.json: 100%"
      }
     },
     "932b35b6d8db4e97b1ffe0041614de3b": {
      "model_module": "@jupyter-widgets/controls",
      "model_module_version": "1.5.0",
      "model_name": "ProgressStyleModel",
      "state": {
       "_model_module": "@jupyter-widgets/controls",
       "_model_module_version": "1.5.0",
       "_model_name": "ProgressStyleModel",
       "_view_count": null,
       "_view_module": "@jupyter-widgets/base",
       "_view_module_version": "1.2.0",
       "_view_name": "StyleView",
       "bar_color": null,
       "description_width": ""
      }
     },
     "9c4044026d354491b100dfcffbd9ef82": {
      "model_module": "@jupyter-widgets/controls",
      "model_module_version": "1.5.0",
      "model_name": "ProgressStyleModel",
      "state": {
       "_model_module": "@jupyter-widgets/controls",
       "_model_module_version": "1.5.0",
       "_model_name": "ProgressStyleModel",
       "_view_count": null,
       "_view_module": "@jupyter-widgets/base",
       "_view_module_version": "1.2.0",
       "_view_name": "StyleView",
       "bar_color": null,
       "description_width": ""
      }
     },
     "9f5704ff834446a7ac6b1c986dfa4236": {
      "model_module": "@jupyter-widgets/controls",
      "model_module_version": "1.5.0",
      "model_name": "ProgressStyleModel",
      "state": {
       "_model_module": "@jupyter-widgets/controls",
       "_model_module_version": "1.5.0",
       "_model_name": "ProgressStyleModel",
       "_view_count": null,
       "_view_module": "@jupyter-widgets/base",
       "_view_module_version": "1.2.0",
       "_view_name": "StyleView",
       "bar_color": null,
       "description_width": ""
      }
     },
     "a07a803b5f44443284aa40922a1568a3": {
      "model_module": "@jupyter-widgets/base",
      "model_module_version": "1.2.0",
      "model_name": "LayoutModel",
      "state": {
       "_model_module": "@jupyter-widgets/base",
       "_model_module_version": "1.2.0",
       "_model_name": "LayoutModel",
       "_view_count": null,
       "_view_module": "@jupyter-widgets/base",
       "_view_module_version": "1.2.0",
       "_view_name": "LayoutView",
       "align_content": null,
       "align_items": null,
       "align_self": null,
       "border": null,
       "bottom": null,
       "display": null,
       "flex": null,
       "flex_flow": null,
       "grid_area": null,
       "grid_auto_columns": null,
       "grid_auto_flow": null,
       "grid_auto_rows": null,
       "grid_column": null,
       "grid_gap": null,
       "grid_row": null,
       "grid_template_areas": null,
       "grid_template_columns": null,
       "grid_template_rows": null,
       "height": null,
       "justify_content": null,
       "justify_items": null,
       "left": null,
       "margin": null,
       "max_height": null,
       "max_width": null,
       "min_height": null,
       "min_width": null,
       "object_fit": null,
       "object_position": null,
       "order": null,
       "overflow": null,
       "overflow_x": null,
       "overflow_y": null,
       "padding": null,
       "right": null,
       "top": null,
       "visibility": null,
       "width": null
      }
     },
     "a530a49c81b148cb9f7078a891cb1fdc": {
      "model_module": "@jupyter-widgets/base",
      "model_module_version": "1.2.0",
      "model_name": "LayoutModel",
      "state": {
       "_model_module": "@jupyter-widgets/base",
       "_model_module_version": "1.2.0",
       "_model_name": "LayoutModel",
       "_view_count": null,
       "_view_module": "@jupyter-widgets/base",
       "_view_module_version": "1.2.0",
       "_view_name": "LayoutView",
       "align_content": null,
       "align_items": null,
       "align_self": null,
       "border": null,
       "bottom": null,
       "display": null,
       "flex": null,
       "flex_flow": null,
       "grid_area": null,
       "grid_auto_columns": null,
       "grid_auto_flow": null,
       "grid_auto_rows": null,
       "grid_column": null,
       "grid_gap": null,
       "grid_row": null,
       "grid_template_areas": null,
       "grid_template_columns": null,
       "grid_template_rows": null,
       "height": null,
       "justify_content": null,
       "justify_items": null,
       "left": null,
       "margin": null,
       "max_height": null,
       "max_width": null,
       "min_height": null,
       "min_width": null,
       "object_fit": null,
       "object_position": null,
       "order": null,
       "overflow": null,
       "overflow_x": null,
       "overflow_y": null,
       "padding": null,
       "right": null,
       "top": null,
       "visibility": null,
       "width": null
      }
     },
     "aacc36bb0e4444aeaf00a35d1772e0f8": {
      "model_module": "@jupyter-widgets/controls",
      "model_module_version": "1.5.0",
      "model_name": "HBoxModel",
      "state": {
       "_dom_classes": [],
       "_model_module": "@jupyter-widgets/controls",
       "_model_module_version": "1.5.0",
       "_model_name": "HBoxModel",
       "_view_count": null,
       "_view_module": "@jupyter-widgets/controls",
       "_view_module_version": "1.5.0",
       "_view_name": "HBoxView",
       "box_style": "",
       "children": [
        "IPY_MODEL_008fb427939942b28c0ddcd53bd8c1f2",
        "IPY_MODEL_1ec8909698cd47d593f705a25022cf42",
        "IPY_MODEL_d3f7ba815e654fa19fa2c2395de7101b"
       ],
       "layout": "IPY_MODEL_ec552382d5d648999dc65ba4979cfe27"
      }
     },
     "ab78865bba884ad59b8f75d9826bdbcf": {
      "model_module": "@jupyter-widgets/controls",
      "model_module_version": "1.5.0",
      "model_name": "HTMLModel",
      "state": {
       "_dom_classes": [],
       "_model_module": "@jupyter-widgets/controls",
       "_model_module_version": "1.5.0",
       "_model_name": "HTMLModel",
       "_view_count": null,
       "_view_module": "@jupyter-widgets/controls",
       "_view_module_version": "1.5.0",
       "_view_name": "HTMLView",
       "description": "",
       "description_tooltip": null,
       "layout": "IPY_MODEL_e20ee00aff044567b7745cd698d37686",
       "placeholder": "​",
       "style": "IPY_MODEL_2b55e9e8745241d7a956b527fe9691c0",
       "value": "Downloading builder script: "
      }
     },
     "aec27aba98dd4bf0ac2e0ea854b17faa": {
      "model_module": "@jupyter-widgets/controls",
      "model_module_version": "1.5.0",
      "model_name": "HTMLModel",
      "state": {
       "_dom_classes": [],
       "_model_module": "@jupyter-widgets/controls",
       "_model_module_version": "1.5.0",
       "_model_name": "HTMLModel",
       "_view_count": null,
       "_view_module": "@jupyter-widgets/controls",
       "_view_module_version": "1.5.0",
       "_view_name": "HTMLView",
       "description": "",
       "description_tooltip": null,
       "layout": "IPY_MODEL_a530a49c81b148cb9f7078a891cb1fdc",
       "placeholder": "​",
       "style": "IPY_MODEL_c5e2c25d4d164413ad668da6a0dea8ef",
       "value": "Downloading pytorch_model.bin: 100%"
      }
     },
     "b13ca5f15370473895956d617d3fb711": {
      "model_module": "@jupyter-widgets/base",
      "model_module_version": "1.2.0",
      "model_name": "LayoutModel",
      "state": {
       "_model_module": "@jupyter-widgets/base",
       "_model_module_version": "1.2.0",
       "_model_name": "LayoutModel",
       "_view_count": null,
       "_view_module": "@jupyter-widgets/base",
       "_view_module_version": "1.2.0",
       "_view_name": "LayoutView",
       "align_content": null,
       "align_items": null,
       "align_self": null,
       "border": null,
       "bottom": null,
       "display": null,
       "flex": null,
       "flex_flow": null,
       "grid_area": null,
       "grid_auto_columns": null,
       "grid_auto_flow": null,
       "grid_auto_rows": null,
       "grid_column": null,
       "grid_gap": null,
       "grid_row": null,
       "grid_template_areas": null,
       "grid_template_columns": null,
       "grid_template_rows": null,
       "height": null,
       "justify_content": null,
       "justify_items": null,
       "left": null,
       "margin": null,
       "max_height": null,
       "max_width": null,
       "min_height": null,
       "min_width": null,
       "object_fit": null,
       "object_position": null,
       "order": null,
       "overflow": null,
       "overflow_x": null,
       "overflow_y": null,
       "padding": null,
       "right": null,
       "top": null,
       "visibility": null,
       "width": null
      }
     },
     "b776bd169544481fb103ff39cf0ba66c": {
      "model_module": "@jupyter-widgets/base",
      "model_module_version": "1.2.0",
      "model_name": "LayoutModel",
      "state": {
       "_model_module": "@jupyter-widgets/base",
       "_model_module_version": "1.2.0",
       "_model_name": "LayoutModel",
       "_view_count": null,
       "_view_module": "@jupyter-widgets/base",
       "_view_module_version": "1.2.0",
       "_view_name": "LayoutView",
       "align_content": null,
       "align_items": null,
       "align_self": null,
       "border": null,
       "bottom": null,
       "display": null,
       "flex": null,
       "flex_flow": null,
       "grid_area": null,
       "grid_auto_columns": null,
       "grid_auto_flow": null,
       "grid_auto_rows": null,
       "grid_column": null,
       "grid_gap": null,
       "grid_row": null,
       "grid_template_areas": null,
       "grid_template_columns": null,
       "grid_template_rows": null,
       "height": null,
       "justify_content": null,
       "justify_items": null,
       "left": null,
       "margin": null,
       "max_height": null,
       "max_width": null,
       "min_height": null,
       "min_width": null,
       "object_fit": null,
       "object_position": null,
       "order": null,
       "overflow": null,
       "overflow_x": null,
       "overflow_y": null,
       "padding": null,
       "right": null,
       "top": null,
       "visibility": null,
       "width": null
      }
     },
     "c5aec39d059f472d8775861832eabf0d": {
      "model_module": "@jupyter-widgets/controls",
      "model_module_version": "1.5.0",
      "model_name": "DescriptionStyleModel",
      "state": {
       "_model_module": "@jupyter-widgets/controls",
       "_model_module_version": "1.5.0",
       "_model_name": "DescriptionStyleModel",
       "_view_count": null,
       "_view_module": "@jupyter-widgets/base",
       "_view_module_version": "1.2.0",
       "_view_name": "StyleView",
       "description_width": ""
      }
     },
     "c5e2c25d4d164413ad668da6a0dea8ef": {
      "model_module": "@jupyter-widgets/controls",
      "model_module_version": "1.5.0",
      "model_name": "DescriptionStyleModel",
      "state": {
       "_model_module": "@jupyter-widgets/controls",
       "_model_module_version": "1.5.0",
       "_model_name": "DescriptionStyleModel",
       "_view_count": null,
       "_view_module": "@jupyter-widgets/base",
       "_view_module_version": "1.2.0",
       "_view_name": "StyleView",
       "description_width": ""
      }
     },
     "c7354fc12c1046b496a4d8305882d199": {
      "model_module": "@jupyter-widgets/controls",
      "model_module_version": "1.5.0",
      "model_name": "DescriptionStyleModel",
      "state": {
       "_model_module": "@jupyter-widgets/controls",
       "_model_module_version": "1.5.0",
       "_model_name": "DescriptionStyleModel",
       "_view_count": null,
       "_view_module": "@jupyter-widgets/base",
       "_view_module_version": "1.2.0",
       "_view_name": "StyleView",
       "description_width": ""
      }
     },
     "ca1250a3a8ae4b868f5be5ff05ae1ef9": {
      "model_module": "@jupyter-widgets/base",
      "model_module_version": "1.2.0",
      "model_name": "LayoutModel",
      "state": {
       "_model_module": "@jupyter-widgets/base",
       "_model_module_version": "1.2.0",
       "_model_name": "LayoutModel",
       "_view_count": null,
       "_view_module": "@jupyter-widgets/base",
       "_view_module_version": "1.2.0",
       "_view_name": "LayoutView",
       "align_content": null,
       "align_items": null,
       "align_self": null,
       "border": null,
       "bottom": null,
       "display": null,
       "flex": null,
       "flex_flow": null,
       "grid_area": null,
       "grid_auto_columns": null,
       "grid_auto_flow": null,
       "grid_auto_rows": null,
       "grid_column": null,
       "grid_gap": null,
       "grid_row": null,
       "grid_template_areas": null,
       "grid_template_columns": null,
       "grid_template_rows": null,
       "height": null,
       "justify_content": null,
       "justify_items": null,
       "left": null,
       "margin": null,
       "max_height": null,
       "max_width": null,
       "min_height": null,
       "min_width": null,
       "object_fit": null,
       "object_position": null,
       "order": null,
       "overflow": null,
       "overflow_x": null,
       "overflow_y": null,
       "padding": null,
       "right": null,
       "top": null,
       "visibility": null,
       "width": null
      }
     },
     "cf4101934902466f9eb9ed108048720b": {
      "model_module": "@jupyter-widgets/base",
      "model_module_version": "1.2.0",
      "model_name": "LayoutModel",
      "state": {
       "_model_module": "@jupyter-widgets/base",
       "_model_module_version": "1.2.0",
       "_model_name": "LayoutModel",
       "_view_count": null,
       "_view_module": "@jupyter-widgets/base",
       "_view_module_version": "1.2.0",
       "_view_name": "LayoutView",
       "align_content": null,
       "align_items": null,
       "align_self": null,
       "border": null,
       "bottom": null,
       "display": null,
       "flex": null,
       "flex_flow": null,
       "grid_area": null,
       "grid_auto_columns": null,
       "grid_auto_flow": null,
       "grid_auto_rows": null,
       "grid_column": null,
       "grid_gap": null,
       "grid_row": null,
       "grid_template_areas": null,
       "grid_template_columns": null,
       "grid_template_rows": null,
       "height": null,
       "justify_content": null,
       "justify_items": null,
       "left": null,
       "margin": null,
       "max_height": null,
       "max_width": null,
       "min_height": null,
       "min_width": null,
       "object_fit": null,
       "object_position": null,
       "order": null,
       "overflow": null,
       "overflow_x": null,
       "overflow_y": null,
       "padding": null,
       "right": null,
       "top": null,
       "visibility": null,
       "width": null
      }
     },
     "cfd35ec37ec2430eac0b167556f177c8": {
      "model_module": "@jupyter-widgets/controls",
      "model_module_version": "1.5.0",
      "model_name": "FloatProgressModel",
      "state": {
       "_dom_classes": [],
       "_model_module": "@jupyter-widgets/controls",
       "_model_module_version": "1.5.0",
       "_model_name": "FloatProgressModel",
       "_view_count": null,
       "_view_module": "@jupyter-widgets/controls",
       "_view_module_version": "1.5.0",
       "_view_name": "ProgressView",
       "bar_style": "success",
       "description": "",
       "description_tooltip": null,
       "layout": "IPY_MODEL_14590912bf0c408ca976a248120927b9",
       "max": 791656.0,
       "min": 0.0,
       "orientation": "horizontal",
       "style": "IPY_MODEL_507b50a598c9456086696e7995e53c8c",
       "value": 791656.0
      }
     },
     "d3f7ba815e654fa19fa2c2395de7101b": {
      "model_module": "@jupyter-widgets/controls",
      "model_module_version": "1.5.0",
      "model_name": "HTMLModel",
      "state": {
       "_dom_classes": [],
       "_model_module": "@jupyter-widgets/controls",
       "_model_module_version": "1.5.0",
       "_model_name": "HTMLModel",
       "_view_count": null,
       "_view_module": "@jupyter-widgets/controls",
       "_view_module_version": "1.5.0",
       "_view_name": "HTMLView",
       "description": "",
       "description_tooltip": null,
       "layout": "IPY_MODEL_eb888dec105349029ed25f1ec511f237",
       "placeholder": "​",
       "style": "IPY_MODEL_5b20e7a2a16a4584ac62e310c1dc9d9c",
       "value": " 147/147 [00:00&lt;00:00, 10.5kB/s]"
      }
     },
     "d5831b67259a4f7d8a6b7165f523d081": {
      "model_module": "@jupyter-widgets/controls",
      "model_module_version": "1.5.0",
      "model_name": "FloatProgressModel",
      "state": {
       "_dom_classes": [],
       "_model_module": "@jupyter-widgets/controls",
       "_model_module_version": "1.5.0",
       "_model_name": "FloatProgressModel",
       "_view_count": null,
       "_view_module": "@jupyter-widgets/controls",
       "_view_module_version": "1.5.0",
       "_view_name": "ProgressView",
       "bar_style": "success",
       "description": "",
       "description_tooltip": null,
       "layout": "IPY_MODEL_6565f5512d0845daad35e60737eae0f5",
       "max": 2160.0,
       "min": 0.0,
       "orientation": "horizontal",
       "style": "IPY_MODEL_9c4044026d354491b100dfcffbd9ef82",
       "value": 2160.0
      }
     },
     "d67f5f74ccba4529ab8628b7e9a551aa": {
      "model_module": "@jupyter-widgets/base",
      "model_module_version": "1.2.0",
      "model_name": "LayoutModel",
      "state": {
       "_model_module": "@jupyter-widgets/base",
       "_model_module_version": "1.2.0",
       "_model_name": "LayoutModel",
       "_view_count": null,
       "_view_module": "@jupyter-widgets/base",
       "_view_module_version": "1.2.0",
       "_view_name": "LayoutView",
       "align_content": null,
       "align_items": null,
       "align_self": null,
       "border": null,
       "bottom": null,
       "display": null,
       "flex": null,
       "flex_flow": null,
       "grid_area": null,
       "grid_auto_columns": null,
       "grid_auto_flow": null,
       "grid_auto_rows": null,
       "grid_column": null,
       "grid_gap": null,
       "grid_row": null,
       "grid_template_areas": null,
       "grid_template_columns": null,
       "grid_template_rows": null,
       "height": null,
       "justify_content": null,
       "justify_items": null,
       "left": null,
       "margin": null,
       "max_height": null,
       "max_width": null,
       "min_height": null,
       "min_width": null,
       "object_fit": null,
       "object_position": null,
       "order": null,
       "overflow": null,
       "overflow_x": null,
       "overflow_y": null,
       "padding": null,
       "right": null,
       "top": null,
       "visibility": null,
       "width": null
      }
     },
     "d701aacdcff1445383b0cf52fd548c5c": {
      "model_module": "@jupyter-widgets/base",
      "model_module_version": "1.2.0",
      "model_name": "LayoutModel",
      "state": {
       "_model_module": "@jupyter-widgets/base",
       "_model_module_version": "1.2.0",
       "_model_name": "LayoutModel",
       "_view_count": null,
       "_view_module": "@jupyter-widgets/base",
       "_view_module_version": "1.2.0",
       "_view_name": "LayoutView",
       "align_content": null,
       "align_items": null,
       "align_self": null,
       "border": null,
       "bottom": null,
       "display": null,
       "flex": null,
       "flex_flow": null,
       "grid_area": null,
       "grid_auto_columns": null,
       "grid_auto_flow": null,
       "grid_auto_rows": null,
       "grid_column": null,
       "grid_gap": null,
       "grid_row": null,
       "grid_template_areas": null,
       "grid_template_columns": null,
       "grid_template_rows": null,
       "height": null,
       "justify_content": null,
       "justify_items": null,
       "left": null,
       "margin": null,
       "max_height": null,
       "max_width": null,
       "min_height": null,
       "min_width": null,
       "object_fit": null,
       "object_position": null,
       "order": null,
       "overflow": null,
       "overflow_x": null,
       "overflow_y": null,
       "padding": null,
       "right": null,
       "top": null,
       "visibility": null,
       "width": null
      }
     },
     "d908206008da4caaa25c3132398b54ae": {
      "model_module": "@jupyter-widgets/controls",
      "model_module_version": "1.5.0",
      "model_name": "DescriptionStyleModel",
      "state": {
       "_model_module": "@jupyter-widgets/controls",
       "_model_module_version": "1.5.0",
       "_model_name": "DescriptionStyleModel",
       "_view_count": null,
       "_view_module": "@jupyter-widgets/base",
       "_view_module_version": "1.2.0",
       "_view_name": "StyleView",
       "description_width": ""
      }
     },
     "de4f66789b8c43c39fce64d57603b909": {
      "model_module": "@jupyter-widgets/controls",
      "model_module_version": "1.5.0",
      "model_name": "FloatProgressModel",
      "state": {
       "_dom_classes": [],
       "_model_module": "@jupyter-widgets/controls",
       "_model_module_version": "1.5.0",
       "_model_name": "FloatProgressModel",
       "_view_count": null,
       "_view_module": "@jupyter-widgets/controls",
       "_view_module_version": "1.5.0",
       "_view_name": "ProgressView",
       "bar_style": "success",
       "description": "",
       "description_tooltip": null,
       "layout": "IPY_MODEL_ca1250a3a8ae4b868f5be5ff05ae1ef9",
       "max": 1389353.0,
       "min": 0.0,
       "orientation": "horizontal",
       "style": "IPY_MODEL_6173c028dc2c4a948a37e6e68f4e804f",
       "value": 1389353.0
      }
     },
     "e20ee00aff044567b7745cd698d37686": {
      "model_module": "@jupyter-widgets/base",
      "model_module_version": "1.2.0",
      "model_name": "LayoutModel",
      "state": {
       "_model_module": "@jupyter-widgets/base",
       "_model_module_version": "1.2.0",
       "_model_name": "LayoutModel",
       "_view_count": null,
       "_view_module": "@jupyter-widgets/base",
       "_view_module_version": "1.2.0",
       "_view_name": "LayoutView",
       "align_content": null,
       "align_items": null,
       "align_self": null,
       "border": null,
       "bottom": null,
       "display": null,
       "flex": null,
       "flex_flow": null,
       "grid_area": null,
       "grid_auto_columns": null,
       "grid_auto_flow": null,
       "grid_auto_rows": null,
       "grid_column": null,
       "grid_gap": null,
       "grid_row": null,
       "grid_template_areas": null,
       "grid_template_columns": null,
       "grid_template_rows": null,
       "height": null,
       "justify_content": null,
       "justify_items": null,
       "left": null,
       "margin": null,
       "max_height": null,
       "max_width": null,
       "min_height": null,
       "min_width": null,
       "object_fit": null,
       "object_position": null,
       "order": null,
       "overflow": null,
       "overflow_x": null,
       "overflow_y": null,
       "padding": null,
       "right": null,
       "top": null,
       "visibility": null,
       "width": null
      }
     },
     "eb888dec105349029ed25f1ec511f237": {
      "model_module": "@jupyter-widgets/base",
      "model_module_version": "1.2.0",
      "model_name": "LayoutModel",
      "state": {
       "_model_module": "@jupyter-widgets/base",
       "_model_module_version": "1.2.0",
       "_model_name": "LayoutModel",
       "_view_count": null,
       "_view_module": "@jupyter-widgets/base",
       "_view_module_version": "1.2.0",
       "_view_name": "LayoutView",
       "align_content": null,
       "align_items": null,
       "align_self": null,
       "border": null,
       "bottom": null,
       "display": null,
       "flex": null,
       "flex_flow": null,
       "grid_area": null,
       "grid_auto_columns": null,
       "grid_auto_flow": null,
       "grid_auto_rows": null,
       "grid_column": null,
       "grid_gap": null,
       "grid_row": null,
       "grid_template_areas": null,
       "grid_template_columns": null,
       "grid_template_rows": null,
       "height": null,
       "justify_content": null,
       "justify_items": null,
       "left": null,
       "margin": null,
       "max_height": null,
       "max_width": null,
       "min_height": null,
       "min_width": null,
       "object_fit": null,
       "object_position": null,
       "order": null,
       "overflow": null,
       "overflow_x": null,
       "overflow_y": null,
       "padding": null,
       "right": null,
       "top": null,
       "visibility": null,
       "width": null
      }
     },
     "ec552382d5d648999dc65ba4979cfe27": {
      "model_module": "@jupyter-widgets/base",
      "model_module_version": "1.2.0",
      "model_name": "LayoutModel",
      "state": {
       "_model_module": "@jupyter-widgets/base",
       "_model_module_version": "1.2.0",
       "_model_name": "LayoutModel",
       "_view_count": null,
       "_view_module": "@jupyter-widgets/base",
       "_view_module_version": "1.2.0",
       "_view_name": "LayoutView",
       "align_content": null,
       "align_items": null,
       "align_self": null,
       "border": null,
       "bottom": null,
       "display": null,
       "flex": null,
       "flex_flow": null,
       "grid_area": null,
       "grid_auto_columns": null,
       "grid_auto_flow": null,
       "grid_auto_rows": null,
       "grid_column": null,
       "grid_gap": null,
       "grid_row": null,
       "grid_template_areas": null,
       "grid_template_columns": null,
       "grid_template_rows": null,
       "height": null,
       "justify_content": null,
       "justify_items": null,
       "left": null,
       "margin": null,
       "max_height": null,
       "max_width": null,
       "min_height": null,
       "min_width": null,
       "object_fit": null,
       "object_position": null,
       "order": null,
       "overflow": null,
       "overflow_x": null,
       "overflow_y": null,
       "padding": null,
       "right": null,
       "top": null,
       "visibility": null,
       "width": null
      }
     },
     "fbcfc6fcb19a449d9ea90a730826ab76": {
      "model_module": "@jupyter-widgets/base",
      "model_module_version": "1.2.0",
      "model_name": "LayoutModel",
      "state": {
       "_model_module": "@jupyter-widgets/base",
       "_model_module_version": "1.2.0",
       "_model_name": "LayoutModel",
       "_view_count": null,
       "_view_module": "@jupyter-widgets/base",
       "_view_module_version": "1.2.0",
       "_view_name": "LayoutView",
       "align_content": null,
       "align_items": null,
       "align_self": null,
       "border": null,
       "bottom": null,
       "display": null,
       "flex": null,
       "flex_flow": null,
       "grid_area": null,
       "grid_auto_columns": null,
       "grid_auto_flow": null,
       "grid_auto_rows": null,
       "grid_column": null,
       "grid_gap": null,
       "grid_row": null,
       "grid_template_areas": null,
       "grid_template_columns": null,
       "grid_template_rows": null,
       "height": null,
       "justify_content": null,
       "justify_items": null,
       "left": null,
       "margin": null,
       "max_height": null,
       "max_width": null,
       "min_height": null,
       "min_width": null,
       "object_fit": null,
       "object_position": null,
       "order": null,
       "overflow": null,
       "overflow_x": null,
       "overflow_y": null,
       "padding": null,
       "right": null,
       "top": null,
       "visibility": null,
       "width": null
      }
     },
     "fcc611426afd432bbfc6bd889424cf25": {
      "model_module": "@jupyter-widgets/base",
      "model_module_version": "1.2.0",
      "model_name": "LayoutModel",
      "state": {
       "_model_module": "@jupyter-widgets/base",
       "_model_module_version": "1.2.0",
       "_model_name": "LayoutModel",
       "_view_count": null,
       "_view_module": "@jupyter-widgets/base",
       "_view_module_version": "1.2.0",
       "_view_name": "LayoutView",
       "align_content": null,
       "align_items": null,
       "align_self": null,
       "border": null,
       "bottom": null,
       "display": null,
       "flex": null,
       "flex_flow": null,
       "grid_area": null,
       "grid_auto_columns": null,
       "grid_auto_flow": null,
       "grid_auto_rows": null,
       "grid_column": null,
       "grid_gap": null,
       "grid_row": null,
       "grid_template_areas": null,
       "grid_template_columns": null,
       "grid_template_rows": null,
       "height": null,
       "justify_content": null,
       "justify_items": null,
       "left": null,
       "margin": null,
       "max_height": null,
       "max_width": null,
       "min_height": null,
       "min_width": null,
       "object_fit": null,
       "object_position": null,
       "order": null,
       "overflow": null,
       "overflow_x": null,
       "overflow_y": null,
       "padding": null,
       "right": null,
       "top": null,
       "visibility": null,
       "width": null
      }
     }
    },
    "version_major": 2,
    "version_minor": 0
   }
  }
 },
 "nbformat": 4,
 "nbformat_minor": 5
}
