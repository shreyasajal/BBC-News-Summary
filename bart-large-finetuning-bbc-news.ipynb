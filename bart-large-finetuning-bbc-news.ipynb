{
 "cells": [
  {
   "cell_type": "markdown",
   "id": "2167c6d1",
   "metadata": {
    "papermill": {
     "duration": 0.056975,
     "end_time": "2023-05-25T15:21:51.104228",
     "exception": false,
     "start_time": "2023-05-25T15:21:51.047253",
     "status": "completed"
    },
    "tags": []
   },
   "source": [
    "# Install The Required Libraries"
   ]
  },
  {
   "cell_type": "code",
   "execution_count": 1,
   "id": "5fe5e38a",
   "metadata": {
    "execution": {
     "iopub.execute_input": "2023-05-25T15:21:51.333327Z",
     "iopub.status.busy": "2023-05-25T15:21:51.330044Z",
     "iopub.status.idle": "2023-05-25T15:22:04.235721Z",
     "shell.execute_reply": "2023-05-25T15:22:04.234080Z",
     "shell.execute_reply.started": "2023-05-25T14:57:34.815894Z"
    },
    "papermill": {
     "duration": 13.072623,
     "end_time": "2023-05-25T15:22:04.235897",
     "exception": false,
     "start_time": "2023-05-25T15:21:51.163274",
     "status": "completed"
    },
    "tags": []
   },
   "outputs": [
    {
     "name": "stdout",
     "output_type": "stream",
     "text": [
      "Requirement already satisfied: wandb in /opt/conda/lib/python3.7/site-packages (0.12.2)\r\n",
      "Collecting wandb\r\n",
      "  Downloading wandb-0.15.3-py3-none-any.whl (2.0 MB)\r\n",
      "\u001b[K     |████████████████████████████████| 2.0 MB 7.3 MB/s \r\n",
      "\u001b[?25hRequirement already satisfied: typing-extensions in /opt/conda/lib/python3.7/site-packages (from wandb) (3.7.4.3)\r\n",
      "Requirement already satisfied: docker-pycreds>=0.4.0 in /opt/conda/lib/python3.7/site-packages (from wandb) (0.4.0)\r\n",
      "Requirement already satisfied: pathtools in /opt/conda/lib/python3.7/site-packages (from wandb) (0.1.2)\r\n",
      "Requirement already satisfied: appdirs>=1.4.3 in /opt/conda/lib/python3.7/site-packages (from wandb) (1.4.4)\r\n",
      "Requirement already satisfied: sentry-sdk>=1.0.0 in /opt/conda/lib/python3.7/site-packages (from wandb) (1.3.1)\r\n",
      "Requirement already satisfied: PyYAML in /opt/conda/lib/python3.7/site-packages (from wandb) (5.4.1)\r\n",
      "Requirement already satisfied: GitPython!=3.1.29,>=1.0.0 in /opt/conda/lib/python3.7/site-packages (from wandb) (3.1.18)\r\n",
      "Requirement already satisfied: psutil>=5.0.0 in /opt/conda/lib/python3.7/site-packages (from wandb) (5.8.0)\r\n",
      "Requirement already satisfied: requests<3,>=2.0.0 in /opt/conda/lib/python3.7/site-packages (from wandb) (2.25.1)\r\n",
      "Requirement already satisfied: protobuf!=4.21.0,<5,>=3.12.0 in /opt/conda/lib/python3.7/site-packages (from wandb) (3.18.0)\r\n",
      "Collecting setproctitle\r\n",
      "  Downloading setproctitle-1.3.2-cp37-cp37m-manylinux_2_5_x86_64.manylinux1_x86_64.manylinux_2_17_x86_64.manylinux2014_x86_64.whl (30 kB)\r\n",
      "Requirement already satisfied: setuptools in /opt/conda/lib/python3.7/site-packages (from wandb) (57.4.0)\r\n",
      "Requirement already satisfied: Click!=8.0.0,>=7.0 in /opt/conda/lib/python3.7/site-packages (from wandb) (8.0.1)\r\n",
      "Requirement already satisfied: importlib-metadata in /opt/conda/lib/python3.7/site-packages (from Click!=8.0.0,>=7.0->wandb) (3.4.0)\r\n",
      "Requirement already satisfied: six>=1.4.0 in /opt/conda/lib/python3.7/site-packages (from docker-pycreds>=0.4.0->wandb) (1.15.0)\r\n",
      "Requirement already satisfied: gitdb<5,>=4.0.1 in /opt/conda/lib/python3.7/site-packages (from GitPython!=3.1.29,>=1.0.0->wandb) (4.0.7)\r\n",
      "Requirement already satisfied: smmap<5,>=3.0.1 in /opt/conda/lib/python3.7/site-packages (from gitdb<5,>=4.0.1->GitPython!=3.1.29,>=1.0.0->wandb) (3.0.5)\r\n",
      "Requirement already satisfied: chardet<5,>=3.0.2 in /opt/conda/lib/python3.7/site-packages (from requests<3,>=2.0.0->wandb) (4.0.0)\r\n",
      "Requirement already satisfied: certifi>=2017.4.17 in /opt/conda/lib/python3.7/site-packages (from requests<3,>=2.0.0->wandb) (2021.5.30)\r\n",
      "Requirement already satisfied: urllib3<1.27,>=1.21.1 in /opt/conda/lib/python3.7/site-packages (from requests<3,>=2.0.0->wandb) (1.26.6)\r\n",
      "Requirement already satisfied: idna<3,>=2.5 in /opt/conda/lib/python3.7/site-packages (from requests<3,>=2.0.0->wandb) (2.10)\r\n",
      "Requirement already satisfied: zipp>=0.5 in /opt/conda/lib/python3.7/site-packages (from importlib-metadata->Click!=8.0.0,>=7.0->wandb) (3.5.0)\r\n",
      "Installing collected packages: setproctitle, wandb\r\n",
      "  Attempting uninstall: wandb\r\n",
      "    Found existing installation: wandb 0.12.2\r\n",
      "    Uninstalling wandb-0.12.2:\r\n",
      "      Successfully uninstalled wandb-0.12.2\r\n",
      "\u001b[31mERROR: pip's dependency resolver does not currently take into account all the packages that are installed. This behaviour is the source of the following dependency conflicts.\r\n",
      "allennlp 2.7.0 requires wandb<0.13.0,>=0.10.0, but you have wandb 0.15.3 which is incompatible.\u001b[0m\r\n",
      "Successfully installed setproctitle-1.3.2 wandb-0.15.3\r\n",
      "\u001b[33mWARNING: Running pip as the 'root' user can result in broken permissions and conflicting behaviour with the system package manager. It is recommended to use a virtual environment instead: https://pip.pypa.io/warnings/venv\u001b[0m\r\n"
     ]
    }
   ],
   "source": [
    "!pip install --upgrade wandb"
   ]
  },
  {
   "cell_type": "code",
   "execution_count": 2,
   "id": "f646b4c5",
   "metadata": {
    "execution": {
     "iopub.execute_input": "2023-05-25T15:22:04.406340Z",
     "iopub.status.busy": "2023-05-25T15:22:04.402548Z",
     "iopub.status.idle": "2023-05-25T15:22:14.856710Z",
     "shell.execute_reply": "2023-05-25T15:22:14.856114Z",
     "shell.execute_reply.started": "2023-05-25T14:57:47.388082Z"
    },
    "papermill": {
     "duration": 10.52318,
     "end_time": "2023-05-25T15:22:14.856849",
     "exception": false,
     "start_time": "2023-05-25T15:22:04.333669",
     "status": "completed"
    },
    "tags": []
   },
   "outputs": [
    {
     "name": "stdout",
     "output_type": "stream",
     "text": [
      "\u001b[33mWARNING: Running pip as the 'root' user can result in broken permissions and conflicting behaviour with the system package manager. It is recommended to use a virtual environment instead: https://pip.pypa.io/warnings/venv\u001b[0m\r\n"
     ]
    }
   ],
   "source": [
    "!pip install datasets transformers rouge-score nltk -q"
   ]
  },
  {
   "cell_type": "code",
   "execution_count": 3,
   "id": "96f4b4ea",
   "metadata": {
    "execution": {
     "iopub.execute_input": "2023-05-25T15:22:14.978047Z",
     "iopub.status.busy": "2023-05-25T15:22:14.973176Z",
     "iopub.status.idle": "2023-05-25T15:22:23.009827Z",
     "shell.execute_reply": "2023-05-25T15:22:23.008969Z",
     "shell.execute_reply.started": "2023-05-25T14:57:57.267664Z"
    },
    "papermill": {
     "duration": 8.097165,
     "end_time": "2023-05-25T15:22:23.009970",
     "exception": false,
     "start_time": "2023-05-25T15:22:14.912805",
     "status": "completed"
    },
    "tags": []
   },
   "outputs": [
    {
     "name": "stdout",
     "output_type": "stream",
     "text": [
      "\u001b[33mWARNING: Running pip as the 'root' user can result in broken permissions and conflicting behaviour with the system package manager. It is recommended to use a virtual environment instead: https://pip.pypa.io/warnings/venv\u001b[0m\r\n"
     ]
    }
   ],
   "source": [
    "!pip install torch==1.7.1 -q"
   ]
  },
  {
   "cell_type": "markdown",
   "id": "f964ac9e",
   "metadata": {
    "papermill": {
     "duration": 0.056141,
     "end_time": "2023-05-25T15:22:23.123429",
     "exception": false,
     "start_time": "2023-05-25T15:22:23.067288",
     "status": "completed"
    },
    "tags": []
   },
   "source": [
    "## Imports"
   ]
  },
  {
   "cell_type": "code",
   "execution_count": 4,
   "id": "e1d32fdb",
   "metadata": {
    "execution": {
     "iopub.execute_input": "2023-05-25T15:22:23.242613Z",
     "iopub.status.busy": "2023-05-25T15:22:23.241621Z",
     "iopub.status.idle": "2023-05-25T15:22:30.182716Z",
     "shell.execute_reply": "2023-05-25T15:22:30.182186Z",
     "shell.execute_reply.started": "2023-05-25T14:58:05.066945Z"
    },
    "papermill": {
     "duration": 7.003584,
     "end_time": "2023-05-25T15:22:30.182865",
     "exception": false,
     "start_time": "2023-05-25T15:22:23.179281",
     "status": "completed"
    },
    "tags": []
   },
   "outputs": [
    {
     "name": "stdout",
     "output_type": "stream",
     "text": [
      "4.5.1\n"
     ]
    }
   ],
   "source": [
    "import os\n",
    "import glob\n",
    "import nltk\n",
    "import gc\n",
    "import warnings\n",
    "\n",
    "import numpy as np\n",
    "import pandas as pd\n",
    "import matplotlib.pyplot as plt\n",
    "import seaborn as sns\n",
    "\n",
    "import torch\n",
    "import transformers\n",
    "from sklearn.model_selection import train_test_split\n",
    "from sklearn.utils import shuffle\n",
    "from datasets import Dataset, load_metric\n",
    "from transformers import AutoTokenizer\n",
    "\n",
    "warnings.filterwarnings(\"ignore\")\n",
    "print(transformers.__version__)"
   ]
  },
  {
   "cell_type": "markdown",
   "id": "dbcd29ac",
   "metadata": {
    "papermill": {
     "duration": 0.058012,
     "end_time": "2023-05-25T15:22:30.298664",
     "exception": false,
     "start_time": "2023-05-25T15:22:30.240652",
     "status": "completed"
    },
    "tags": []
   },
   "source": [
    "## GPU Information"
   ]
  },
  {
   "cell_type": "code",
   "execution_count": 5,
   "id": "8733fc8e",
   "metadata": {
    "execution": {
     "iopub.execute_input": "2023-05-25T15:22:30.490736Z",
     "iopub.status.busy": "2023-05-25T15:22:30.481960Z",
     "iopub.status.idle": "2023-05-25T15:22:30.496344Z",
     "shell.execute_reply": "2023-05-25T15:22:30.495261Z",
     "shell.execute_reply.started": "2023-05-25T14:58:11.850813Z"
    },
    "papermill": {
     "duration": 0.138856,
     "end_time": "2023-05-25T15:22:30.496521",
     "exception": false,
     "start_time": "2023-05-25T15:22:30.357665",
     "status": "completed"
    },
    "tags": []
   },
   "outputs": [
    {
     "name": "stdout",
     "output_type": "stream",
     "text": [
      "[INFO] training using Tesla P100-PCIE-16GB\n"
     ]
    }
   ],
   "source": [
    "DEVICE = \"cuda\" if torch.cuda.is_available() else \"cpu\"\n",
    "print(\"[INFO] training using {}\".format(torch.cuda.get_device_name(0)))"
   ]
  },
  {
   "cell_type": "markdown",
   "id": "8c66306d",
   "metadata": {
    "papermill": {
     "duration": 0.057405,
     "end_time": "2023-05-25T15:22:30.611251",
     "exception": false,
     "start_time": "2023-05-25T15:22:30.553846",
     "status": "completed"
    },
    "tags": []
   },
   "source": [
    "## Load The Data:\n",
    "\n",
    "The data is in the form of news and summary text files for 5 categories in two separate folders: **News** and **Summary** that are in the main directory. The code below shows the process of conversion of the data to csv format where each row represents as a separate news and its corresponding summary and category."
   ]
  },
  {
   "cell_type": "code",
   "execution_count": 6,
   "id": "aaee04c3",
   "metadata": {
    "execution": {
     "iopub.execute_input": "2023-05-25T15:22:30.735804Z",
     "iopub.status.busy": "2023-05-25T15:22:30.735101Z",
     "iopub.status.idle": "2023-05-25T15:22:30.752308Z",
     "shell.execute_reply": "2023-05-25T15:22:30.752832Z",
     "shell.execute_reply.started": "2023-05-25T14:58:11.935405Z"
    },
    "papermill": {
     "duration": 0.084073,
     "end_time": "2023-05-25T15:22:30.752994",
     "exception": false,
     "start_time": "2023-05-25T15:22:30.668921",
     "status": "completed"
    },
    "tags": []
   },
   "outputs": [],
   "source": [
    "os.listdir(\"/kaggle/input/bbc-news-summary/BBC News Summary/News Articles\")\n",
    "os.listdir(\"/kaggle/input/bbc-news-summary/BBC News Summary/Summaries\")\n",
    "\n",
    "articles_path = \"/kaggle/input/bbc-news-summary/BBC News Summary/News Articles\"\n",
    "summaries_path = \"/kaggle/input/bbc-news-summary/BBC News Summary/Summaries\"\n",
    "categories_list = os.listdir(articles_path)\n",
    "\n",
    "## Read the files from file\n",
    "\n",
    "def read_file(articles_path, summaries_path, categories_list, encoding = \"ISO-8859-1\"):\n",
    "    articles = []\n",
    "    summaries = []\n",
    "    categories = []\n",
    "    for category in categories_list:\n",
    "        article_paths = glob.glob(os.path.join(articles_path, category, '*.txt'), recursive = True)\n",
    "        summary_paths = glob.glob(os.path.join(summaries_path, category, '*.txt'), recursive = True)\n",
    "        \n",
    "        print(f'found {len(article_paths)} file in articles/{category} folder, {len(summary_paths)} file in summaries/{category}')\n",
    "        \n",
    "        if len(article_paths) != len(summary_paths):\n",
    "            print(\"number of files is not equal\")\n",
    "            return \n",
    "        for file in range(len(article_paths)):\n",
    "            categories.append(category)\n",
    "            with open(article_paths[file], mode = 'r', encoding = encoding ) as files:\n",
    "                articles.append(files.read())\n",
    "                \n",
    "            with open(summary_paths[file], mode = 'r', encoding = encoding) as files:\n",
    "                summaries.append(files.read())\n",
    "     \n",
    "    print(f'total {len(articles)} file in articles folder and {len(summaries)} files in summaries folder')\n",
    "    return articles, summaries, categories"
   ]
  },
  {
   "cell_type": "code",
   "execution_count": 7,
   "id": "e0dbb49c",
   "metadata": {
    "execution": {
     "iopub.execute_input": "2023-05-25T15:22:30.871601Z",
     "iopub.status.busy": "2023-05-25T15:22:30.870953Z",
     "iopub.status.idle": "2023-05-25T15:22:50.361330Z",
     "shell.execute_reply": "2023-05-25T15:22:50.361820Z",
     "shell.execute_reply.started": "2023-05-25T14:58:11.992210Z"
    },
    "papermill": {
     "duration": 19.551988,
     "end_time": "2023-05-25T15:22:50.361994",
     "exception": false,
     "start_time": "2023-05-25T15:22:30.810006",
     "status": "completed"
    },
    "tags": []
   },
   "outputs": [
    {
     "name": "stdout",
     "output_type": "stream",
     "text": [
      "found 417 file in articles/politics folder, 417 file in summaries/politics\n",
      "found 511 file in articles/sport folder, 511 file in summaries/sport\n",
      "found 401 file in articles/tech folder, 401 file in summaries/tech\n",
      "found 386 file in articles/entertainment folder, 386 file in summaries/entertainment\n",
      "found 510 file in articles/business folder, 510 file in summaries/business\n",
      "total 2225 file in articles folder and 2225 files in summaries folder\n"
     ]
    }
   ],
   "source": [
    "articles, summaries, categories = read_file(articles_path, summaries_path, categories_list)"
   ]
  },
  {
   "cell_type": "code",
   "execution_count": 8,
   "id": "0c821ba9",
   "metadata": {
    "execution": {
     "iopub.execute_input": "2023-05-25T15:22:50.495306Z",
     "iopub.status.busy": "2023-05-25T15:22:50.493696Z",
     "iopub.status.idle": "2023-05-25T15:22:50.511167Z",
     "shell.execute_reply": "2023-05-25T15:22:50.511717Z",
     "shell.execute_reply.started": "2023-05-25T14:58:31.046296Z"
    },
    "papermill": {
     "duration": 0.090511,
     "end_time": "2023-05-25T15:22:50.511890",
     "exception": false,
     "start_time": "2023-05-25T15:22:50.421379",
     "status": "completed"
    },
    "tags": []
   },
   "outputs": [
    {
     "data": {
      "text/html": [
       "<div>\n",
       "<style scoped>\n",
       "    .dataframe tbody tr th:only-of-type {\n",
       "        vertical-align: middle;\n",
       "    }\n",
       "\n",
       "    .dataframe tbody tr th {\n",
       "        vertical-align: top;\n",
       "    }\n",
       "\n",
       "    .dataframe thead th {\n",
       "        text-align: right;\n",
       "    }\n",
       "</style>\n",
       "<table border=\"1\" class=\"dataframe\">\n",
       "  <thead>\n",
       "    <tr style=\"text-align: right;\">\n",
       "      <th></th>\n",
       "      <th>document</th>\n",
       "      <th>summary</th>\n",
       "      <th>categories</th>\n",
       "    </tr>\n",
       "  </thead>\n",
       "  <tbody>\n",
       "    <tr>\n",
       "      <th>0</th>\n",
       "      <td>Budget to set scene for election\\n\\nGordon Bro...</td>\n",
       "      <td>- Increase in the stamp duty threshold from Â£...</td>\n",
       "      <td>politics</td>\n",
       "    </tr>\n",
       "    <tr>\n",
       "      <th>1</th>\n",
       "      <td>Army chiefs in regiments decision\\n\\nMilitary ...</td>\n",
       "      <td>\"They are very much not for the good and will ...</td>\n",
       "      <td>politics</td>\n",
       "    </tr>\n",
       "    <tr>\n",
       "      <th>2</th>\n",
       "      <td>Howard denies split over ID cards\\n\\nMichael H...</td>\n",
       "      <td>Michael Howard has denied his shadow cabinet w...</td>\n",
       "      <td>politics</td>\n",
       "    </tr>\n",
       "    <tr>\n",
       "      <th>3</th>\n",
       "      <td>Observers to monitor UK election\\n\\nMinisters ...</td>\n",
       "      <td>The report said individual registration should...</td>\n",
       "      <td>politics</td>\n",
       "    </tr>\n",
       "    <tr>\n",
       "      <th>4</th>\n",
       "      <td>Kilroy names election seat target\\n\\nEx-chat s...</td>\n",
       "      <td>UKIP's leader, Roger Knapman, has said he is g...</td>\n",
       "      <td>politics</td>\n",
       "    </tr>\n",
       "  </tbody>\n",
       "</table>\n",
       "</div>"
      ],
      "text/plain": [
       "                                            document  \\\n",
       "0  Budget to set scene for election\\n\\nGordon Bro...   \n",
       "1  Army chiefs in regiments decision\\n\\nMilitary ...   \n",
       "2  Howard denies split over ID cards\\n\\nMichael H...   \n",
       "3  Observers to monitor UK election\\n\\nMinisters ...   \n",
       "4  Kilroy names election seat target\\n\\nEx-chat s...   \n",
       "\n",
       "                                             summary categories  \n",
       "0  - Increase in the stamp duty threshold from Â£...   politics  \n",
       "1  \"They are very much not for the good and will ...   politics  \n",
       "2  Michael Howard has denied his shadow cabinet w...   politics  \n",
       "3  The report said individual registration should...   politics  \n",
       "4  UKIP's leader, Roger Knapman, has said he is g...   politics  "
      ]
     },
     "execution_count": 8,
     "metadata": {},
     "output_type": "execute_result"
    }
   ],
   "source": [
    "df = pd.DataFrame({'document': articles, 'summary': summaries,\n",
    "                    'categories': categories})\n",
    "\n",
    "df.head()"
   ]
  },
  {
   "cell_type": "code",
   "execution_count": 9,
   "id": "b8249e81",
   "metadata": {
    "execution": {
     "iopub.execute_input": "2023-05-25T15:22:50.640621Z",
     "iopub.status.busy": "2023-05-25T15:22:50.639107Z",
     "iopub.status.idle": "2023-05-25T15:22:50.643198Z",
     "shell.execute_reply": "2023-05-25T15:22:50.642693Z",
     "shell.execute_reply.started": "2023-05-25T14:58:31.075714Z"
    },
    "papermill": {
     "duration": 0.072222,
     "end_time": "2023-05-25T15:22:50.643321",
     "exception": false,
     "start_time": "2023-05-25T15:22:50.571099",
     "status": "completed"
    },
    "tags": []
   },
   "outputs": [
    {
     "data": {
      "text/plain": [
       "document      0\n",
       "summary       0\n",
       "categories    0\n",
       "dtype: int64"
      ]
     },
     "execution_count": 9,
     "metadata": {},
     "output_type": "execute_result"
    }
   ],
   "source": [
    "df.isnull().sum()"
   ]
  },
  {
   "cell_type": "code",
   "execution_count": 10,
   "id": "3b5d7a0a",
   "metadata": {
    "execution": {
     "iopub.execute_input": "2023-05-25T15:22:50.799894Z",
     "iopub.status.busy": "2023-05-25T15:22:50.789438Z",
     "iopub.status.idle": "2023-05-25T15:22:50.848001Z",
     "shell.execute_reply": "2023-05-25T15:22:50.847433Z",
     "shell.execute_reply.started": "2023-05-25T14:58:31.089543Z"
    },
    "papermill": {
     "duration": 0.145389,
     "end_time": "2023-05-25T15:22:50.848132",
     "exception": false,
     "start_time": "2023-05-25T15:22:50.702743",
     "status": "completed"
    },
    "tags": []
   },
   "outputs": [],
   "source": [
    "df['articles_length'] = df['document'].apply(lambda x : len(x.split()))\n",
    "df['summaries_length'] = df['summary'].apply(lambda x : len(x.split()))"
   ]
  },
  {
   "cell_type": "code",
   "execution_count": 11,
   "id": "4cc6cfab",
   "metadata": {
    "execution": {
     "iopub.execute_input": "2023-05-25T15:22:50.972491Z",
     "iopub.status.busy": "2023-05-25T15:22:50.971163Z",
     "iopub.status.idle": "2023-05-25T15:22:50.984396Z",
     "shell.execute_reply": "2023-05-25T15:22:50.983885Z",
     "shell.execute_reply.started": "2023-05-25T14:58:31.170622Z"
    },
    "papermill": {
     "duration": 0.077282,
     "end_time": "2023-05-25T15:22:50.984566",
     "exception": false,
     "start_time": "2023-05-25T15:22:50.907284",
     "status": "completed"
    },
    "tags": []
   },
   "outputs": [
    {
     "data": {
      "text/plain": [
       "count     511.000000\n",
       "mean      329.262231\n",
       "std       187.963267\n",
       "min       114.000000\n",
       "25%       204.000000\n",
       "50%       288.000000\n",
       "75%       409.500000\n",
       "max      1662.000000\n",
       "Name: articles_length, dtype: float64"
      ]
     },
     "execution_count": 11,
     "metadata": {},
     "output_type": "execute_result"
    }
   ],
   "source": [
    "df[df['categories']=='sport']['articles_length'].describe()"
   ]
  },
  {
   "cell_type": "markdown",
   "id": "e967ffca",
   "metadata": {
    "papermill": {
     "duration": 0.058871,
     "end_time": "2023-05-25T15:22:51.106586",
     "exception": false,
     "start_time": "2023-05-25T15:22:51.047715",
     "status": "completed"
    },
    "tags": []
   },
   "source": [
    "## Mean length of articles and summaries per category"
   ]
  },
  {
   "cell_type": "code",
   "execution_count": 12,
   "id": "e7c7e0f5",
   "metadata": {
    "execution": {
     "iopub.execute_input": "2023-05-25T15:22:51.245478Z",
     "iopub.status.busy": "2023-05-25T15:22:51.244475Z",
     "iopub.status.idle": "2023-05-25T15:22:51.256585Z",
     "shell.execute_reply": "2023-05-25T15:22:51.257106Z",
     "shell.execute_reply.started": "2023-05-25T14:58:31.188244Z"
    },
    "papermill": {
     "duration": 0.081749,
     "end_time": "2023-05-25T15:22:51.257271",
     "exception": false,
     "start_time": "2023-05-25T15:22:51.175522",
     "status": "completed"
    },
    "tags": []
   },
   "outputs": [
    {
     "data": {
      "text/html": [
       "<div>\n",
       "<style scoped>\n",
       "    .dataframe tbody tr th:only-of-type {\n",
       "        vertical-align: middle;\n",
       "    }\n",
       "\n",
       "    .dataframe tbody tr th {\n",
       "        vertical-align: top;\n",
       "    }\n",
       "\n",
       "    .dataframe thead th {\n",
       "        text-align: right;\n",
       "    }\n",
       "</style>\n",
       "<table border=\"1\" class=\"dataframe\">\n",
       "  <thead>\n",
       "    <tr style=\"text-align: right;\">\n",
       "      <th></th>\n",
       "      <th>articles_length</th>\n",
       "      <th>summaries_length</th>\n",
       "    </tr>\n",
       "    <tr>\n",
       "      <th>categories</th>\n",
       "      <th></th>\n",
       "      <th></th>\n",
       "    </tr>\n",
       "  </thead>\n",
       "  <tbody>\n",
       "    <tr>\n",
       "      <th>business</th>\n",
       "      <td>328.880392</td>\n",
       "      <td>139.929412</td>\n",
       "    </tr>\n",
       "    <tr>\n",
       "      <th>entertainment</th>\n",
       "      <td>330.621762</td>\n",
       "      <td>144.049223</td>\n",
       "    </tr>\n",
       "    <tr>\n",
       "      <th>politics</th>\n",
       "      <td>453.973621</td>\n",
       "      <td>195.709832</td>\n",
       "    </tr>\n",
       "    <tr>\n",
       "      <th>sport</th>\n",
       "      <td>329.262231</td>\n",
       "      <td>143.187867</td>\n",
       "    </tr>\n",
       "    <tr>\n",
       "      <th>tech</th>\n",
       "      <td>502.695761</td>\n",
       "      <td>213.837905</td>\n",
       "    </tr>\n",
       "  </tbody>\n",
       "</table>\n",
       "</div>"
      ],
      "text/plain": [
       "               articles_length  summaries_length\n",
       "categories                                      \n",
       "business            328.880392        139.929412\n",
       "entertainment       330.621762        144.049223\n",
       "politics            453.973621        195.709832\n",
       "sport               329.262231        143.187867\n",
       "tech                502.695761        213.837905"
      ]
     },
     "execution_count": 12,
     "metadata": {},
     "output_type": "execute_result"
    }
   ],
   "source": [
    "category_length = df.groupby('categories').agg({'articles_length':'mean', 'summaries_length':'mean'})\n",
    "category_length"
   ]
  },
  {
   "cell_type": "code",
   "execution_count": 13,
   "id": "2d86dd18",
   "metadata": {
    "execution": {
     "iopub.execute_input": "2023-05-25T15:22:51.417810Z",
     "iopub.status.busy": "2023-05-25T15:22:51.417087Z",
     "iopub.status.idle": "2023-05-25T15:22:51.808171Z",
     "shell.execute_reply": "2023-05-25T15:22:51.807600Z",
     "shell.execute_reply.started": "2023-05-25T14:58:31.209402Z"
    },
    "papermill": {
     "duration": 0.488587,
     "end_time": "2023-05-25T15:22:51.808358",
     "exception": false,
     "start_time": "2023-05-25T15:22:51.319771",
     "status": "completed"
    },
    "tags": []
   },
   "outputs": [
    {
     "data": {
      "image/png": "[encoded data removed]",
      "text/plain": [
       "<Figure size 576x432 with 1 Axes>"
      ]
     },
     "metadata": {
      "needs_background": "light"
     },
     "output_type": "display_data"
    }
   ],
   "source": [
    "data_new = pd.melt(category_length, ignore_index= False)\n",
    "plt.figure(figsize=(8,6))\n",
    "sns.barplot(x = data_new.index, y = 'value', hue = 'variable', data = data_new)\n",
    "plt.show()"
   ]
  },
  {
   "cell_type": "code",
   "execution_count": 14,
   "id": "d6d67fd2",
   "metadata": {
    "execution": {
     "iopub.execute_input": "2023-05-25T15:22:51.945176Z",
     "iopub.status.busy": "2023-05-25T15:22:51.943534Z",
     "iopub.status.idle": "2023-05-25T15:22:51.947738Z",
     "shell.execute_reply": "2023-05-25T15:22:51.947155Z",
     "shell.execute_reply.started": "2023-05-25T14:58:31.624121Z"
    },
    "papermill": {
     "duration": 0.078198,
     "end_time": "2023-05-25T15:22:51.947876",
     "exception": false,
     "start_time": "2023-05-25T15:22:51.869678",
     "status": "completed"
    },
    "tags": []
   },
   "outputs": [
    {
     "data": {
      "text/html": [
       "<div>\n",
       "<style scoped>\n",
       "    .dataframe tbody tr th:only-of-type {\n",
       "        vertical-align: middle;\n",
       "    }\n",
       "\n",
       "    .dataframe tbody tr th {\n",
       "        vertical-align: top;\n",
       "    }\n",
       "\n",
       "    .dataframe thead th {\n",
       "        text-align: right;\n",
       "    }\n",
       "</style>\n",
       "<table border=\"1\" class=\"dataframe\">\n",
       "  <thead>\n",
       "    <tr style=\"text-align: right;\">\n",
       "      <th></th>\n",
       "      <th>value</th>\n",
       "    </tr>\n",
       "    <tr>\n",
       "      <th>variable</th>\n",
       "      <th></th>\n",
       "    </tr>\n",
       "  </thead>\n",
       "  <tbody>\n",
       "    <tr>\n",
       "      <th>articles_length</th>\n",
       "      <td>389.086753</td>\n",
       "    </tr>\n",
       "    <tr>\n",
       "      <th>summaries_length</th>\n",
       "      <td>167.342848</td>\n",
       "    </tr>\n",
       "  </tbody>\n",
       "</table>\n",
       "</div>"
      ],
      "text/plain": [
       "                       value\n",
       "variable                    \n",
       "articles_length   389.086753\n",
       "summaries_length  167.342848"
      ]
     },
     "execution_count": 14,
     "metadata": {},
     "output_type": "execute_result"
    }
   ],
   "source": [
    "pd.melt(category_length, ignore_index = False).groupby('variable').mean()"
   ]
  },
  {
   "cell_type": "markdown",
   "id": "a9a98247",
   "metadata": {
    "papermill": {
     "duration": 0.060565,
     "end_time": "2023-05-25T15:22:52.071248",
     "exception": false,
     "start_time": "2023-05-25T15:22:52.010683",
     "status": "completed"
    },
    "tags": []
   },
   "source": [
    "## Data Preprocessing"
   ]
  },
  {
   "cell_type": "code",
   "execution_count": 15,
   "id": "6d92fdd6",
   "metadata": {
    "execution": {
     "iopub.execute_input": "2023-05-25T15:22:52.214732Z",
     "iopub.status.busy": "2023-05-25T15:22:52.213864Z",
     "iopub.status.idle": "2023-05-25T15:22:52.216138Z",
     "shell.execute_reply": "2023-05-25T15:22:52.216620Z",
     "shell.execute_reply.started": "2023-05-25T14:58:31.639343Z"
    },
    "papermill": {
     "duration": 0.085169,
     "end_time": "2023-05-25T15:22:52.216777",
     "exception": false,
     "start_time": "2023-05-25T15:22:52.131608",
     "status": "completed"
    },
    "tags": []
   },
   "outputs": [],
   "source": [
    "df['document']= df['document'].apply(lambda x: x.lower())\n",
    "df['summary'] = df['summary'].apply(lambda x: x.lower())"
   ]
  },
  {
   "cell_type": "code",
   "execution_count": 16,
   "id": "742b7c5f",
   "metadata": {
    "execution": {
     "iopub.execute_input": "2023-05-25T15:22:52.345225Z",
     "iopub.status.busy": "2023-05-25T15:22:52.344343Z",
     "iopub.status.idle": "2023-05-25T15:22:52.356774Z",
     "shell.execute_reply": "2023-05-25T15:22:52.357304Z",
     "shell.execute_reply.started": "2023-05-25T14:58:31.664510Z"
    },
    "papermill": {
     "duration": 0.079758,
     "end_time": "2023-05-25T15:22:52.357497",
     "exception": false,
     "start_time": "2023-05-25T15:22:52.277739",
     "status": "completed"
    },
    "tags": []
   },
   "outputs": [
    {
     "name": "stdout",
     "output_type": "stream",
     "text": [
      "<class 'pandas.core.frame.DataFrame'>\n",
      "RangeIndex: 2225 entries, 0 to 2224\n",
      "Data columns (total 5 columns):\n",
      " #   Column            Non-Null Count  Dtype \n",
      "---  ------            --------------  ----- \n",
      " 0   document          2225 non-null   object\n",
      " 1   summary           2225 non-null   object\n",
      " 2   categories        2225 non-null   object\n",
      " 3   articles_length   2225 non-null   int64 \n",
      " 4   summaries_length  2225 non-null   int64 \n",
      "dtypes: int64(2), object(3)\n",
      "memory usage: 87.0+ KB\n"
     ]
    }
   ],
   "source": [
    "df.info()"
   ]
  },
  {
   "cell_type": "code",
   "execution_count": 17,
   "id": "5cb10352",
   "metadata": {
    "execution": {
     "iopub.execute_input": "2023-05-25T15:22:52.494738Z",
     "iopub.status.busy": "2023-05-25T15:22:52.493985Z",
     "iopub.status.idle": "2023-05-25T15:22:52.497875Z",
     "shell.execute_reply": "2023-05-25T15:22:52.498331Z",
     "shell.execute_reply.started": "2023-05-25T14:58:31.685846Z"
    },
    "papermill": {
     "duration": 0.076705,
     "end_time": "2023-05-25T15:22:52.498505",
     "exception": false,
     "start_time": "2023-05-25T15:22:52.421800",
     "status": "completed"
    },
    "tags": []
   },
   "outputs": [
    {
     "data": {
      "text/html": [
       "<div>\n",
       "<style scoped>\n",
       "    .dataframe tbody tr th:only-of-type {\n",
       "        vertical-align: middle;\n",
       "    }\n",
       "\n",
       "    .dataframe tbody tr th {\n",
       "        vertical-align: top;\n",
       "    }\n",
       "\n",
       "    .dataframe thead th {\n",
       "        text-align: right;\n",
       "    }\n",
       "</style>\n",
       "<table border=\"1\" class=\"dataframe\">\n",
       "  <thead>\n",
       "    <tr style=\"text-align: right;\">\n",
       "      <th></th>\n",
       "      <th>document</th>\n",
       "      <th>summary</th>\n",
       "      <th>categories</th>\n",
       "      <th>articles_length</th>\n",
       "      <th>summaries_length</th>\n",
       "    </tr>\n",
       "  </thead>\n",
       "  <tbody>\n",
       "    <tr>\n",
       "      <th>0</th>\n",
       "      <td>budget to set scene for election\\n\\ngordon brown will seek to put the economy at the centre of labour's bid for a third term in power when he delivers his ninth budget at 1230 gmt. he is expected to stress the importance of continued economic stability, with low unemployment and interest rates. the chancellor is expected to freeze petrol duty and raise the stamp duty threshold from â£60,000. but the conservatives and lib dems insist voters face higher taxes and more means-testing under labour.\\n\\ntreasury officials have said there will not be a pre-election giveaway, but mr brown is thought to have about â£2bn to spare.\\n\\n- increase in the stamp duty threshold from â£60,000 \\n - a freeze on petrol duty \\n - an extension of tax credit scheme for poorer families \\n - possible help for pensioners the stamp duty threshold rise is intended to help first time buyers - a likely theme of all three of the main parties' general election manifestos. ten years ago, buyers had a much greater chance of avoiding stamp duty, with close to half a million properties, in england and wales alone, selling for less than â£60,000. since then, average uk property prices have more than doubled while the starting threshold for stamp duty has not increased. tax credits as a result, the number of properties incurring stamp duty has rocketed as has the government's tax take. the liberal democrats unveiled their own proposals to raise the stamp duty threshold to â£150,000 in february.\\n\\nthe tories are also thought likely to propose increased thresholds, with shadow chancellor oliver letwin branding stamp duty a \"classic labour stealth tax\". the tories say whatever the chancellor gives away will be clawed back in higher taxes if labour is returned to power. shadow treasury chief secretary george osborne said: \"everyone who looks at the british economy at the moment says there has been a sharp deterioration in the public finances, that there is a black hole,\" he said. \"if labour is elected there will be a very substantial tax increase in the budget after the election, of the order of around â£10bn.\"\\n\\nbut mr brown's former advisor ed balls, now a parliamentary hopeful, said an examination of tory plans for the economy showed there would be a â£35bn difference in investment by the end of the next parliament between the two main parties. he added: \"i don't accept there is any need for any changes to the plans we have set out to meet our spending commitments.\"\\n\\nfor the lib dems david laws said: \"the chancellor will no doubt tell us today how wonderfully the economy is doing,\" he said. \"but a lot of that is built on an increase in personal and consumer debt over the last few years - that makes the economy quite vulnerable potentially if interest rates ever do have to go up in a significant way.\" snp leader alex salmond said his party would introduce a â£2,000 grant for first time buyers, reduce corporation tax and introduce a citizens pension free from means testing. plaid cymru's economics spokesman adam price said he wanted help to get people on the housing ladder and an increase in the minimum wage to â£5.60 an hour.\\n</td>\n",
       "      <td>- increase in the stamp duty threshold from â£60,000 - a freeze on petrol duty - an extension of tax credit scheme for poorer families - possible help for pensioners the stamp duty threshold rise is intended to help first time buyers - a likely theme of all three of the main parties' general election manifestos.the chancellor is expected to freeze petrol duty and raise the stamp duty threshold from â£60,000.the tories are also thought likely to propose increased thresholds, with shadow chancellor oliver letwin branding stamp duty a \"classic labour stealth tax\".tax credits as a result, the number of properties incurring stamp duty has rocketed as has the government's tax take.since then, average uk property prices have more than doubled while the starting threshold for stamp duty has not increased.for the lib dems david laws said: \"the chancellor will no doubt tell us today how wonderfully the economy is doing,\" he said.the liberal democrats unveiled their own proposals to raise the stamp duty threshold to â£150,000 in february.\"if labour is elected there will be a very substantial tax increase in the budget after the election, of the order of around â£10bn.\"</td>\n",
       "      <td>politics</td>\n",
       "      <td>538</td>\n",
       "      <td>192</td>\n",
       "    </tr>\n",
       "  </tbody>\n",
       "</table>\n",
       "</div>"
      ],
      "text/plain": [
       "                                                                                                                                                                                                                                                                                                                                                                                                                                                                                                                                                                                                                                                                                                                                                                                                                                                                                                                                                                                                                                                                                                                                                                                                                                                                                                                                                                                                                                                                                                                                                                                                                                                                                                                                                                                                                                                                                                                                                                                                                                                                                                                                                                                                                                                                                                                                                                                                                                                                                                                                                                                                                                                                                                                                                                                                                                                                                                                                                                                                                                                                                                                                                                                                                                                                       document  \\\n",
       "0  budget to set scene for election\\n\\ngordon brown will seek to put the economy at the centre of labour's bid for a third term in power when he delivers his ninth budget at 1230 gmt. he is expected to stress the importance of continued economic stability, with low unemployment and interest rates. the chancellor is expected to freeze petrol duty and raise the stamp duty threshold from â£60,000. but the conservatives and lib dems insist voters face higher taxes and more means-testing under labour.\\n\\ntreasury officials have said there will not be a pre-election giveaway, but mr brown is thought to have about â£2bn to spare.\\n\\n- increase in the stamp duty threshold from â£60,000 \\n - a freeze on petrol duty \\n - an extension of tax credit scheme for poorer families \\n - possible help for pensioners the stamp duty threshold rise is intended to help first time buyers - a likely theme of all three of the main parties' general election manifestos. ten years ago, buyers had a much greater chance of avoiding stamp duty, with close to half a million properties, in england and wales alone, selling for less than â£60,000. since then, average uk property prices have more than doubled while the starting threshold for stamp duty has not increased. tax credits as a result, the number of properties incurring stamp duty has rocketed as has the government's tax take. the liberal democrats unveiled their own proposals to raise the stamp duty threshold to â£150,000 in february.\\n\\nthe tories are also thought likely to propose increased thresholds, with shadow chancellor oliver letwin branding stamp duty a \"classic labour stealth tax\". the tories say whatever the chancellor gives away will be clawed back in higher taxes if labour is returned to power. shadow treasury chief secretary george osborne said: \"everyone who looks at the british economy at the moment says there has been a sharp deterioration in the public finances, that there is a black hole,\" he said. \"if labour is elected there will be a very substantial tax increase in the budget after the election, of the order of around â£10bn.\"\\n\\nbut mr brown's former advisor ed balls, now a parliamentary hopeful, said an examination of tory plans for the economy showed there would be a â£35bn difference in investment by the end of the next parliament between the two main parties. he added: \"i don't accept there is any need for any changes to the plans we have set out to meet our spending commitments.\"\\n\\nfor the lib dems david laws said: \"the chancellor will no doubt tell us today how wonderfully the economy is doing,\" he said. \"but a lot of that is built on an increase in personal and consumer debt over the last few years - that makes the economy quite vulnerable potentially if interest rates ever do have to go up in a significant way.\" snp leader alex salmond said his party would introduce a â£2,000 grant for first time buyers, reduce corporation tax and introduce a citizens pension free from means testing. plaid cymru's economics spokesman adam price said he wanted help to get people on the housing ladder and an increase in the minimum wage to â£5.60 an hour.\\n   \n",
       "\n",
       "                                                                                                                                                                                                                                                                                                                                                                                                                                                                                                                                                                                                                                                                                                                                                                                                                                                                                                                                                                                                                                                                                                                                                                                                                    summary  \\\n",
       "0  - increase in the stamp duty threshold from â£60,000 - a freeze on petrol duty - an extension of tax credit scheme for poorer families - possible help for pensioners the stamp duty threshold rise is intended to help first time buyers - a likely theme of all three of the main parties' general election manifestos.the chancellor is expected to freeze petrol duty and raise the stamp duty threshold from â£60,000.the tories are also thought likely to propose increased thresholds, with shadow chancellor oliver letwin branding stamp duty a \"classic labour stealth tax\".tax credits as a result, the number of properties incurring stamp duty has rocketed as has the government's tax take.since then, average uk property prices have more than doubled while the starting threshold for stamp duty has not increased.for the lib dems david laws said: \"the chancellor will no doubt tell us today how wonderfully the economy is doing,\" he said.the liberal democrats unveiled their own proposals to raise the stamp duty threshold to â£150,000 in february.\"if labour is elected there will be a very substantial tax increase in the budget after the election, of the order of around â£10bn.\"   \n",
       "\n",
       "  categories  articles_length  summaries_length  \n",
       "0   politics              538               192  "
      ]
     },
     "execution_count": 17,
     "metadata": {},
     "output_type": "execute_result"
    }
   ],
   "source": [
    "pd.set_option('display.max_colwidth',None)\n",
    "df.head(1)"
   ]
  },
  {
   "cell_type": "markdown",
   "id": "0eae1d68",
   "metadata": {
    "papermill": {
     "duration": 0.061291,
     "end_time": "2023-05-25T15:22:52.621225",
     "exception": false,
     "start_time": "2023-05-25T15:22:52.559934",
     "status": "completed"
    },
    "tags": []
   },
   "source": [
    "## Split the dataset into train, validation, and test set\n",
    "\n",
    "As a common practice, we split the dataset into:\n",
    "\n",
    "* Training set: Data used for training the model parameters.\n",
    "* Validation set: Data used for hyperparameter tuning or early stopping to avoid overfitting.\n",
    "* Test set: Data used for checking what performance we can expect on new data.\n",
    "\n",
    "The split was stratified on the \"category\" column, so that the distribution of the categories is similar across the three sets."
   ]
  },
  {
   "cell_type": "code",
   "execution_count": 18,
   "id": "53c71bb1",
   "metadata": {
    "execution": {
     "iopub.execute_input": "2023-05-25T15:22:52.755265Z",
     "iopub.status.busy": "2023-05-25T15:22:52.751652Z",
     "iopub.status.idle": "2023-05-25T15:22:52.765458Z",
     "shell.execute_reply": "2023-05-25T15:22:52.766032Z",
     "shell.execute_reply.started": "2023-05-25T14:58:31.699874Z"
    },
    "papermill": {
     "duration": 0.083834,
     "end_time": "2023-05-25T15:22:52.766195",
     "exception": false,
     "start_time": "2023-05-25T15:22:52.682361",
     "status": "completed"
    },
    "tags": []
   },
   "outputs": [],
   "source": [
    "# Shuffle the dataset to ensure randomization\n",
    "data = shuffle(df, random_state=4)\n",
    "train_ratio = 0.6\n",
    "valid_ratio = 0.2\n",
    "test_ratio = 0.2\n",
    "stratify_column='categories'\n",
    "\n",
    "\n",
    "# Split into train and remaining\n",
    "train, remaining_data = train_test_split(data, test_size=(1 - train_ratio), stratify=data[stratify_column], random_state=42)\n",
    "\n",
    "# Split the remaining into validation and test\n",
    "valid, test = train_test_split(remaining_data, test_size=test_ratio / (valid_ratio + test_ratio), stratify=remaining_data[stratify_column], random_state=42)"
   ]
  },
  {
   "cell_type": "code",
   "execution_count": 19,
   "id": "ba8ce91a",
   "metadata": {
    "execution": {
     "iopub.execute_input": "2023-05-25T15:22:52.898671Z",
     "iopub.status.busy": "2023-05-25T15:22:52.897431Z",
     "iopub.status.idle": "2023-05-25T15:22:52.901245Z",
     "shell.execute_reply": "2023-05-25T15:22:52.900777Z",
     "shell.execute_reply.started": "2023-05-25T14:58:31.719130Z"
    },
    "papermill": {
     "duration": 0.071128,
     "end_time": "2023-05-25T15:22:52.901365",
     "exception": false,
     "start_time": "2023-05-25T15:22:52.830237",
     "status": "completed"
    },
    "tags": []
   },
   "outputs": [
    {
     "data": {
      "text/plain": [
       "((1335, 5), (445, 5), (445, 5))"
      ]
     },
     "execution_count": 19,
     "metadata": {},
     "output_type": "execute_result"
    }
   ],
   "source": [
    "train.shape, valid.shape,test.shape"
   ]
  },
  {
   "cell_type": "markdown",
   "id": "7662967b",
   "metadata": {
    "papermill": {
     "duration": 0.061587,
     "end_time": "2023-05-25T15:22:53.024422",
     "exception": false,
     "start_time": "2023-05-25T15:22:52.962835",
     "status": "completed"
    },
    "tags": []
   },
   "source": [
    "## Preprocess the dataset for BART\n",
    "\n",
    "The model we chose for our task is BART\n",
    "\n",
    "As for every transformer model, we need first to tokenize the textual training data: the news content and the summary.\n",
    "Let’s instantiate the tokenizer of the BART model."
   ]
  },
  {
   "cell_type": "code",
   "execution_count": 20,
   "id": "e330aef0",
   "metadata": {
    "execution": {
     "iopub.execute_input": "2023-05-25T15:22:53.155224Z",
     "iopub.status.busy": "2023-05-25T15:22:53.154524Z",
     "iopub.status.idle": "2023-05-25T15:22:55.909278Z",
     "shell.execute_reply": "2023-05-25T15:22:55.909832Z",
     "shell.execute_reply.started": "2023-05-25T14:58:31.727077Z"
    },
    "papermill": {
     "duration": 2.823353,
     "end_time": "2023-05-25T15:22:55.910021",
     "exception": false,
     "start_time": "2023-05-25T15:22:53.086668",
     "status": "completed"
    },
    "tags": []
   },
   "outputs": [
    {
     "data": {
      "application/vnd.jupyter.widget-view+json": {
       "model_id": "5870692c98f043d5a70cc235489d891d",
       "version_major": 2,
       "version_minor": 0
      },
      "text/plain": [
       "Downloading:   0%|          | 0.00/1.63k [00:00<?, ?B/s]"
      ]
     },
     "metadata": {},
     "output_type": "display_data"
    },
    {
     "data": {
      "application/vnd.jupyter.widget-view+json": {
       "model_id": "07a7f6e449f04b8cb40b012b193891d8",
       "version_major": 2,
       "version_minor": 0
      },
      "text/plain": [
       "Downloading:   0%|          | 0.00/899k [00:00<?, ?B/s]"
      ]
     },
     "metadata": {},
     "output_type": "display_data"
    },
    {
     "data": {
      "application/vnd.jupyter.widget-view+json": {
       "model_id": "7e6768958d884a3bbb6bb6815d94b18c",
       "version_major": 2,
       "version_minor": 0
      },
      "text/plain": [
       "Downloading:   0%|          | 0.00/456k [00:00<?, ?B/s]"
      ]
     },
     "metadata": {},
     "output_type": "display_data"
    },
    {
     "data": {
      "application/vnd.jupyter.widget-view+json": {
       "model_id": "4dce3a35705d41f8bb41927f07f6024b",
       "version_major": 2,
       "version_minor": 0
      },
      "text/plain": [
       "Downloading:   0%|          | 0.00/1.36M [00:00<?, ?B/s]"
      ]
     },
     "metadata": {},
     "output_type": "display_data"
    },
    {
     "data": {
      "application/vnd.jupyter.widget-view+json": {
       "model_id": "a5afbae6da38462b9608f7b227677ffc",
       "version_major": 2,
       "version_minor": 0
      },
      "text/plain": [
       "Downloading:   0%|          | 0.00/26.0 [00:00<?, ?B/s]"
      ]
     },
     "metadata": {},
     "output_type": "display_data"
    },
    {
     "data": {
      "text/plain": [
       "True"
      ]
     },
     "execution_count": 20,
     "metadata": {},
     "output_type": "execute_result"
    }
   ],
   "source": [
    "model_checkpoint ='facebook/bart-large'\n",
    "tokenizer = AutoTokenizer.from_pretrained(model_checkpoint)\n",
    "tokenizer.padding_side == \"right\""
   ]
  },
  {
   "cell_type": "markdown",
   "id": "07a19b6d",
   "metadata": {
    "papermill": {
     "duration": 0.065347,
     "end_time": "2023-05-25T15:22:56.041154",
     "exception": false,
     "start_time": "2023-05-25T15:22:55.975807",
     "status": "completed"
    },
    "tags": []
   },
   "source": [
    "Then, we define the `preprocess_data` function that takes a batch of samples as inputs and outputs a dictionary of new features to add to the samples. The preprocess_data function does the following:\n",
    "\n",
    "* Prepend the text “summarize: “ to each news text\n",
    "* Apply the BART tokenizer to the news text, creating the `model_inputs` object. This object is a dictionary containing, for each news, an input_ids and an attention_mask arrays containing the token ids and the attention masks respectively.\n",
    "* Apply the BART tokenizer to the news summaries, creating the labels object. Also in this case, this object is a dictionary containing, for each news, an input_ids and an attention_mask arrays containing the token ids and the attention masks respectively. Note that this step is done inside the `tokenizer.as_target_tokenizer()` context manager: this is usually done because there are text2text tasks where inputs and labels must be tokenized with different tokenizers (e.g. when translating between two languages, where each language has its own tokenizer). As far as I know, for text summarization the labels are tokenized with the same tokenizer as the inputs, thus the context manager is optional.\n",
    "* Return a dictionary containing the token ids and attention masks of the inputs, and the token ids of the labels."
   ]
  },
  {
   "cell_type": "code",
   "execution_count": 21,
   "id": "d701f49e",
   "metadata": {
    "execution": {
     "iopub.execute_input": "2023-05-25T15:22:56.177435Z",
     "iopub.status.busy": "2023-05-25T15:22:56.176442Z",
     "iopub.status.idle": "2023-05-25T15:22:56.178646Z",
     "shell.execute_reply": "2023-05-25T15:22:56.179091Z",
     "shell.execute_reply.started": "2023-05-25T14:58:40.372906Z"
    },
    "papermill": {
     "duration": 0.073305,
     "end_time": "2023-05-25T15:22:56.179245",
     "exception": false,
     "start_time": "2023-05-25T15:22:56.105940",
     "status": "completed"
    },
    "tags": []
   },
   "outputs": [],
   "source": [
    "max_input_length = 512\n",
    "max_target_length = 128\n",
    "def preprocess_function(examples):\n",
    "    inputs = ['summarize:' + doc for doc in examples[\"document\"]]\n",
    "    model_inputs = tokenizer(inputs, max_length=max_input_length, truncation=True,padding='max_length')\n",
    "\n",
    "    # Setup the tokenizer for targets\n",
    "    with tokenizer.as_target_tokenizer():\n",
    "        labels = tokenizer(examples[\"summary\"], max_length=max_target_length, truncation=True)\n",
    "\n",
    "    model_inputs[\"labels\"] = labels[\"input_ids\"]\n",
    "    return model_inputs"
   ]
  },
  {
   "cell_type": "markdown",
   "id": "7f88020b",
   "metadata": {
    "papermill": {
     "duration": 0.065363,
     "end_time": "2023-05-25T15:22:56.309575",
     "exception": false,
     "start_time": "2023-05-25T15:22:56.244212",
     "status": "completed"
    },
    "tags": []
   },
   "source": [
    "> Note that we are truncating the inputs at 512 tokens. While BART can manage longer inputs, the memory requirements grow quadratically with the size of the inputs, and that was the maximum size that I could use in my Kaggle session."
   ]
  },
  {
   "cell_type": "markdown",
   "id": "84890db9",
   "metadata": {
    "papermill": {
     "duration": 0.065111,
     "end_time": "2023-05-25T15:22:56.439557",
     "exception": false,
     "start_time": "2023-05-25T15:22:56.374446",
     "status": "completed"
    },
    "tags": []
   },
   "source": [
    "The `preprocess_data` function can be applied to all the datasets with the map method.\n",
    "\n"
   ]
  },
  {
   "cell_type": "code",
   "execution_count": 22,
   "id": "69ea5488",
   "metadata": {
    "execution": {
     "iopub.execute_input": "2023-05-25T15:22:56.576794Z",
     "iopub.status.busy": "2023-05-25T15:22:56.575899Z",
     "iopub.status.idle": "2023-05-25T15:23:00.185976Z",
     "shell.execute_reply": "2023-05-25T15:23:00.185303Z",
     "shell.execute_reply.started": "2023-05-25T14:58:40.381603Z"
    },
    "papermill": {
     "duration": 3.679542,
     "end_time": "2023-05-25T15:23:00.186133",
     "exception": false,
     "start_time": "2023-05-25T15:22:56.506591",
     "status": "completed"
    },
    "tags": []
   },
   "outputs": [
    {
     "data": {
      "application/vnd.jupyter.widget-view+json": {
       "model_id": "5704cff33963448c9da1f918cd2bc9e0",
       "version_major": 2,
       "version_minor": 0
      },
      "text/plain": [
       "  0%|          | 0/2 [00:00<?, ?ba/s]"
      ]
     },
     "metadata": {},
     "output_type": "display_data"
    },
    {
     "data": {
      "application/vnd.jupyter.widget-view+json": {
       "model_id": "f56e796496654d8aa523052ea879da49",
       "version_major": 2,
       "version_minor": 0
      },
      "text/plain": [
       "  0%|          | 0/1 [00:00<?, ?ba/s]"
      ]
     },
     "metadata": {},
     "output_type": "display_data"
    }
   ],
   "source": [
    "train = Dataset.from_pandas(train)\n",
    "valid = Dataset.from_pandas(valid)\n",
    "tokenized_train = train.map(preprocess_function, batched=True)\n",
    "tokenized_valid = valid.map(preprocess_function, batched=True)"
   ]
  },
  {
   "cell_type": "code",
   "execution_count": 23,
   "id": "f01a7834",
   "metadata": {
    "execution": {
     "iopub.execute_input": "2023-05-25T15:23:00.325609Z",
     "iopub.status.busy": "2023-05-25T15:23:00.323520Z",
     "iopub.status.idle": "2023-05-25T15:23:00.327588Z",
     "shell.execute_reply": "2023-05-25T15:23:00.328059Z",
     "shell.execute_reply.started": "2023-05-25T14:58:44.218641Z"
    },
    "papermill": {
     "duration": 0.074903,
     "end_time": "2023-05-25T15:23:00.328257",
     "exception": false,
     "start_time": "2023-05-25T15:23:00.253354",
     "status": "completed"
    },
    "tags": []
   },
   "outputs": [],
   "source": [
    "assert isinstance(tokenizer, transformers.PreTrainedTokenizerFast)"
   ]
  },
  {
   "cell_type": "markdown",
   "id": "5b899e77",
   "metadata": {
    "papermill": {
     "duration": 0.067081,
     "end_time": "2023-05-25T15:23:00.462261",
     "exception": false,
     "start_time": "2023-05-25T15:23:00.395180",
     "status": "completed"
    },
    "tags": []
   },
   "source": [
    "## Preparing the Hugging Face trainer\n",
    "We can now fine-tune BART with our preprocessed data! Let’s import some necessary classes to train text2text models and our load our model BART"
   ]
  },
  {
   "cell_type": "code",
   "execution_count": 24,
   "id": "c294803b",
   "metadata": {
    "execution": {
     "iopub.execute_input": "2023-05-25T15:23:00.603232Z",
     "iopub.status.busy": "2023-05-25T15:23:00.602225Z",
     "iopub.status.idle": "2023-05-25T15:23:50.490504Z",
     "shell.execute_reply": "2023-05-25T15:23:50.489756Z",
     "shell.execute_reply.started": "2023-05-25T14:58:44.225062Z"
    },
    "papermill": {
     "duration": 49.961732,
     "end_time": "2023-05-25T15:23:50.490647",
     "exception": false,
     "start_time": "2023-05-25T15:23:00.528915",
     "status": "completed"
    },
    "tags": []
   },
   "outputs": [
    {
     "data": {
      "application/vnd.jupyter.widget-view+json": {
       "model_id": "8f6ba29bf8a44f128ac922216e25ae75",
       "version_major": 2,
       "version_minor": 0
      },
      "text/plain": [
       "Downloading:   0%|          | 0.00/1.02G [00:00<?, ?B/s]"
      ]
     },
     "metadata": {},
     "output_type": "display_data"
    }
   ],
   "source": [
    "from transformers import AutoModelForSeq2SeqLM, DataCollatorForSeq2Seq, Seq2SeqTrainingArguments, Seq2SeqTrainer\n",
    "model = AutoModelForSeq2SeqLM.from_pretrained(model_checkpoint)"
   ]
  },
  {
   "cell_type": "markdown",
   "id": "f4e14160",
   "metadata": {
    "papermill": {
     "duration": 0.06774,
     "end_time": "2023-05-25T15:23:50.626024",
     "exception": false,
     "start_time": "2023-05-25T15:23:50.558284",
     "status": "completed"
    },
    "tags": []
   },
   "source": [
    "Next, we instantiate a `DataCollatorForSeq2Seq` object using the tokenizer. Data collators are objects that form a batch by using a list of dataset elements as input and, in some cases, applying some processing. In this case, all the inputs and labels in the same batch will be padded to their respective maximum length in the batch. Padding of the inputs is done with the usual *[PAD]* token, whereas the padding of the labels is done with a token with id -100, which is a special token automatically ignored by PyTorch loss functions."
   ]
  },
  {
   "cell_type": "code",
   "execution_count": 25,
   "id": "1f239e24",
   "metadata": {
    "execution": {
     "iopub.execute_input": "2023-05-25T15:23:50.766766Z",
     "iopub.status.busy": "2023-05-25T15:23:50.765852Z",
     "iopub.status.idle": "2023-05-25T15:23:50.767723Z",
     "shell.execute_reply": "2023-05-25T15:23:50.768232Z",
     "shell.execute_reply.started": "2023-05-25T14:59:43.074396Z"
    },
    "papermill": {
     "duration": 0.075315,
     "end_time": "2023-05-25T15:23:50.768380",
     "exception": false,
     "start_time": "2023-05-25T15:23:50.693065",
     "status": "completed"
    },
    "tags": []
   },
   "outputs": [],
   "source": [
    "data_collator = DataCollatorForSeq2Seq(tokenizer, model=model)"
   ]
  },
  {
   "cell_type": "markdown",
   "id": "acba6e6f",
   "metadata": {
    "papermill": {
     "duration": 0.066854,
     "end_time": "2023-05-25T15:23:50.903277",
     "exception": false,
     "start_time": "2023-05-25T15:23:50.836423",
     "status": "completed"
    },
    "tags": []
   },
   "source": [
    "Next, we download the ROUGE code using the `load_metric` function from the `datasets` library, thus instantiating a metric object. This object can then be used to compute its metrics using predictions and reference labels."
   ]
  },
  {
   "cell_type": "code",
   "execution_count": 26,
   "id": "e3be228c",
   "metadata": {
    "execution": {
     "iopub.execute_input": "2023-05-25T15:23:51.043227Z",
     "iopub.status.busy": "2023-05-25T15:23:51.042367Z",
     "iopub.status.idle": "2023-05-25T15:23:51.845040Z",
     "shell.execute_reply": "2023-05-25T15:23:51.844470Z",
     "shell.execute_reply.started": "2023-05-25T14:59:43.080544Z"
    },
    "papermill": {
     "duration": 0.874257,
     "end_time": "2023-05-25T15:23:51.845187",
     "exception": false,
     "start_time": "2023-05-25T15:23:50.970930",
     "status": "completed"
    },
    "tags": []
   },
   "outputs": [
    {
     "data": {
      "application/vnd.jupyter.widget-view+json": {
       "model_id": "4cb034e96955459bbcfbe2356642c249",
       "version_major": 2,
       "version_minor": 0
      },
      "text/plain": [
       "Downloading:   0%|          | 0.00/2.17k [00:00<?, ?B/s]"
      ]
     },
     "metadata": {},
     "output_type": "display_data"
    }
   ],
   "source": [
    "metric = load_metric(\"rouge\")"
   ]
  },
  {
   "cell_type": "markdown",
   "id": "1d39c00c",
   "metadata": {
    "papermill": {
     "duration": 0.06889,
     "end_time": "2023-05-25T15:23:51.982499",
     "exception": false,
     "start_time": "2023-05-25T15:23:51.913609",
     "status": "completed"
    },
    "tags": []
   },
   "source": [
    "The metric object must then be called inside a `compute_metrics` function which takes a tuple of predictions and reference labels as input, and outputs a dictionary of metrics computed over the inputs. Specifically, the `compute_metrics` function does the following:\n",
    "\n",
    "* Decode the predictions (i.e. from token ids to words).\n",
    "* Decode the labels after substituting the *-100* token id with the *[PAD]* token id.\n",
    "* Compute ROUGE scores using the decoded predictions and labels, and select only a subset of these metrics.\n",
    "* Return a dictionary whose keys are the names of the metrics and the values are the metric values.\n"
   ]
  },
  {
   "cell_type": "code",
   "execution_count": 27,
   "id": "77f0f13c",
   "metadata": {
    "execution": {
     "iopub.execute_input": "2023-05-25T15:23:52.126609Z",
     "iopub.status.busy": "2023-05-25T15:23:52.125749Z",
     "iopub.status.idle": "2023-05-25T15:23:52.127862Z",
     "shell.execute_reply": "2023-05-25T15:23:52.128336Z",
     "shell.execute_reply.started": "2023-05-25T14:59:44.601278Z"
    },
    "papermill": {
     "duration": 0.078603,
     "end_time": "2023-05-25T15:23:52.128498",
     "exception": false,
     "start_time": "2023-05-25T15:23:52.049895",
     "status": "completed"
    },
    "tags": []
   },
   "outputs": [],
   "source": [
    "def compute_metrics(eval_pred):\n",
    "    predictions, labels = eval_pred\n",
    "    decoded_preds = tokenizer.batch_decode(predictions, skip_special_tokens=True)\n",
    "    # Replace -100 in the labels as we can't decode them.\n",
    "    labels = np.where(labels != -100, labels, tokenizer.pad_token_id)\n",
    "    decoded_labels = tokenizer.batch_decode(labels, skip_special_tokens=True)\n",
    "    \n",
    "    # Rouge expects a newline after each sentence\n",
    "    decoded_preds = [\"\\n\".join(nltk.sent_tokenize(pred.strip())) for pred in decoded_preds]\n",
    "    decoded_labels = [\"\\n\".join(nltk.sent_tokenize(label.strip())) for label in decoded_labels]\n",
    "    \n",
    "    result = metric.compute(predictions=decoded_preds, references=decoded_labels, use_stemmer=True)\n",
    "    # Extract a few results\n",
    "    result = {key: value.mid.fmeasure * 100 for key, value in result.items()}    \n",
    "    return {k: round(v, 4) for k, v in result.items()}"
   ]
  },
  {
   "cell_type": "markdown",
   "id": "dae60953",
   "metadata": {
    "papermill": {
     "duration": 0.067053,
     "end_time": "2023-05-25T15:23:52.263386",
     "exception": false,
     "start_time": "2023-05-25T15:23:52.196333",
     "status": "completed"
    },
    "tags": []
   },
   "source": [
    "We create a `Seq2SeqTrainingArguments` object containing several training parameters that will define how the model is trained. \n",
    "Here is the explanation of some unusual parameters passed to the Seq2SeqTrainingArguments object:\n",
    "\n",
    "* `predict_with_generate`: Must be set to True to calculate generative metrics such as ROUGE and BLEU.\n",
    "* `fp16`: Whether to use fp16 16-bit (mixed) precision training instead of 32-bit training. Makes training faster.\n",
    "* `report_to`: List of integrations to write logs to,W use weights and biases for our experiment tracking."
   ]
  },
  {
   "cell_type": "code",
   "execution_count": 28,
   "id": "098b691a",
   "metadata": {
    "execution": {
     "iopub.execute_input": "2023-05-25T15:23:52.407315Z",
     "iopub.status.busy": "2023-05-25T15:23:52.406410Z",
     "iopub.status.idle": "2023-05-25T15:23:52.410137Z",
     "shell.execute_reply": "2023-05-25T15:23:52.410712Z",
     "shell.execute_reply.started": "2023-05-25T14:59:44.615657Z"
    },
    "papermill": {
     "duration": 0.078983,
     "end_time": "2023-05-25T15:23:52.410870",
     "exception": false,
     "start_time": "2023-05-25T15:23:52.331887",
     "status": "completed"
    },
    "tags": []
   },
   "outputs": [],
   "source": [
    "batch_size=4\n",
    "model_name = model_checkpoint.split(\"/\")[-1]\n",
    "args = Seq2SeqTrainingArguments(\n",
    "    f\"{model_name}-finetuned-newsarticles\",\n",
    "    evaluation_strategy = \"epoch\",\n",
    "    learning_rate=2e-5,\n",
    "    per_device_train_batch_size=batch_size,\n",
    "    per_device_eval_batch_size=batch_size,\n",
    "    gradient_accumulation_steps=4,\n",
    "    weight_decay=0.01,\n",
    "    logging_steps=50,\n",
    "    save_total_limit=3,\n",
    "    num_train_epochs=7,\n",
    "    predict_with_generate=True,\n",
    "    fp16=False,\n",
    "    report_to=\"wandb\"\n",
    ")"
   ]
  },
  {
   "cell_type": "code",
   "execution_count": 29,
   "id": "6219e599",
   "metadata": {
    "execution": {
     "iopub.execute_input": "2023-05-25T15:23:52.779755Z",
     "iopub.status.busy": "2023-05-25T15:23:52.779049Z",
     "iopub.status.idle": "2023-05-25T15:23:52.783125Z",
     "shell.execute_reply": "2023-05-25T15:23:52.783660Z",
     "shell.execute_reply.started": "2023-05-25T14:59:44.624297Z"
    },
    "papermill": {
     "duration": 0.304595,
     "end_time": "2023-05-25T15:23:52.783836",
     "exception": false,
     "start_time": "2023-05-25T15:23:52.479241",
     "status": "completed"
    },
    "tags": []
   },
   "outputs": [],
   "source": [
    "gc.collect()\n",
    "torch.cuda.empty_cache()"
   ]
  },
  {
   "cell_type": "markdown",
   "id": "7511ca43",
   "metadata": {
    "papermill": {
     "duration": 0.067787,
     "end_time": "2023-05-25T15:23:52.921132",
     "exception": false,
     "start_time": "2023-05-25T15:23:52.853345",
     "status": "completed"
    },
    "tags": []
   },
   "source": [
    "We finally create a Seq2SeqTrainer passing all the objects that we have just defined: the training arguments, the training and evaluation data,the model, the data collator, the tokenizer, and the `compute_metrics`"
   ]
  },
  {
   "cell_type": "code",
   "execution_count": 30,
   "id": "ed6b1aa5",
   "metadata": {
    "execution": {
     "iopub.execute_input": "2023-05-25T15:23:53.064299Z",
     "iopub.status.busy": "2023-05-25T15:23:53.063443Z",
     "iopub.status.idle": "2023-05-25T15:24:03.390847Z",
     "shell.execute_reply": "2023-05-25T15:24:03.390303Z",
     "shell.execute_reply.started": "2023-05-25T14:59:44.846746Z"
    },
    "papermill": {
     "duration": 10.401028,
     "end_time": "2023-05-25T15:24:03.390993",
     "exception": false,
     "start_time": "2023-05-25T15:23:52.989965",
     "status": "completed"
    },
    "tags": []
   },
   "outputs": [
    {
     "name": "stdout",
     "output_type": "stream",
     "text": [
      "huggingface/tokenizers: The current process just got forked, after parallelism has already been used. Disabling parallelism to avoid deadlocks...\n",
      "To disable this warning, you can either:\n",
      "\t- Avoid using `tokenizers` before the fork if possible\n",
      "\t- Explicitly set the environment variable TOKENIZERS_PARALLELISM=(true | false)\n",
      "huggingface/tokenizers: The current process just got forked, after parallelism has already been used. Disabling parallelism to avoid deadlocks...\n",
      "To disable this warning, you can either:\n",
      "\t- Avoid using `tokenizers` before the fork if possible\n",
      "\t- Explicitly set the environment variable TOKENIZERS_PARALLELISM=(true | false)\n",
      "huggingface/tokenizers: The current process just got forked, after parallelism has already been used. Disabling parallelism to avoid deadlocks...\n",
      "To disable this warning, you can either:\n",
      "\t- Avoid using `tokenizers` before the fork if possible\n",
      "\t- Explicitly set the environment variable TOKENIZERS_PARALLELISM=(true | false)\n"
     ]
    }
   ],
   "source": [
    "trainer = Seq2SeqTrainer(\n",
    "    model,\n",
    "    args,\n",
    "    train_dataset=tokenized_train,\n",
    "    eval_dataset=tokenized_valid,\n",
    "    data_collator=data_collator,\n",
    "    tokenizer=tokenizer,\n",
    "    compute_metrics=compute_metrics\n",
    ")"
   ]
  },
  {
   "cell_type": "markdown",
   "id": "c99b11ab",
   "metadata": {
    "papermill": {
     "duration": 0.067053,
     "end_time": "2023-05-25T15:24:03.526346",
     "exception": false,
     "start_time": "2023-05-25T15:24:03.459293",
     "status": "completed"
    },
    "tags": []
   },
   "source": [
    "## Weights and Biases Integration\n",
    "\n",
    "Before we start training. we login to weights and biases account through the api key added in the user secrets in the Add-ons section.\n",
    "This helps us to log and monitor the training in progress."
   ]
  },
  {
   "cell_type": "code",
   "execution_count": 31,
   "id": "aca6d946",
   "metadata": {
    "execution": {
     "iopub.execute_input": "2023-05-25T15:24:03.674244Z",
     "iopub.status.busy": "2023-05-25T15:24:03.673576Z",
     "iopub.status.idle": "2023-05-25T15:24:05.987542Z",
     "shell.execute_reply": "2023-05-25T15:24:05.988005Z",
     "shell.execute_reply.started": "2023-05-25T14:59:54.194111Z"
    },
    "papermill": {
     "duration": 2.393607,
     "end_time": "2023-05-25T15:24:05.988178",
     "exception": false,
     "start_time": "2023-05-25T15:24:03.594571",
     "status": "completed"
    },
    "tags": []
   },
   "outputs": [
    {
     "name": "stdout",
     "output_type": "stream",
     "text": [
      "huggingface/tokenizers: The current process just got forked, after parallelism has already been used. Disabling parallelism to avoid deadlocks...\n",
      "To disable this warning, you can either:\n",
      "\t- Avoid using `tokenizers` before the fork if possible\n",
      "\t- Explicitly set the environment variable TOKENIZERS_PARALLELISM=(true | false)\n"
     ]
    },
    {
     "name": "stderr",
     "output_type": "stream",
     "text": [
      "\u001b[34m\u001b[1mwandb\u001b[0m: W&B API key is configured. Use \u001b[1m`wandb login --relogin`\u001b[0m to force relogin\n",
      "\u001b[34m\u001b[1mwandb\u001b[0m: \u001b[33mWARNING\u001b[0m If you're specifying your api key in code, ensure this code is not shared publicly.\n",
      "\u001b[34m\u001b[1mwandb\u001b[0m: \u001b[33mWARNING\u001b[0m Consider setting the WANDB_API_KEY environment variable, or running `wandb login` from the command line.\n",
      "\u001b[34m\u001b[1mwandb\u001b[0m: Appending key for api.wandb.ai to your netrc file: /root/.netrc\n"
     ]
    },
    {
     "data": {
      "text/plain": [
       "True"
      ]
     },
     "execution_count": 31,
     "metadata": {},
     "output_type": "execute_result"
    }
   ],
   "source": [
    "import wandb\n",
    "from kaggle_secrets import UserSecretsClient\n",
    "user_secrets = UserSecretsClient()\n",
    "api_key = user_secrets.get_secret(\"wandb_api\")\n",
    "wandb.login(key=api_key)"
   ]
  },
  {
   "cell_type": "markdown",
   "id": "9f9d7b39",
   "metadata": {
    "papermill": {
     "duration": 0.069003,
     "end_time": "2023-05-25T15:24:06.126763",
     "exception": false,
     "start_time": "2023-05-25T15:24:06.057760",
     "status": "completed"
    },
    "tags": []
   },
   "source": [
    "## Fine-tune BART\n",
    "\n",
    "Last, we start the fine-tuning with the train method.\n",
    "\n"
   ]
  },
  {
   "cell_type": "code",
   "execution_count": 32,
   "id": "9d767b30",
   "metadata": {
    "_kg_hide-output": false,
    "execution": {
     "iopub.execute_input": "2023-05-25T15:24:06.528610Z",
     "iopub.status.busy": "2023-05-25T15:24:06.527681Z",
     "iopub.status.idle": "2023-05-25T16:12:52.964100Z",
     "shell.execute_reply": "2023-05-25T16:12:52.964649Z"
    },
    "papermill": {
     "duration": 2926.768576,
     "end_time": "2023-05-25T16:12:52.964835",
     "exception": false,
     "start_time": "2023-05-25T15:24:06.196259",
     "status": "completed"
    },
    "tags": []
   },
   "outputs": [
    {
     "name": "stderr",
     "output_type": "stream",
     "text": [
      "\u001b[34m\u001b[1mwandb\u001b[0m: Currently logged in as: \u001b[33mshreyasajal\u001b[0m. Use \u001b[1m`wandb login --relogin`\u001b[0m to force relogin\n",
      "\u001b[34m\u001b[1mwandb\u001b[0m: Tracking run with wandb version 0.15.3\n",
      "\u001b[34m\u001b[1mwandb\u001b[0m: Run data is saved locally in \u001b[35m\u001b[1m/kaggle/working/wandb/run-20230525_152406-ohz4je68\u001b[0m\n",
      "\u001b[34m\u001b[1mwandb\u001b[0m: Run \u001b[1m`wandb offline`\u001b[0m to turn off syncing.\n",
      "\u001b[34m\u001b[1mwandb\u001b[0m: Syncing run \u001b[33mbart-large-finetuned-newsarticles\u001b[0m\n",
      "\u001b[34m\u001b[1mwandb\u001b[0m: ⭐️ View project at \u001b[34m\u001b[4mhttps://wandb.ai/shreyasajal/huggingface\u001b[0m\n",
      "\u001b[34m\u001b[1mwandb\u001b[0m: 🚀 View run at \u001b[34m\u001b[4mhttps://wandb.ai/shreyasajal/huggingface/runs/ohz4je68\u001b[0m\n"
     ]
    },
    {
     "data": {
      "text/html": [
       "\n",
       "    <div>\n",
       "        <style>\n",
       "            /* Turns off some styling */\n",
       "            progress {\n",
       "                /* gets rid of default border in Firefox and Opera. */\n",
       "                border: none;\n",
       "                /* Needs to be in here for Safari polyfill so background images work as expected. */\n",
       "                background-size: auto;\n",
       "            }\n",
       "        </style>\n",
       "      \n",
       "      <progress value='581' max='581' style='width:300px; height:20px; vertical-align: middle;'></progress>\n",
       "      [581/581 48:37, Epoch 6/7]\n",
       "    </div>\n",
       "    <table border=\"1\" class=\"dataframe\">\n",
       "  <thead>\n",
       "    <tr style=\"text-align: left;\">\n",
       "      <th>Epoch</th>\n",
       "      <th>Training Loss</th>\n",
       "      <th>Validation Loss</th>\n",
       "      <th>Rouge1</th>\n",
       "      <th>Rouge2</th>\n",
       "      <th>Rougel</th>\n",
       "      <th>Rougelsum</th>\n",
       "      <th>Runtime</th>\n",
       "      <th>Samples Per Second</th>\n",
       "    </tr>\n",
       "  </thead>\n",
       "  <tbody>\n",
       "    <tr>\n",
       "      <td>0</td>\n",
       "      <td>0.591600</td>\n",
       "      <td>0.420519</td>\n",
       "      <td>19.664000</td>\n",
       "      <td>15.617100</td>\n",
       "      <td>18.637900</td>\n",
       "      <td>18.792300</td>\n",
       "      <td>174.002100</td>\n",
       "      <td>2.557000</td>\n",
       "    </tr>\n",
       "    <tr>\n",
       "      <td>1</td>\n",
       "      <td>0.424200</td>\n",
       "      <td>0.390998</td>\n",
       "      <td>20.741200</td>\n",
       "      <td>17.337500</td>\n",
       "      <td>20.007400</td>\n",
       "      <td>20.091800</td>\n",
       "      <td>174.352100</td>\n",
       "      <td>2.552000</td>\n",
       "    </tr>\n",
       "    <tr>\n",
       "      <td>2</td>\n",
       "      <td>0.388400</td>\n",
       "      <td>0.381323</td>\n",
       "      <td>21.364900</td>\n",
       "      <td>18.453600</td>\n",
       "      <td>20.842700</td>\n",
       "      <td>20.921700</td>\n",
       "      <td>174.154300</td>\n",
       "      <td>2.555000</td>\n",
       "    </tr>\n",
       "    <tr>\n",
       "      <td>3</td>\n",
       "      <td>0.330000</td>\n",
       "      <td>0.383105</td>\n",
       "      <td>21.743000</td>\n",
       "      <td>18.732100</td>\n",
       "      <td>21.167000</td>\n",
       "      <td>21.250100</td>\n",
       "      <td>173.521000</td>\n",
       "      <td>2.565000</td>\n",
       "    </tr>\n",
       "    <tr>\n",
       "      <td>4</td>\n",
       "      <td>0.295300</td>\n",
       "      <td>0.372963</td>\n",
       "      <td>21.875100</td>\n",
       "      <td>19.003500</td>\n",
       "      <td>21.333300</td>\n",
       "      <td>21.419900</td>\n",
       "      <td>173.350400</td>\n",
       "      <td>2.567000</td>\n",
       "    </tr>\n",
       "    <tr>\n",
       "      <td>5</td>\n",
       "      <td>0.299600</td>\n",
       "      <td>0.379148</td>\n",
       "      <td>21.681900</td>\n",
       "      <td>18.719700</td>\n",
       "      <td>21.126600</td>\n",
       "      <td>21.197500</td>\n",
       "      <td>173.698300</td>\n",
       "      <td>2.562000</td>\n",
       "    </tr>\n",
       "    <tr>\n",
       "      <td>6</td>\n",
       "      <td>0.266900</td>\n",
       "      <td>0.382956</td>\n",
       "      <td>21.732200</td>\n",
       "      <td>18.810200</td>\n",
       "      <td>21.198600</td>\n",
       "      <td>21.266600</td>\n",
       "      <td>173.394700</td>\n",
       "      <td>2.566000</td>\n",
       "    </tr>\n",
       "  </tbody>\n",
       "</table><p>"
      ],
      "text/plain": [
       "<IPython.core.display.HTML object>"
      ]
     },
     "metadata": {},
     "output_type": "display_data"
    },
    {
     "data": {
      "text/plain": [
       "TrainOutput(global_step=581, training_loss=0.36240531983761287, metrics={'train_runtime': 2925.7544, 'train_samples_per_second': 0.199, 'total_flos': 1.4568747023941632e+16, 'epoch': 6.99, 'init_mem_cpu_alloc_delta': 1140477952, 'init_mem_gpu_alloc_delta': 1625367040, 'init_mem_cpu_peaked_delta': 999817216, 'init_mem_gpu_peaked_delta': 0, 'train_mem_cpu_alloc_delta': 32505856, 'train_mem_gpu_alloc_delta': 4875538944, 'train_mem_cpu_peaked_delta': 621465600, 'train_mem_gpu_peaked_delta': 6381357056})"
      ]
     },
     "execution_count": 32,
     "metadata": {},
     "output_type": "execute_result"
    }
   ],
   "source": [
    "trainer.train()"
   ]
  },
  {
   "cell_type": "markdown",
   "id": "9eb68e92",
   "metadata": {
    "papermill": {
     "duration": 0.071282,
     "end_time": "2023-05-25T16:12:53.108865",
     "exception": false,
     "start_time": "2023-05-25T16:12:53.037583",
     "status": "completed"
    },
    "tags": []
   },
   "source": [
    "# Evaluation On Validation Set\n"
   ]
  },
  {
   "cell_type": "code",
   "execution_count": 33,
   "id": "614b06ed",
   "metadata": {
    "execution": {
     "iopub.execute_input": "2023-05-25T16:12:53.317044Z",
     "iopub.status.busy": "2023-05-25T16:12:53.316144Z",
     "iopub.status.idle": "2023-05-25T16:12:54.158093Z",
     "shell.execute_reply": "2023-05-25T16:12:54.157569Z"
    },
    "papermill": {
     "duration": 0.978153,
     "end_time": "2023-05-25T16:12:54.158226",
     "exception": false,
     "start_time": "2023-05-25T16:12:53.180073",
     "status": "completed"
    },
    "tags": []
   },
   "outputs": [
    {
     "data": {
      "application/vnd.jupyter.widget-view+json": {
       "model_id": "81db4eae4d774df8a5594d984a124aa2",
       "version_major": 2,
       "version_minor": 0
      },
      "text/plain": [
       "  0%|          | 0/1 [00:00<?, ?ba/s]"
      ]
     },
     "metadata": {},
     "output_type": "display_data"
    }
   ],
   "source": [
    "valid = valid.map(\n",
    "                preprocess_function,\n",
    "                batched=True)"
   ]
  },
  {
   "cell_type": "code",
   "execution_count": 34,
   "id": "dd97d562",
   "metadata": {
    "execution": {
     "iopub.execute_input": "2023-05-25T16:12:54.500587Z",
     "iopub.status.busy": "2023-05-25T16:12:54.499593Z",
     "iopub.status.idle": "2023-05-25T16:29:06.373173Z",
     "shell.execute_reply": "2023-05-25T16:29:06.373734Z"
    },
    "papermill": {
     "duration": 972.1426,
     "end_time": "2023-05-25T16:29:06.373925",
     "exception": false,
     "start_time": "2023-05-25T16:12:54.231325",
     "status": "completed"
    },
    "tags": []
   },
   "outputs": [
    {
     "data": {
      "text/html": [
       "\n",
       "    <div>\n",
       "        <style>\n",
       "            /* Turns off some styling */\n",
       "            progress {\n",
       "                /* gets rid of default border in Firefox and Opera. */\n",
       "                border: none;\n",
       "                /* Needs to be in here for Safari polyfill so background images work as expected. */\n",
       "                background-size: auto;\n",
       "            }\n",
       "        </style>\n",
       "      \n",
       "      <progress value='224' max='112' style='width:300px; height:20px; vertical-align: middle;'></progress>\n",
       "      [112/112 32:18]\n",
       "    </div>\n",
       "    "
      ],
      "text/plain": [
       "<IPython.core.display.HTML object>"
      ]
     },
     "metadata": {},
     "output_type": "display_data"
    }
   ],
   "source": [
    "predict_results = trainer.predict(\n",
    "            valid,max_length=250, num_beams=3)"
   ]
  },
  {
   "cell_type": "code",
   "execution_count": 35,
   "id": "c0f299ea",
   "metadata": {
    "execution": {
     "iopub.execute_input": "2023-05-25T16:29:06.526175Z",
     "iopub.status.busy": "2023-05-25T16:29:06.525243Z",
     "iopub.status.idle": "2023-05-25T16:29:06.527746Z",
     "shell.execute_reply": "2023-05-25T16:29:06.527165Z"
    },
    "papermill": {
     "duration": 0.079772,
     "end_time": "2023-05-25T16:29:06.527874",
     "exception": false,
     "start_time": "2023-05-25T16:29:06.448102",
     "status": "completed"
    },
    "tags": []
   },
   "outputs": [],
   "source": [
    "metrics = predict_results.metrics"
   ]
  },
  {
   "cell_type": "code",
   "execution_count": 36,
   "id": "893406a3",
   "metadata": {
    "execution": {
     "iopub.execute_input": "2023-05-25T16:29:06.684908Z",
     "iopub.status.busy": "2023-05-25T16:29:06.683691Z",
     "iopub.status.idle": "2023-05-25T16:29:06.687039Z",
     "shell.execute_reply": "2023-05-25T16:29:06.687492Z"
    },
    "papermill": {
     "duration": 0.086239,
     "end_time": "2023-05-25T16:29:06.687638",
     "exception": false,
     "start_time": "2023-05-25T16:29:06.601399",
     "status": "completed"
    },
    "tags": []
   },
   "outputs": [
    {
     "data": {
      "text/plain": [
       "{'eval_loss': 0.38295605778694153,\n",
       " 'eval_rouge1': 64.9158,\n",
       " 'eval_rouge2': 54.0284,\n",
       " 'eval_rougeL': 48.9985,\n",
       " 'eval_rougeLsum': 52.3078,\n",
       " 'eval_runtime': 971.611,\n",
       " 'eval_samples_per_second': 0.458,\n",
       " 'test_mem_cpu_alloc_delta': -5853184,\n",
       " 'test_mem_gpu_alloc_delta': 0,\n",
       " 'test_mem_cpu_peaked_delta': 5595136,\n",
       " 'test_mem_gpu_peaked_delta': 1388618240}"
      ]
     },
     "execution_count": 36,
     "metadata": {},
     "output_type": "execute_result"
    }
   ],
   "source": [
    "metrics"
   ]
  },
  {
   "cell_type": "markdown",
   "id": "c2f28e79",
   "metadata": {
    "papermill": {
     "duration": 0.07328,
     "end_time": "2023-05-25T16:29:06.834845",
     "exception": false,
     "start_time": "2023-05-25T16:29:06.761565",
     "status": "completed"
    },
    "tags": []
   },
   "source": [
    "# Evaluation On Test Set"
   ]
  },
  {
   "cell_type": "code",
   "execution_count": 37,
   "id": "a873d7fa",
   "metadata": {
    "execution": {
     "iopub.execute_input": "2023-05-25T16:29:06.991018Z",
     "iopub.status.busy": "2023-05-25T16:29:06.990000Z",
     "iopub.status.idle": "2023-05-25T16:29:06.995758Z",
     "shell.execute_reply": "2023-05-25T16:29:06.995238Z"
    },
    "papermill": {
     "duration": 0.087177,
     "end_time": "2023-05-25T16:29:06.995880",
     "exception": false,
     "start_time": "2023-05-25T16:29:06.908703",
     "status": "completed"
    },
    "tags": []
   },
   "outputs": [],
   "source": [
    "eval_dataset = Dataset.from_pandas(test)"
   ]
  },
  {
   "cell_type": "code",
   "execution_count": 38,
   "id": "aad6d82d",
   "metadata": {
    "execution": {
     "iopub.execute_input": "2023-05-25T16:29:07.185428Z",
     "iopub.status.busy": "2023-05-25T16:29:07.184601Z",
     "iopub.status.idle": "2023-05-25T16:29:08.093568Z",
     "shell.execute_reply": "2023-05-25T16:29:08.093035Z"
    },
    "papermill": {
     "duration": 1.024153,
     "end_time": "2023-05-25T16:29:08.093712",
     "exception": false,
     "start_time": "2023-05-25T16:29:07.069559",
     "status": "completed"
    },
    "tags": []
   },
   "outputs": [
    {
     "data": {
      "application/vnd.jupyter.widget-view+json": {
       "model_id": "69e1b962e4464f488e1224abe4df5323",
       "version_major": 2,
       "version_minor": 0
      },
      "text/plain": [
       "  0%|          | 0/1 [00:00<?, ?ba/s]"
      ]
     },
     "metadata": {},
     "output_type": "display_data"
    }
   ],
   "source": [
    "eval_dataset = eval_dataset.map(\n",
    "                preprocess_function,\n",
    "                batched=True)"
   ]
  },
  {
   "cell_type": "code",
   "execution_count": 39,
   "id": "5e4f8176",
   "metadata": {
    "execution": {
     "iopub.execute_input": "2023-05-25T16:29:08.443218Z",
     "iopub.status.busy": "2023-05-25T16:29:08.442517Z",
     "iopub.status.idle": "2023-05-25T16:45:30.893041Z",
     "shell.execute_reply": "2023-05-25T16:45:30.893549Z"
    },
    "papermill": {
     "duration": 982.724362,
     "end_time": "2023-05-25T16:45:30.893764",
     "exception": false,
     "start_time": "2023-05-25T16:29:08.169402",
     "status": "completed"
    },
    "tags": []
   },
   "outputs": [],
   "source": [
    "predict_results = trainer.predict(\n",
    "            eval_dataset,max_length=250, num_beams=3)"
   ]
  },
  {
   "cell_type": "code",
   "execution_count": 40,
   "id": "576983d6",
   "metadata": {
    "execution": {
     "iopub.execute_input": "2023-05-25T16:45:31.049515Z",
     "iopub.status.busy": "2023-05-25T16:45:31.048759Z",
     "iopub.status.idle": "2023-05-25T16:45:31.051791Z",
     "shell.execute_reply": "2023-05-25T16:45:31.051276Z"
    },
    "papermill": {
     "duration": 0.082803,
     "end_time": "2023-05-25T16:45:31.051926",
     "exception": false,
     "start_time": "2023-05-25T16:45:30.969123",
     "status": "completed"
    },
    "tags": []
   },
   "outputs": [],
   "source": [
    "metrics = predict_results.metrics"
   ]
  },
  {
   "cell_type": "code",
   "execution_count": 41,
   "id": "8e226060",
   "metadata": {
    "execution": {
     "iopub.execute_input": "2023-05-25T16:45:31.216419Z",
     "iopub.status.busy": "2023-05-25T16:45:31.215736Z",
     "iopub.status.idle": "2023-05-25T16:45:31.218725Z",
     "shell.execute_reply": "2023-05-25T16:45:31.219234Z"
    },
    "papermill": {
     "duration": 0.092099,
     "end_time": "2023-05-25T16:45:31.219390",
     "exception": false,
     "start_time": "2023-05-25T16:45:31.127291",
     "status": "completed"
    },
    "tags": []
   },
   "outputs": [
    {
     "data": {
      "text/plain": [
       "{'eval_loss': 0.4582759439945221,\n",
       " 'eval_rouge1': 63.3473,\n",
       " 'eval_rouge2': 52.1871,\n",
       " 'eval_rougeL': 47.8493,\n",
       " 'eval_rougeLsum': 50.9421,\n",
       " 'eval_runtime': 982.1604,\n",
       " 'eval_samples_per_second': 0.453,\n",
       " 'test_mem_cpu_alloc_delta': -8105984,\n",
       " 'test_mem_gpu_alloc_delta': 0,\n",
       " 'test_mem_cpu_peaked_delta': 8105984,\n",
       " 'test_mem_gpu_peaked_delta': 1417019392}"
      ]
     },
     "execution_count": 41,
     "metadata": {},
     "output_type": "execute_result"
    }
   ],
   "source": [
    "metrics"
   ]
  },
  {
   "cell_type": "markdown",
   "id": "e4079954",
   "metadata": {
    "papermill": {
     "duration": 0.075839,
     "end_time": "2023-05-25T16:45:31.371372",
     "exception": false,
     "start_time": "2023-05-25T16:45:31.295533",
     "status": "completed"
    },
    "tags": []
   },
   "source": [
    "# Predictions on Test\n"
   ]
  },
  {
   "cell_type": "code",
   "execution_count": 42,
   "id": "ac493b9e",
   "metadata": {
    "execution": {
     "iopub.execute_input": "2023-05-25T16:45:31.574182Z",
     "iopub.status.busy": "2023-05-25T16:45:31.561446Z",
     "iopub.status.idle": "2023-05-25T16:45:31.576322Z",
     "shell.execute_reply": "2023-05-25T16:45:31.576857Z"
    },
    "papermill": {
     "duration": 0.130121,
     "end_time": "2023-05-25T16:45:31.577020",
     "exception": false,
     "start_time": "2023-05-25T16:45:31.446899",
     "status": "completed"
    },
    "tags": []
   },
   "outputs": [],
   "source": [
    "predictions = tokenizer.batch_decode(predict_results.predictions, skip_special_tokens=True, clean_up_tokenization_spaces=True)\n",
    "predictions = [pred.strip() for pred in predictions]"
   ]
  },
  {
   "cell_type": "code",
   "execution_count": 43,
   "id": "c7ded449",
   "metadata": {
    "execution": {
     "iopub.execute_input": "2023-05-25T16:45:31.734019Z",
     "iopub.status.busy": "2023-05-25T16:45:31.733337Z",
     "iopub.status.idle": "2023-05-25T16:45:31.736255Z",
     "shell.execute_reply": "2023-05-25T16:45:31.736759Z"
    },
    "papermill": {
     "duration": 0.083978,
     "end_time": "2023-05-25T16:45:31.736916",
     "exception": false,
     "start_time": "2023-05-25T16:45:31.652938",
     "status": "completed"
    },
    "tags": []
   },
   "outputs": [
    {
     "data": {
      "text/plain": [
       "['a us defence and telecommunications company has agreed to pay $28.5m after admitting bribery in the west african state of benin.the sec had accused titan of illegally paying $2.1m to an unnamed agent in benin claiming ties with president kerekou.the titan corporation was accused of funnelling more than $2m into the 2001 re-election campaign of president mathieu']"
      ]
     },
     "execution_count": 43,
     "metadata": {},
     "output_type": "execute_result"
    }
   ],
   "source": [
    "predictions[5:6]"
   ]
  },
  {
   "cell_type": "code",
   "execution_count": 44,
   "id": "ac723a7f",
   "metadata": {
    "execution": {
     "iopub.execute_input": "2023-05-25T16:45:31.900552Z",
     "iopub.status.busy": "2023-05-25T16:45:31.899894Z",
     "iopub.status.idle": "2023-05-25T16:45:31.904070Z",
     "shell.execute_reply": "2023-05-25T16:45:31.903574Z"
    },
    "papermill": {
     "duration": 0.08928,
     "end_time": "2023-05-25T16:45:31.904202",
     "exception": false,
     "start_time": "2023-05-25T16:45:31.814922",
     "status": "completed"
    },
    "tags": []
   },
   "outputs": [
    {
     "data": {
      "text/plain": [
       "2079    a us defence and telecommunications company has agreed to pay $28.5m after admitting bribery in the west african state of benin.the titan corporation was accused of funnelling more than $2m into the 2001 re-election campaign of president mathieu kerekou.the sec had accused titan of illegally paying $2.1m to an unnamed agent in benin claiming ties with president kerekou.at the time, titan was trying to get a higher price for a telecommunications project in benin.titan, a california-based company, pleaded guilty to falsifying its accounts and violating us anti-bribery laws.\n",
       "Name: summary, dtype: object"
      ]
     },
     "execution_count": 44,
     "metadata": {},
     "output_type": "execute_result"
    }
   ],
   "source": [
    "test['summary'][5:6]"
   ]
  },
  {
   "cell_type": "code",
   "execution_count": 45,
   "id": "56ea04a1",
   "metadata": {
    "execution": {
     "iopub.execute_input": "2023-05-25T16:45:32.063673Z",
     "iopub.status.busy": "2023-05-25T16:45:32.062798Z",
     "iopub.status.idle": "2023-05-25T16:45:32.091726Z",
     "shell.execute_reply": "2023-05-25T16:45:32.092207Z"
    },
    "papermill": {
     "duration": 0.111525,
     "end_time": "2023-05-25T16:45:32.092356",
     "exception": false,
     "start_time": "2023-05-25T16:45:31.980831",
     "status": "completed"
    },
    "tags": []
   },
   "outputs": [],
   "source": [
    "pd.DataFrame({'references': test['summary'],'candidates':predictions}).to_csv('bertscore_data_bart-large.csv')"
   ]
  },
  {
   "cell_type": "markdown",
   "id": "1182a166",
   "metadata": {
    "papermill": {
     "duration": 0.07872,
     "end_time": "2023-05-25T16:45:32.248469",
     "exception": false,
     "start_time": "2023-05-25T16:45:32.169749",
     "status": "completed"
    },
    "tags": []
   },
   "source": [
    "# Function for Inference"
   ]
  },
  {
   "cell_type": "code",
   "execution_count": 46,
   "id": "3ccd3290",
   "metadata": {
    "execution": {
     "iopub.execute_input": "2023-05-25T16:45:32.436427Z",
     "iopub.status.busy": "2023-05-25T16:45:32.435718Z",
     "iopub.status.idle": "2023-05-25T16:45:32.440245Z",
     "shell.execute_reply": "2023-05-25T16:45:32.439532Z"
    },
    "papermill": {
     "duration": 0.100484,
     "end_time": "2023-05-25T16:45:32.440394",
     "exception": false,
     "start_time": "2023-05-25T16:45:32.339910",
     "status": "completed"
    },
    "tags": []
   },
   "outputs": [],
   "source": [
    "model=trainer.model"
   ]
  },
  {
   "cell_type": "code",
   "execution_count": 47,
   "id": "5c8b2c82",
   "metadata": {
    "execution": {
     "iopub.execute_input": "2023-05-25T16:45:32.626809Z",
     "iopub.status.busy": "2023-05-25T16:45:32.623277Z",
     "iopub.status.idle": "2023-05-25T16:45:32.629158Z",
     "shell.execute_reply": "2023-05-25T16:45:32.629685Z"
    },
    "papermill": {
     "duration": 0.099062,
     "end_time": "2023-05-25T16:45:32.629860",
     "exception": false,
     "start_time": "2023-05-25T16:45:32.530798",
     "status": "completed"
    },
    "tags": []
   },
   "outputs": [],
   "source": [
    "def inference_function(input_text):\n",
    "    text='summarize:'+ input_text\n",
    "    inputs = tokenizer(text, return_tensors=\"pt\").input_ids.to(DEVICE)\n",
    "    outputs = model.generate(inputs, max_length=250, num_beams=3, do_sample=False)\n",
    "    summary=tokenizer.decode(outputs[0], skip_special_tokens=True)\n",
    "    return summary"
   ]
  },
  {
   "cell_type": "code",
   "execution_count": 48,
   "id": "4c48d829",
   "metadata": {
    "execution": {
     "iopub.execute_input": "2023-05-25T16:45:32.808777Z",
     "iopub.status.busy": "2023-05-25T16:45:32.807969Z",
     "iopub.status.idle": "2023-05-25T16:45:34.503600Z",
     "shell.execute_reply": "2023-05-25T16:45:34.503038Z"
    },
    "papermill": {
     "duration": 1.78636,
     "end_time": "2023-05-25T16:45:34.503750",
     "exception": false,
     "start_time": "2023-05-25T16:45:32.717390",
     "status": "completed"
    },
    "tags": []
   },
   "outputs": [],
   "source": [
    "summary=inference_function(test['document'][2079])"
   ]
  },
  {
   "cell_type": "code",
   "execution_count": 49,
   "id": "10d0e0aa",
   "metadata": {
    "execution": {
     "iopub.execute_input": "2023-05-25T16:45:34.664318Z",
     "iopub.status.busy": "2023-05-25T16:45:34.663098Z",
     "iopub.status.idle": "2023-05-25T16:45:34.666477Z",
     "shell.execute_reply": "2023-05-25T16:45:34.666966Z"
    },
    "papermill": {
     "duration": 0.08583,
     "end_time": "2023-05-25T16:45:34.667110",
     "exception": false,
     "start_time": "2023-05-25T16:45:34.581280",
     "status": "completed"
    },
    "tags": []
   },
   "outputs": [
    {
     "data": {
      "text/plain": [
       "'a us defence and telecommunications company has agreed to pay $28.5m after admitting bribery in the west african state of benin.the sec had accused titan of illegally paying $2.1m to an unnamed agent in benin claiming ties with president kerekou.the titan corporation was accused of funnelling more than $2m into the 2001 re-election campaign of president mathieu'"
      ]
     },
     "execution_count": 49,
     "metadata": {},
     "output_type": "execute_result"
    }
   ],
   "source": [
    "summary"
   ]
  },
  {
   "cell_type": "code",
   "execution_count": 50,
   "id": "b7e93c46",
   "metadata": {
    "execution": {
     "iopub.execute_input": "2023-05-25T16:45:34.826586Z",
     "iopub.status.busy": "2023-05-25T16:45:34.825885Z",
     "iopub.status.idle": "2023-05-25T16:45:34.828780Z",
     "shell.execute_reply": "2023-05-25T16:45:34.829241Z"
    },
    "papermill": {
     "duration": 0.08516,
     "end_time": "2023-05-25T16:45:34.829375",
     "exception": false,
     "start_time": "2023-05-25T16:45:34.744215",
     "status": "completed"
    },
    "tags": []
   },
   "outputs": [
    {
     "data": {
      "text/plain": [
       "'a us defence and telecommunications company has agreed to pay $28.5m after admitting bribery in the west african state of benin.the titan corporation was accused of funnelling more than $2m into the 2001 re-election campaign of president mathieu kerekou.the sec had accused titan of illegally paying $2.1m to an unnamed agent in benin claiming ties with president kerekou.at the time, titan was trying to get a higher price for a telecommunications project in benin.titan, a california-based company, pleaded guilty to falsifying its accounts and violating us anti-bribery laws.'"
      ]
     },
     "execution_count": 50,
     "metadata": {},
     "output_type": "execute_result"
    }
   ],
   "source": [
    "test['summary'][2079]"
   ]
  }
 ],
 "metadata": {
  "kernelspec": {
   "display_name": "Python 3",
   "language": "python",
   "name": "python3"
  },
  "language_info": {
   "codemirror_mode": {
    "name": "ipython",
    "version": 3
   },
   "file_extension": ".py",
   "mimetype": "text/x-python",
   "name": "python",
   "nbconvert_exporter": "python",
   "pygments_lexer": "ipython3",
   "version": "3.7.10"
  },
  "papermill": {
   "default_parameters": {},
   "duration": 5034.065582,
   "end_time": "2023-05-25T16:45:37.719618",
   "environment_variables": {},
   "exception": null,
   "input_path": "__notebook__.ipynb",
   "output_path": "__notebook__.ipynb",
   "parameters": {},
   "start_time": "2023-05-25T15:21:43.654036",
   "version": "2.3.3"
  },
  "widgets": {
   "application/vnd.jupyter.widget-state+json": {
    "state": {
     "006b194ec9744ca0a10c2111721d5d73": {
      "model_module": "@jupyter-widgets/controls",
      "model_module_version": "1.5.0",
      "model_name": "DescriptionStyleModel",
      "state": {
       "_model_module": "@jupyter-widgets/controls",
       "_model_module_version": "1.5.0",
       "_model_name": "DescriptionStyleModel",
       "_view_count": null,
       "_view_module": "@jupyter-widgets/base",
       "_view_module_version": "1.2.0",
       "_view_name": "StyleView",
       "description_width": ""
      }
     },
     "06ad0d43f33b4faa88a6dd5c682bd2af": {
      "model_module": "@jupyter-widgets/base",
      "model_module_version": "1.2.0",
      "model_name": "LayoutModel",
      "state": {
       "_model_module": "@jupyter-widgets/base",
       "_model_module_version": "1.2.0",
       "_model_name": "LayoutModel",
       "_view_count": null,
       "_view_module": "@jupyter-widgets/base",
       "_view_module_version": "1.2.0",
       "_view_name": "LayoutView",
       "align_content": null,
       "align_items": null,
       "align_self": null,
       "border": null,
       "bottom": null,
       "display": null,
       "flex": null,
       "flex_flow": null,
       "grid_area": null,
       "grid_auto_columns": null,
       "grid_auto_flow": null,
       "grid_auto_rows": null,
       "grid_column": null,
       "grid_gap": null,
       "grid_row": null,
       "grid_template_areas": null,
       "grid_template_columns": null,
       "grid_template_rows": null,
       "height": null,
       "justify_content": null,
       "justify_items": null,
       "left": null,
       "margin": null,
       "max_height": null,
       "max_width": null,
       "min_height": null,
       "min_width": null,
       "object_fit": null,
       "object_position": null,
       "order": null,
       "overflow": null,
       "overflow_x": null,
       "overflow_y": null,
       "padding": null,
       "right": null,
       "top": null,
       "visibility": null,
       "width": null
      }
     },
     "07a7f6e449f04b8cb40b012b193891d8": {
      "model_module": "@jupyter-widgets/controls",
      "model_module_version": "1.5.0",
      "model_name": "HBoxModel",
      "state": {
       "_dom_classes": [],
       "_model_module": "@jupyter-widgets/controls",
       "_model_module_version": "1.5.0",
       "_model_name": "HBoxModel",
       "_view_count": null,
       "_view_module": "@jupyter-widgets/controls",
       "_view_module_version": "1.5.0",
       "_view_name": "HBoxView",
       "box_style": "",
       "children": [
        "IPY_MODEL_dc3eb213ba1244a6ba5ed60a81873864",
        "IPY_MODEL_d5a2746062dc402aa59bf88895b6a72e",
        "IPY_MODEL_df2ba3f413ef47e9a9fb84c934b69308"
       ],
       "layout": "IPY_MODEL_1ca9e4db504340e3a140b951112627f0"
      }
     },
     "07b6f83489ab41e699d40b40953cb531": {
      "model_module": "@jupyter-widgets/base",
      "model_module_version": "1.2.0",
      "model_name": "LayoutModel",
      "state": {
       "_model_module": "@jupyter-widgets/base",
       "_model_module_version": "1.2.0",
       "_model_name": "LayoutModel",
       "_view_count": null,
       "_view_module": "@jupyter-widgets/base",
       "_view_module_version": "1.2.0",
       "_view_name": "LayoutView",
       "align_content": null,
       "align_items": null,
       "align_self": null,
       "border": null,
       "bottom": null,
       "display": null,
       "flex": null,
       "flex_flow": null,
       "grid_area": null,
       "grid_auto_columns": null,
       "grid_auto_flow": null,
       "grid_auto_rows": null,
       "grid_column": null,
       "grid_gap": null,
       "grid_row": null,
       "grid_template_areas": null,
       "grid_template_columns": null,
       "grid_template_rows": null,
       "height": null,
       "justify_content": null,
       "justify_items": null,
       "left": null,
       "margin": null,
       "max_height": null,
       "max_width": null,
       "min_height": null,
       "min_width": null,
       "object_fit": null,
       "object_position": null,
       "order": null,
       "overflow": null,
       "overflow_x": null,
       "overflow_y": null,
       "padding": null,
       "right": null,
       "top": null,
       "visibility": null,
       "width": null
      }
     },
     "0815c316b8844c2584c066149f281488": {
      "model_module": "@jupyter-widgets/base",
      "model_module_version": "1.2.0",
      "model_name": "LayoutModel",
      "state": {
       "_model_module": "@jupyter-widgets/base",
       "_model_module_version": "1.2.0",
       "_model_name": "LayoutModel",
       "_view_count": null,
       "_view_module": "@jupyter-widgets/base",
       "_view_module_version": "1.2.0",
       "_view_name": "LayoutView",
       "align_content": null,
       "align_items": null,
       "align_self": null,
       "border": null,
       "bottom": null,
       "display": null,
       "flex": null,
       "flex_flow": null,
       "grid_area": null,
       "grid_auto_columns": null,
       "grid_auto_flow": null,
       "grid_auto_rows": null,
       "grid_column": null,
       "grid_gap": null,
       "grid_row": null,
       "grid_template_areas": null,
       "grid_template_columns": null,
       "grid_template_rows": null,
       "height": null,
       "justify_content": null,
       "justify_items": null,
       "left": null,
       "margin": null,
       "max_height": null,
       "max_width": null,
       "min_height": null,
       "min_width": null,
       "object_fit": null,
       "object_position": null,
       "order": null,
       "overflow": null,
       "overflow_x": null,
       "overflow_y": null,
       "padding": null,
       "right": null,
       "top": null,
       "visibility": null,
       "width": null
      }
     },
     "0e100fdd4b244f019823f18a878fcb68": {
      "model_module": "@jupyter-widgets/controls",
      "model_module_version": "1.5.0",
      "model_name": "HTMLModel",
      "state": {
       "_dom_classes": [],
       "_model_module": "@jupyter-widgets/controls",
       "_model_module_version": "1.5.0",
       "_model_name": "HTMLModel",
       "_view_count": null,
       "_view_module": "@jupyter-widgets/controls",
       "_view_module_version": "1.5.0",
       "_view_name": "HTMLView",
       "description": "",
       "description_tooltip": null,
       "layout": "IPY_MODEL_df5b2f32c7db48c3ba0037462e196df8",
       "placeholder": "​",
       "style": "IPY_MODEL_44bf04a0de9e4a7ab447768612fd3f98",
       "value": " 2/2 [00:02&lt;00:00,  1.16s/ba]"
      }
     },
     "0f6617fa5d4149dc9c9965f9ab325029": {
      "model_module": "@jupyter-widgets/controls",
      "model_module_version": "1.5.0",
      "model_name": "DescriptionStyleModel",
      "state": {
       "_model_module": "@jupyter-widgets/controls",
       "_model_module_version": "1.5.0",
       "_model_name": "DescriptionStyleModel",
       "_view_count": null,
       "_view_module": "@jupyter-widgets/base",
       "_view_module_version": "1.2.0",
       "_view_name": "StyleView",
       "description_width": ""
      }
     },
     "0fba5bf08edb4af88bf88f370c7329ac": {
      "model_module": "@jupyter-widgets/controls",
      "model_module_version": "1.5.0",
      "model_name": "HTMLModel",
      "state": {
       "_dom_classes": [],
       "_model_module": "@jupyter-widgets/controls",
       "_model_module_version": "1.5.0",
       "_model_name": "HTMLModel",
       "_view_count": null,
       "_view_module": "@jupyter-widgets/controls",
       "_view_module_version": "1.5.0",
       "_view_name": "HTMLView",
       "description": "",
       "description_tooltip": null,
       "layout": "IPY_MODEL_c59e9ee65eb947aebd6d45f1321703f4",
       "placeholder": "​",
       "style": "IPY_MODEL_dcddf11d44f4493c96dbf8476b6f2e41",
       "value": "Downloading: 100%"
      }
     },
     "10a24c002598475bb103399529c828a0": {
      "model_module": "@jupyter-widgets/controls",
      "model_module_version": "1.5.0",
      "model_name": "FloatProgressModel",
      "state": {
       "_dom_classes": [],
       "_model_module": "@jupyter-widgets/controls",
       "_model_module_version": "1.5.0",
       "_model_name": "FloatProgressModel",
       "_view_count": null,
       "_view_module": "@jupyter-widgets/controls",
       "_view_module_version": "1.5.0",
       "_view_name": "ProgressView",
       "bar_style": "success",
       "description": "",
       "description_tooltip": null,
       "layout": "IPY_MODEL_9595ee2e33b94d218e5ee9dd9bd37b96",
       "max": 1628.0,
       "min": 0.0,
       "orientation": "horizontal",
       "style": "IPY_MODEL_14ad48d6bef6403486835f9691ccb06d",
       "value": 1628.0
      }
     },
     "14ad48d6bef6403486835f9691ccb06d": {
      "model_module": "@jupyter-widgets/controls",
      "model_module_version": "1.5.0",
      "model_name": "ProgressStyleModel",
      "state": {
       "_model_module": "@jupyter-widgets/controls",
       "_model_module_version": "1.5.0",
       "_model_name": "ProgressStyleModel",
       "_view_count": null,
       "_view_module": "@jupyter-widgets/base",
       "_view_module_version": "1.2.0",
       "_view_name": "StyleView",
       "bar_color": null,
       "description_width": ""
      }
     },
     "1574408cd11545a2905c123d2aade7c0": {
      "model_module": "@jupyter-widgets/base",
      "model_module_version": "1.2.0",
      "model_name": "LayoutModel",
      "state": {
       "_model_module": "@jupyter-widgets/base",
       "_model_module_version": "1.2.0",
       "_model_name": "LayoutModel",
       "_view_count": null,
       "_view_module": "@jupyter-widgets/base",
       "_view_module_version": "1.2.0",
       "_view_name": "LayoutView",
       "align_content": null,
       "align_items": null,
       "align_self": null,
       "border": null,
       "bottom": null,
       "display": null,
       "flex": null,
       "flex_flow": null,
       "grid_area": null,
       "grid_auto_columns": null,
       "grid_auto_flow": null,
       "grid_auto_rows": null,
       "grid_column": null,
       "grid_gap": null,
       "grid_row": null,
       "grid_template_areas": null,
       "grid_template_columns": null,
       "grid_template_rows": null,
       "height": null,
       "justify_content": null,
       "justify_items": null,
       "left": null,
       "margin": null,
       "max_height": null,
       "max_width": null,
       "min_height": null,
       "min_width": null,
       "object_fit": null,
       "object_position": null,
       "order": null,
       "overflow": null,
       "overflow_x": null,
       "overflow_y": null,
       "padding": null,
       "right": null,
       "top": null,
       "visibility": null,
       "width": null
      }
     },
     "1709ed867d5b4d84905f9f52aa4e3b56": {
      "model_module": "@jupyter-widgets/base",
      "model_module_version": "1.2.0",
      "model_name": "LayoutModel",
      "state": {
       "_model_module": "@jupyter-widgets/base",
       "_model_module_version": "1.2.0",
       "_model_name": "LayoutModel",
       "_view_count": null,
       "_view_module": "@jupyter-widgets/base",
       "_view_module_version": "1.2.0",
       "_view_name": "LayoutView",
       "align_content": null,
       "align_items": null,
       "align_self": null,
       "border": null,
       "bottom": null,
       "display": null,
       "flex": null,
       "flex_flow": null,
       "grid_area": null,
       "grid_auto_columns": null,
       "grid_auto_flow": null,
       "grid_auto_rows": null,
       "grid_column": null,
       "grid_gap": null,
       "grid_row": null,
       "grid_template_areas": null,
       "grid_template_columns": null,
       "grid_template_rows": null,
       "height": null,
       "justify_content": null,
       "justify_items": null,
       "left": null,
       "margin": null,
       "max_height": null,
       "max_width": null,
       "min_height": null,
       "min_width": null,
       "object_fit": null,
       "object_position": null,
       "order": null,
       "overflow": null,
       "overflow_x": null,
       "overflow_y": null,
       "padding": null,
       "right": null,
       "top": null,
       "visibility": null,
       "width": null
      }
     },
     "179fcd683bf542c8aa670f905324299b": {
      "model_module": "@jupyter-widgets/controls",
      "model_module_version": "1.5.0",
      "model_name": "ProgressStyleModel",
      "state": {
       "_model_module": "@jupyter-widgets/controls",
       "_model_module_version": "1.5.0",
       "_model_name": "ProgressStyleModel",
       "_view_count": null,
       "_view_module": "@jupyter-widgets/base",
       "_view_module_version": "1.2.0",
       "_view_name": "StyleView",
       "bar_color": null,
       "description_width": ""
      }
     },
     "17dc32f7efb747ceac5ae15c8055045c": {
      "model_module": "@jupyter-widgets/controls",
      "model_module_version": "1.5.0",
      "model_name": "DescriptionStyleModel",
      "state": {
       "_model_module": "@jupyter-widgets/controls",
       "_model_module_version": "1.5.0",
       "_model_name": "DescriptionStyleModel",
       "_view_count": null,
       "_view_module": "@jupyter-widgets/base",
       "_view_module_version": "1.2.0",
       "_view_name": "StyleView",
       "description_width": ""
      }
     },
     "1c28ab0ed59b43bbac9eedcdd3b47460": {
      "model_module": "@jupyter-widgets/controls",
      "model_module_version": "1.5.0",
      "model_name": "HTMLModel",
      "state": {
       "_dom_classes": [],
       "_model_module": "@jupyter-widgets/controls",
       "_model_module_version": "1.5.0",
       "_model_name": "HTMLModel",
       "_view_count": null,
       "_view_module": "@jupyter-widgets/controls",
       "_view_module_version": "1.5.0",
       "_view_name": "HTMLView",
       "description": "",
       "description_tooltip": null,
       "layout": "IPY_MODEL_d46253056afe44b4b48edbb67c0d6835",
       "placeholder": "​",
       "style": "IPY_MODEL_87af8e2a8d314b39ab7eacd5c1add788",
       "value": "100%"
      }
     },
     "1ca9e4db504340e3a140b951112627f0": {
      "model_module": "@jupyter-widgets/base",
      "model_module_version": "1.2.0",
      "model_name": "LayoutModel",
      "state": {
       "_model_module": "@jupyter-widgets/base",
       "_model_module_version": "1.2.0",
       "_model_name": "LayoutModel",
       "_view_count": null,
       "_view_module": "@jupyter-widgets/base",
       "_view_module_version": "1.2.0",
       "_view_name": "LayoutView",
       "align_content": null,
       "align_items": null,
       "align_self": null,
       "border": null,
       "bottom": null,
       "display": null,
       "flex": null,
       "flex_flow": null,
       "grid_area": null,
       "grid_auto_columns": null,
       "grid_auto_flow": null,
       "grid_auto_rows": null,
       "grid_column": null,
       "grid_gap": null,
       "grid_row": null,
       "grid_template_areas": null,
       "grid_template_columns": null,
       "grid_template_rows": null,
       "height": null,
       "justify_content": null,
       "justify_items": null,
       "left": null,
       "margin": null,
       "max_height": null,
       "max_width": null,
       "min_height": null,
       "min_width": null,
       "object_fit": null,
       "object_position": null,
       "order": null,
       "overflow": null,
       "overflow_x": null,
       "overflow_y": null,
       "padding": null,
       "right": null,
       "top": null,
       "visibility": null,
       "width": null
      }
     },
     "1dc035861be7432a81c3ca4dfbd75423": {
      "model_module": "@jupyter-widgets/base",
      "model_module_version": "1.2.0",
      "model_name": "LayoutModel",
      "state": {
       "_model_module": "@jupyter-widgets/base",
       "_model_module_version": "1.2.0",
       "_model_name": "LayoutModel",
       "_view_count": null,
       "_view_module": "@jupyter-widgets/base",
       "_view_module_version": "1.2.0",
       "_view_name": "LayoutView",
       "align_content": null,
       "align_items": null,
       "align_self": null,
       "border": null,
       "bottom": null,
       "display": null,
       "flex": null,
       "flex_flow": null,
       "grid_area": null,
       "grid_auto_columns": null,
       "grid_auto_flow": null,
       "grid_auto_rows": null,
       "grid_column": null,
       "grid_gap": null,
       "grid_row": null,
       "grid_template_areas": null,
       "grid_template_columns": null,
       "grid_template_rows": null,
       "height": null,
       "justify_content": null,
       "justify_items": null,
       "left": null,
       "margin": null,
       "max_height": null,
       "max_width": null,
       "min_height": null,
       "min_width": null,
       "object_fit": null,
       "object_position": null,
       "order": null,
       "overflow": null,
       "overflow_x": null,
       "overflow_y": null,
       "padding": null,
       "right": null,
       "top": null,
       "visibility": null,
       "width": null
      }
     },
     "1f0b7a091c24418ea4c36c056d9d9850": {
      "model_module": "@jupyter-widgets/controls",
      "model_module_version": "1.5.0",
      "model_name": "HTMLModel",
      "state": {
       "_dom_classes": [],
       "_model_module": "@jupyter-widgets/controls",
       "_model_module_version": "1.5.0",
       "_model_name": "HTMLModel",
       "_view_count": null,
       "_view_module": "@jupyter-widgets/controls",
       "_view_module_version": "1.5.0",
       "_view_name": "HTMLView",
       "description": "",
       "description_tooltip": null,
       "layout": "IPY_MODEL_0815c316b8844c2584c066149f281488",
       "placeholder": "​",
       "style": "IPY_MODEL_c50cde1992a1442291a5566793ace188",
       "value": " 1/1 [00:00&lt;00:00,  1.12ba/s]"
      }
     },
     "2141845e359a4c83ab714fe448f6cb27": {
      "model_module": "@jupyter-widgets/base",
      "model_module_version": "1.2.0",
      "model_name": "LayoutModel",
      "state": {
       "_model_module": "@jupyter-widgets/base",
       "_model_module_version": "1.2.0",
       "_model_name": "LayoutModel",
       "_view_count": null,
       "_view_module": "@jupyter-widgets/base",
       "_view_module_version": "1.2.0",
       "_view_name": "LayoutView",
       "align_content": null,
       "align_items": null,
       "align_self": null,
       "border": null,
       "bottom": null,
       "display": null,
       "flex": null,
       "flex_flow": null,
       "grid_area": null,
       "grid_auto_columns": null,
       "grid_auto_flow": null,
       "grid_auto_rows": null,
       "grid_column": null,
       "grid_gap": null,
       "grid_row": null,
       "grid_template_areas": null,
       "grid_template_columns": null,
       "grid_template_rows": null,
       "height": null,
       "justify_content": null,
       "justify_items": null,
       "left": null,
       "margin": null,
       "max_height": null,
       "max_width": null,
       "min_height": null,
       "min_width": null,
       "object_fit": null,
       "object_position": null,
       "order": null,
       "overflow": null,
       "overflow_x": null,
       "overflow_y": null,
       "padding": null,
       "right": null,
       "top": null,
       "visibility": null,
       "width": null
      }
     },
     "24385e78bf5a4170828d0d55227e93e9": {
      "model_module": "@jupyter-widgets/base",
      "model_module_version": "1.2.0",
      "model_name": "LayoutModel",
      "state": {
       "_model_module": "@jupyter-widgets/base",
       "_model_module_version": "1.2.0",
       "_model_name": "LayoutModel",
       "_view_count": null,
       "_view_module": "@jupyter-widgets/base",
       "_view_module_version": "1.2.0",
       "_view_name": "LayoutView",
       "align_content": null,
       "align_items": null,
       "align_self": null,
       "border": null,
       "bottom": null,
       "display": null,
       "flex": null,
       "flex_flow": null,
       "grid_area": null,
       "grid_auto_columns": null,
       "grid_auto_flow": null,
       "grid_auto_rows": null,
       "grid_column": null,
       "grid_gap": null,
       "grid_row": null,
       "grid_template_areas": null,
       "grid_template_columns": null,
       "grid_template_rows": null,
       "height": null,
       "justify_content": null,
       "justify_items": null,
       "left": null,
       "margin": null,
       "max_height": null,
       "max_width": null,
       "min_height": null,
       "min_width": null,
       "object_fit": null,
       "object_position": null,
       "order": null,
       "overflow": null,
       "overflow_x": null,
       "overflow_y": null,
       "padding": null,
       "right": null,
       "top": null,
       "visibility": null,
       "width": null
      }
     },
     "27cbfb9f06bf4c7c83b9ac8ce3c418d9": {
      "model_module": "@jupyter-widgets/controls",
      "model_module_version": "1.5.0",
      "model_name": "ProgressStyleModel",
      "state": {
       "_model_module": "@jupyter-widgets/controls",
       "_model_module_version": "1.5.0",
       "_model_name": "ProgressStyleModel",
       "_view_count": null,
       "_view_module": "@jupyter-widgets/base",
       "_view_module_version": "1.2.0",
       "_view_name": "StyleView",
       "bar_color": null,
       "description_width": ""
      }
     },
     "286f669005424ff3b1e6f8209ad68ca6": {
      "model_module": "@jupyter-widgets/controls",
      "model_module_version": "1.5.0",
      "model_name": "DescriptionStyleModel",
      "state": {
       "_model_module": "@jupyter-widgets/controls",
       "_model_module_version": "1.5.0",
       "_model_name": "DescriptionStyleModel",
       "_view_count": null,
       "_view_module": "@jupyter-widgets/base",
       "_view_module_version": "1.2.0",
       "_view_name": "StyleView",
       "description_width": ""
      }
     },
     "29b482541fb34dc99a91ad0894985005": {
      "model_module": "@jupyter-widgets/controls",
      "model_module_version": "1.5.0",
      "model_name": "ProgressStyleModel",
      "state": {
       "_model_module": "@jupyter-widgets/controls",
       "_model_module_version": "1.5.0",
       "_model_name": "ProgressStyleModel",
       "_view_count": null,
       "_view_module": "@jupyter-widgets/base",
       "_view_module_version": "1.2.0",
       "_view_name": "StyleView",
       "bar_color": null,
       "description_width": ""
      }
     },
     "2cc167330f0b41c3bd47a6d9b506d64f": {
      "model_module": "@jupyter-widgets/base",
      "model_module_version": "1.2.0",
      "model_name": "LayoutModel",
      "state": {
       "_model_module": "@jupyter-widgets/base",
       "_model_module_version": "1.2.0",
       "_model_name": "LayoutModel",
       "_view_count": null,
       "_view_module": "@jupyter-widgets/base",
       "_view_module_version": "1.2.0",
       "_view_name": "LayoutView",
       "align_content": null,
       "align_items": null,
       "align_self": null,
       "border": null,
       "bottom": null,
       "display": null,
       "flex": null,
       "flex_flow": null,
       "grid_area": null,
       "grid_auto_columns": null,
       "grid_auto_flow": null,
       "grid_auto_rows": null,
       "grid_column": null,
       "grid_gap": null,
       "grid_row": null,
       "grid_template_areas": null,
       "grid_template_columns": null,
       "grid_template_rows": null,
       "height": null,
       "justify_content": null,
       "justify_items": null,
       "left": null,
       "margin": null,
       "max_height": null,
       "max_width": null,
       "min_height": null,
       "min_width": null,
       "object_fit": null,
       "object_position": null,
       "order": null,
       "overflow": null,
       "overflow_x": null,
       "overflow_y": null,
       "padding": null,
       "right": null,
       "top": null,
       "visibility": null,
       "width": null
      }
     },
     "380c0df84128408d8da77ea81f81dad5": {
      "model_module": "@jupyter-widgets/controls",
      "model_module_version": "1.5.0",
      "model_name": "FloatProgressModel",
      "state": {
       "_dom_classes": [],
       "_model_module": "@jupyter-widgets/controls",
       "_model_module_version": "1.5.0",
       "_model_name": "FloatProgressModel",
       "_view_count": null,
       "_view_module": "@jupyter-widgets/controls",
       "_view_module_version": "1.5.0",
       "_view_name": "ProgressView",
       "bar_style": "success",
       "description": "",
       "description_tooltip": null,
       "layout": "IPY_MODEL_07b6f83489ab41e699d40b40953cb531",
       "max": 2.0,
       "min": 0.0,
       "orientation": "horizontal",
       "style": "IPY_MODEL_e90fb5188812497ab3932629ff4d1827",
       "value": 2.0
      }
     },
     "385fd4bdbfc14f4faf6914c2bbe0f304": {
      "model_module": "@jupyter-widgets/base",
      "model_module_version": "1.2.0",
      "model_name": "LayoutModel",
      "state": {
       "_model_module": "@jupyter-widgets/base",
       "_model_module_version": "1.2.0",
       "_model_name": "LayoutModel",
       "_view_count": null,
       "_view_module": "@jupyter-widgets/base",
       "_view_module_version": "1.2.0",
       "_view_name": "LayoutView",
       "align_content": null,
       "align_items": null,
       "align_self": null,
       "border": null,
       "bottom": null,
       "display": null,
       "flex": null,
       "flex_flow": null,
       "grid_area": null,
       "grid_auto_columns": null,
       "grid_auto_flow": null,
       "grid_auto_rows": null,
       "grid_column": null,
       "grid_gap": null,
       "grid_row": null,
       "grid_template_areas": null,
       "grid_template_columns": null,
       "grid_template_rows": null,
       "height": null,
       "justify_content": null,
       "justify_items": null,
       "left": null,
       "margin": null,
       "max_height": null,
       "max_width": null,
       "min_height": null,
       "min_width": null,
       "object_fit": null,
       "object_position": null,
       "order": null,
       "overflow": null,
       "overflow_x": null,
       "overflow_y": null,
       "padding": null,
       "right": null,
       "top": null,
       "visibility": null,
       "width": null
      }
     },
     "3997001ea958428c8a291e5a8dd21ff5": {
      "model_module": "@jupyter-widgets/controls",
      "model_module_version": "1.5.0",
      "model_name": "FloatProgressModel",
      "state": {
       "_dom_classes": [],
       "_model_module": "@jupyter-widgets/controls",
       "_model_module_version": "1.5.0",
       "_model_name": "FloatProgressModel",
       "_view_count": null,
       "_view_module": "@jupyter-widgets/controls",
       "_view_module_version": "1.5.0",
       "_view_name": "ProgressView",
       "bar_style": "success",
       "description": "",
       "description_tooltip": null,
       "layout": "IPY_MODEL_4edca4c6a7c94c5f913449e47ef855bd",
       "max": 1018571383.0,
       "min": 0.0,
       "orientation": "horizontal",
       "style": "IPY_MODEL_fd45242b343b4245a15371380ffcb919",
       "value": 1018571383.0
      }
     },
     "3c4b12eb72ab4fe0853e62ebd21f96e1": {
      "model_module": "@jupyter-widgets/controls",
      "model_module_version": "1.5.0",
      "model_name": "ProgressStyleModel",
      "state": {
       "_model_module": "@jupyter-widgets/controls",
       "_model_module_version": "1.5.0",
       "_model_name": "ProgressStyleModel",
       "_view_count": null,
       "_view_module": "@jupyter-widgets/base",
       "_view_module_version": "1.2.0",
       "_view_name": "StyleView",
       "bar_color": null,
       "description_width": ""
      }
     },
     "432baab32a3f496d8a53abb22ba0f0d7": {
      "model_module": "@jupyter-widgets/base",
      "model_module_version": "1.2.0",
      "model_name": "LayoutModel",
      "state": {
       "_model_module": "@jupyter-widgets/base",
       "_model_module_version": "1.2.0",
       "_model_name": "LayoutModel",
       "_view_count": null,
       "_view_module": "@jupyter-widgets/base",
       "_view_module_version": "1.2.0",
       "_view_name": "LayoutView",
       "align_content": null,
       "align_items": null,
       "align_self": null,
       "border": null,
       "bottom": null,
       "display": null,
       "flex": null,
       "flex_flow": null,
       "grid_area": null,
       "grid_auto_columns": null,
       "grid_auto_flow": null,
       "grid_auto_rows": null,
       "grid_column": null,
       "grid_gap": null,
       "grid_row": null,
       "grid_template_areas": null,
       "grid_template_columns": null,
       "grid_template_rows": null,
       "height": null,
       "justify_content": null,
       "justify_items": null,
       "left": null,
       "margin": null,
       "max_height": null,
       "max_width": null,
       "min_height": null,
       "min_width": null,
       "object_fit": null,
       "object_position": null,
       "order": null,
       "overflow": null,
       "overflow_x": null,
       "overflow_y": null,
       "padding": null,
       "right": null,
       "top": null,
       "visibility": null,
       "width": null
      }
     },
     "448631942fe145428623ef7d25f54f59": {
      "model_module": "@jupyter-widgets/controls",
      "model_module_version": "1.5.0",
      "model_name": "FloatProgressModel",
      "state": {
       "_dom_classes": [],
       "_model_module": "@jupyter-widgets/controls",
       "_model_module_version": "1.5.0",
       "_model_name": "FloatProgressModel",
       "_view_count": null,
       "_view_module": "@jupyter-widgets/controls",
       "_view_module_version": "1.5.0",
       "_view_name": "ProgressView",
       "bar_style": "success",
       "description": "",
       "description_tooltip": null,
       "layout": "IPY_MODEL_a72e8ce2feb24f42ab3111ad955aa5f6",
       "max": 1355863.0,
       "min": 0.0,
       "orientation": "horizontal",
       "style": "IPY_MODEL_3c4b12eb72ab4fe0853e62ebd21f96e1",
       "value": 1355863.0
      }
     },
     "44bf04a0de9e4a7ab447768612fd3f98": {
      "model_module": "@jupyter-widgets/controls",
      "model_module_version": "1.5.0",
      "model_name": "DescriptionStyleModel",
      "state": {
       "_model_module": "@jupyter-widgets/controls",
       "_model_module_version": "1.5.0",
       "_model_name": "DescriptionStyleModel",
       "_view_count": null,
       "_view_module": "@jupyter-widgets/base",
       "_view_module_version": "1.2.0",
       "_view_name": "StyleView",
       "description_width": ""
      }
     },
     "45f76c230c384c0c8ba41317a3d6e98e": {
      "model_module": "@jupyter-widgets/base",
      "model_module_version": "1.2.0",
      "model_name": "LayoutModel",
      "state": {
       "_model_module": "@jupyter-widgets/base",
       "_model_module_version": "1.2.0",
       "_model_name": "LayoutModel",
       "_view_count": null,
       "_view_module": "@jupyter-widgets/base",
       "_view_module_version": "1.2.0",
       "_view_name": "LayoutView",
       "align_content": null,
       "align_items": null,
       "align_self": null,
       "border": null,
       "bottom": null,
       "display": null,
       "flex": null,
       "flex_flow": null,
       "grid_area": null,
       "grid_auto_columns": null,
       "grid_auto_flow": null,
       "grid_auto_rows": null,
       "grid_column": null,
       "grid_gap": null,
       "grid_row": null,
       "grid_template_areas": null,
       "grid_template_columns": null,
       "grid_template_rows": null,
       "height": null,
       "justify_content": null,
       "justify_items": null,
       "left": null,
       "margin": null,
       "max_height": null,
       "max_width": null,
       "min_height": null,
       "min_width": null,
       "object_fit": null,
       "object_position": null,
       "order": null,
       "overflow": null,
       "overflow_x": null,
       "overflow_y": null,
       "padding": null,
       "right": null,
       "top": null,
       "visibility": null,
       "width": null
      }
     },
     "49eeed9224b34463b493fa41d7f0c313": {
      "model_module": "@jupyter-widgets/controls",
      "model_module_version": "1.5.0",
      "model_name": "DescriptionStyleModel",
      "state": {
       "_model_module": "@jupyter-widgets/controls",
       "_model_module_version": "1.5.0",
       "_model_name": "DescriptionStyleModel",
       "_view_count": null,
       "_view_module": "@jupyter-widgets/base",
       "_view_module_version": "1.2.0",
       "_view_name": "StyleView",
       "description_width": ""
      }
     },
     "4cb034e96955459bbcfbe2356642c249": {
      "model_module": "@jupyter-widgets/controls",
      "model_module_version": "1.5.0",
      "model_name": "HBoxModel",
      "state": {
       "_dom_classes": [],
       "_model_module": "@jupyter-widgets/controls",
       "_model_module_version": "1.5.0",
       "_model_name": "HBoxModel",
       "_view_count": null,
       "_view_module": "@jupyter-widgets/controls",
       "_view_module_version": "1.5.0",
       "_view_name": "HBoxView",
       "box_style": "",
       "children": [
        "IPY_MODEL_9dd18e4786754da98c9ca43d6d193889",
        "IPY_MODEL_ba4d5f80ff054fbc84528d5eddffb7d6",
        "IPY_MODEL_e79087a6e306426fbf8fed1e29c7c973"
       ],
       "layout": "IPY_MODEL_85960d5ef16d488892e26e0b5ddb9c88"
      }
     },
     "4dce3a35705d41f8bb41927f07f6024b": {
      "model_module": "@jupyter-widgets/controls",
      "model_module_version": "1.5.0",
      "model_name": "HBoxModel",
      "state": {
       "_dom_classes": [],
       "_model_module": "@jupyter-widgets/controls",
       "_model_module_version": "1.5.0",
       "_model_name": "HBoxModel",
       "_view_count": null,
       "_view_module": "@jupyter-widgets/controls",
       "_view_module_version": "1.5.0",
       "_view_name": "HBoxView",
       "box_style": "",
       "children": [
        "IPY_MODEL_ada9d3bab4f847fb884eb717c9761ef9",
        "IPY_MODEL_448631942fe145428623ef7d25f54f59",
        "IPY_MODEL_80e759655d394574a167e4c753a76f00"
       ],
       "layout": "IPY_MODEL_fe380afa30db459086b013bea3b65538"
      }
     },
     "4edca4c6a7c94c5f913449e47ef855bd": {
      "model_module": "@jupyter-widgets/base",
      "model_module_version": "1.2.0",
      "model_name": "LayoutModel",
      "state": {
       "_model_module": "@jupyter-widgets/base",
       "_model_module_version": "1.2.0",
       "_model_name": "LayoutModel",
       "_view_count": null,
       "_view_module": "@jupyter-widgets/base",
       "_view_module_version": "1.2.0",
       "_view_name": "LayoutView",
       "align_content": null,
       "align_items": null,
       "align_self": null,
       "border": null,
       "bottom": null,
       "display": null,
       "flex": null,
       "flex_flow": null,
       "grid_area": null,
       "grid_auto_columns": null,
       "grid_auto_flow": null,
       "grid_auto_rows": null,
       "grid_column": null,
       "grid_gap": null,
       "grid_row": null,
       "grid_template_areas": null,
       "grid_template_columns": null,
       "grid_template_rows": null,
       "height": null,
       "justify_content": null,
       "justify_items": null,
       "left": null,
       "margin": null,
       "max_height": null,
       "max_width": null,
       "min_height": null,
       "min_width": null,
       "object_fit": null,
       "object_position": null,
       "order": null,
       "overflow": null,
       "overflow_x": null,
       "overflow_y": null,
       "padding": null,
       "right": null,
       "top": null,
       "visibility": null,
       "width": null
      }
     },
     "51fb6c7d9e714cc58cc213de743f9a43": {
      "model_module": "@jupyter-widgets/base",
      "model_module_version": "1.2.0",
      "model_name": "LayoutModel",
      "state": {
       "_model_module": "@jupyter-widgets/base",
       "_model_module_version": "1.2.0",
       "_model_name": "LayoutModel",
       "_view_count": null,
       "_view_module": "@jupyter-widgets/base",
       "_view_module_version": "1.2.0",
       "_view_name": "LayoutView",
       "align_content": null,
       "align_items": null,
       "align_self": null,
       "border": null,
       "bottom": null,
       "display": null,
       "flex": null,
       "flex_flow": null,
       "grid_area": null,
       "grid_auto_columns": null,
       "grid_auto_flow": null,
       "grid_auto_rows": null,
       "grid_column": null,
       "grid_gap": null,
       "grid_row": null,
       "grid_template_areas": null,
       "grid_template_columns": null,
       "grid_template_rows": null,
       "height": null,
       "justify_content": null,
       "justify_items": null,
       "left": null,
       "margin": null,
       "max_height": null,
       "max_width": null,
       "min_height": null,
       "min_width": null,
       "object_fit": null,
       "object_position": null,
       "order": null,
       "overflow": null,
       "overflow_x": null,
       "overflow_y": null,
       "padding": null,
       "right": null,
       "top": null,
       "visibility": null,
       "width": null
      }
     },
     "55efb1c8b2c5458f983e5cbe258c9b24": {
      "model_module": "@jupyter-widgets/controls",
      "model_module_version": "1.5.0",
      "model_name": "DescriptionStyleModel",
      "state": {
       "_model_module": "@jupyter-widgets/controls",
       "_model_module_version": "1.5.0",
       "_model_name": "DescriptionStyleModel",
       "_view_count": null,
       "_view_module": "@jupyter-widgets/base",
       "_view_module_version": "1.2.0",
       "_view_name": "StyleView",
       "description_width": ""
      }
     },
     "567eb8827a054e16997787e48436ae95": {
      "model_module": "@jupyter-widgets/controls",
      "model_module_version": "1.5.0",
      "model_name": "FloatProgressModel",
      "state": {
       "_dom_classes": [],
       "_model_module": "@jupyter-widgets/controls",
       "_model_module_version": "1.5.0",
       "_model_name": "FloatProgressModel",
       "_view_count": null,
       "_view_module": "@jupyter-widgets/controls",
       "_view_module_version": "1.5.0",
       "_view_name": "ProgressView",
       "bar_style": "success",
       "description": "",
       "description_tooltip": null,
       "layout": "IPY_MODEL_1709ed867d5b4d84905f9f52aa4e3b56",
       "max": 1.0,
       "min": 0.0,
       "orientation": "horizontal",
       "style": "IPY_MODEL_a7335dec68b14de78a7cd0ca56f60808",
       "value": 1.0
      }
     },
     "5704cff33963448c9da1f918cd2bc9e0": {
      "model_module": "@jupyter-widgets/controls",
      "model_module_version": "1.5.0",
      "model_name": "HBoxModel",
      "state": {
       "_dom_classes": [],
       "_model_module": "@jupyter-widgets/controls",
       "_model_module_version": "1.5.0",
       "_model_name": "HBoxModel",
       "_view_count": null,
       "_view_module": "@jupyter-widgets/controls",
       "_view_module_version": "1.5.0",
       "_view_name": "HBoxView",
       "box_style": "",
       "children": [
        "IPY_MODEL_85447862398944c0884a3acd8032b2a8",
        "IPY_MODEL_380c0df84128408d8da77ea81f81dad5",
        "IPY_MODEL_0e100fdd4b244f019823f18a878fcb68"
       ],
       "layout": "IPY_MODEL_a842bb17859c45f08d90213cbf52fc2f"
      }
     },
     "5870692c98f043d5a70cc235489d891d": {
      "model_module": "@jupyter-widgets/controls",
      "model_module_version": "1.5.0",
      "model_name": "HBoxModel",
      "state": {
       "_dom_classes": [],
       "_model_module": "@jupyter-widgets/controls",
       "_model_module_version": "1.5.0",
       "_model_name": "HBoxModel",
       "_view_count": null,
       "_view_module": "@jupyter-widgets/controls",
       "_view_module_version": "1.5.0",
       "_view_name": "HBoxView",
       "box_style": "",
       "children": [
        "IPY_MODEL_832409d938e54c7084ad48a09049bbd8",
        "IPY_MODEL_10a24c002598475bb103399529c828a0",
        "IPY_MODEL_79b4cc56a6e244bd83c6c99cf9a5dfa3"
       ],
       "layout": "IPY_MODEL_d949a493fc9441d098b43a8146d4e1ee"
      }
     },
     "5c99b545136e403cac3c580d5f132e57": {
      "model_module": "@jupyter-widgets/controls",
      "model_module_version": "1.5.0",
      "model_name": "DescriptionStyleModel",
      "state": {
       "_model_module": "@jupyter-widgets/controls",
       "_model_module_version": "1.5.0",
       "_model_name": "DescriptionStyleModel",
       "_view_count": null,
       "_view_module": "@jupyter-widgets/base",
       "_view_module_version": "1.2.0",
       "_view_name": "StyleView",
       "description_width": ""
      }
     },
     "61d23910edb14b778d940e9721d0bc2a": {
      "model_module": "@jupyter-widgets/controls",
      "model_module_version": "1.5.0",
      "model_name": "DescriptionStyleModel",
      "state": {
       "_model_module": "@jupyter-widgets/controls",
       "_model_module_version": "1.5.0",
       "_model_name": "DescriptionStyleModel",
       "_view_count": null,
       "_view_module": "@jupyter-widgets/base",
       "_view_module_version": "1.2.0",
       "_view_name": "StyleView",
       "description_width": ""
      }
     },
     "646ecc6d2a0e43d6bbccae0cf9b569ae": {
      "model_module": "@jupyter-widgets/base",
      "model_module_version": "1.2.0",
      "model_name": "LayoutModel",
      "state": {
       "_model_module": "@jupyter-widgets/base",
       "_model_module_version": "1.2.0",
       "_model_name": "LayoutModel",
       "_view_count": null,
       "_view_module": "@jupyter-widgets/base",
       "_view_module_version": "1.2.0",
       "_view_name": "LayoutView",
       "align_content": null,
       "align_items": null,
       "align_self": null,
       "border": null,
       "bottom": null,
       "display": null,
       "flex": null,
       "flex_flow": null,
       "grid_area": null,
       "grid_auto_columns": null,
       "grid_auto_flow": null,
       "grid_auto_rows": null,
       "grid_column": null,
       "grid_gap": null,
       "grid_row": null,
       "grid_template_areas": null,
       "grid_template_columns": null,
       "grid_template_rows": null,
       "height": null,
       "justify_content": null,
       "justify_items": null,
       "left": null,
       "margin": null,
       "max_height": null,
       "max_width": null,
       "min_height": null,
       "min_width": null,
       "object_fit": null,
       "object_position": null,
       "order": null,
       "overflow": null,
       "overflow_x": null,
       "overflow_y": null,
       "padding": null,
       "right": null,
       "top": null,
       "visibility": null,
       "width": null
      }
     },
     "694296063b6a4b69b350f3694e957767": {
      "model_module": "@jupyter-widgets/base",
      "model_module_version": "1.2.0",
      "model_name": "LayoutModel",
      "state": {
       "_model_module": "@jupyter-widgets/base",
       "_model_module_version": "1.2.0",
       "_model_name": "LayoutModel",
       "_view_count": null,
       "_view_module": "@jupyter-widgets/base",
       "_view_module_version": "1.2.0",
       "_view_name": "LayoutView",
       "align_content": null,
       "align_items": null,
       "align_self": null,
       "border": null,
       "bottom": null,
       "display": null,
       "flex": null,
       "flex_flow": null,
       "grid_area": null,
       "grid_auto_columns": null,
       "grid_auto_flow": null,
       "grid_auto_rows": null,
       "grid_column": null,
       "grid_gap": null,
       "grid_row": null,
       "grid_template_areas": null,
       "grid_template_columns": null,
       "grid_template_rows": null,
       "height": null,
       "justify_content": null,
       "justify_items": null,
       "left": null,
       "margin": null,
       "max_height": null,
       "max_width": null,
       "min_height": null,
       "min_width": null,
       "object_fit": null,
       "object_position": null,
       "order": null,
       "overflow": null,
       "overflow_x": null,
       "overflow_y": null,
       "padding": null,
       "right": null,
       "top": null,
       "visibility": null,
       "width": null
      }
     },
     "69e1b962e4464f488e1224abe4df5323": {
      "model_module": "@jupyter-widgets/controls",
      "model_module_version": "1.5.0",
      "model_name": "HBoxModel",
      "state": {
       "_dom_classes": [],
       "_model_module": "@jupyter-widgets/controls",
       "_model_module_version": "1.5.0",
       "_model_name": "HBoxModel",
       "_view_count": null,
       "_view_module": "@jupyter-widgets/controls",
       "_view_module_version": "1.5.0",
       "_view_name": "HBoxView",
       "box_style": "",
       "children": [
        "IPY_MODEL_1c28ab0ed59b43bbac9eedcdd3b47460",
        "IPY_MODEL_76e7e0fd3a414bc0af95d7febafea850",
        "IPY_MODEL_1f0b7a091c24418ea4c36c056d9d9850"
       ],
       "layout": "IPY_MODEL_9d319b9dddfe4fceb280bce226bb65ce"
      }
     },
     "6ae30323d376448986764381a0979179": {
      "model_module": "@jupyter-widgets/controls",
      "model_module_version": "1.5.0",
      "model_name": "HTMLModel",
      "state": {
       "_dom_classes": [],
       "_model_module": "@jupyter-widgets/controls",
       "_model_module_version": "1.5.0",
       "_model_name": "HTMLModel",
       "_view_count": null,
       "_view_module": "@jupyter-widgets/controls",
       "_view_module_version": "1.5.0",
       "_view_name": "HTMLView",
       "description": "",
       "description_tooltip": null,
       "layout": "IPY_MODEL_1dc035861be7432a81c3ca4dfbd75423",
       "placeholder": "​",
       "style": "IPY_MODEL_fba962ec141c4e54b065352f9ce84f60",
       "value": "Downloading: 100%"
      }
     },
     "6d1d1ebf47f34598b7ee0efed6526f4e": {
      "model_module": "@jupyter-widgets/controls",
      "model_module_version": "1.5.0",
      "model_name": "DescriptionStyleModel",
      "state": {
       "_model_module": "@jupyter-widgets/controls",
       "_model_module_version": "1.5.0",
       "_model_name": "DescriptionStyleModel",
       "_view_count": null,
       "_view_module": "@jupyter-widgets/base",
       "_view_module_version": "1.2.0",
       "_view_name": "StyleView",
       "description_width": ""
      }
     },
     "75bed7f6f42745e29e84ba3dd62e86a2": {
      "model_module": "@jupyter-widgets/base",
      "model_module_version": "1.2.0",
      "model_name": "LayoutModel",
      "state": {
       "_model_module": "@jupyter-widgets/base",
       "_model_module_version": "1.2.0",
       "_model_name": "LayoutModel",
       "_view_count": null,
       "_view_module": "@jupyter-widgets/base",
       "_view_module_version": "1.2.0",
       "_view_name": "LayoutView",
       "align_content": null,
       "align_items": null,
       "align_self": null,
       "border": null,
       "bottom": null,
       "display": null,
       "flex": null,
       "flex_flow": null,
       "grid_area": null,
       "grid_auto_columns": null,
       "grid_auto_flow": null,
       "grid_auto_rows": null,
       "grid_column": null,
       "grid_gap": null,
       "grid_row": null,
       "grid_template_areas": null,
       "grid_template_columns": null,
       "grid_template_rows": null,
       "height": null,
       "justify_content": null,
       "justify_items": null,
       "left": null,
       "margin": null,
       "max_height": null,
       "max_width": null,
       "min_height": null,
       "min_width": null,
       "object_fit": null,
       "object_position": null,
       "order": null,
       "overflow": null,
       "overflow_x": null,
       "overflow_y": null,
       "padding": null,
       "right": null,
       "top": null,
       "visibility": null,
       "width": null
      }
     },
     "766a5c2ac2114b5db4bb333bec2a73d8": {
      "model_module": "@jupyter-widgets/controls",
      "model_module_version": "1.5.0",
      "model_name": "HTMLModel",
      "state": {
       "_dom_classes": [],
       "_model_module": "@jupyter-widgets/controls",
       "_model_module_version": "1.5.0",
       "_model_name": "HTMLModel",
       "_view_count": null,
       "_view_module": "@jupyter-widgets/controls",
       "_view_module_version": "1.5.0",
       "_view_name": "HTMLView",
       "description": "",
       "description_tooltip": null,
       "layout": "IPY_MODEL_f6ce2c465a084e4dbc6cb7b9eec823ea",
       "placeholder": "​",
       "style": "IPY_MODEL_bd055e4a62c1409990b70da2393743f4",
       "value": " 456k/456k [00:00&lt;00:00, 7.99MB/s]"
      }
     },
     "76e7e0fd3a414bc0af95d7febafea850": {
      "model_module": "@jupyter-widgets/controls",
      "model_module_version": "1.5.0",
      "model_name": "FloatProgressModel",
      "state": {
       "_dom_classes": [],
       "_model_module": "@jupyter-widgets/controls",
       "_model_module_version": "1.5.0",
       "_model_name": "FloatProgressModel",
       "_view_count": null,
       "_view_module": "@jupyter-widgets/controls",
       "_view_module_version": "1.5.0",
       "_view_name": "ProgressView",
       "bar_style": "success",
       "description": "",
       "description_tooltip": null,
       "layout": "IPY_MODEL_dbdcff747bea405c98bee9670fbe56b7",
       "max": 1.0,
       "min": 0.0,
       "orientation": "horizontal",
       "style": "IPY_MODEL_ab98ca6c2459495896dcdeca7e0e8324",
       "value": 1.0
      }
     },
     "79b4cc56a6e244bd83c6c99cf9a5dfa3": {
      "model_module": "@jupyter-widgets/controls",
      "model_module_version": "1.5.0",
      "model_name": "HTMLModel",
      "state": {
       "_dom_classes": [],
       "_model_module": "@jupyter-widgets/controls",
       "_model_module_version": "1.5.0",
       "_model_name": "HTMLModel",
       "_view_count": null,
       "_view_module": "@jupyter-widgets/controls",
       "_view_module_version": "1.5.0",
       "_view_name": "HTMLView",
       "description": "",
       "description_tooltip": null,
       "layout": "IPY_MODEL_82037ed190564f579ce5bd79ace8535c",
       "placeholder": "​",
       "style": "IPY_MODEL_5c99b545136e403cac3c580d5f132e57",
       "value": " 1.63k/1.63k [00:00&lt;00:00, 53.0kB/s]"
      }
     },
     "7d3846beda1f416e91b819b2d2afe387": {
      "model_module": "@jupyter-widgets/base",
      "model_module_version": "1.2.0",
      "model_name": "LayoutModel",
      "state": {
       "_model_module": "@jupyter-widgets/base",
       "_model_module_version": "1.2.0",
       "_model_name": "LayoutModel",
       "_view_count": null,
       "_view_module": "@jupyter-widgets/base",
       "_view_module_version": "1.2.0",
       "_view_name": "LayoutView",
       "align_content": null,
       "align_items": null,
       "align_self": null,
       "border": null,
       "bottom": null,
       "display": null,
       "flex": null,
       "flex_flow": null,
       "grid_area": null,
       "grid_auto_columns": null,
       "grid_auto_flow": null,
       "grid_auto_rows": null,
       "grid_column": null,
       "grid_gap": null,
       "grid_row": null,
       "grid_template_areas": null,
       "grid_template_columns": null,
       "grid_template_rows": null,
       "height": null,
       "justify_content": null,
       "justify_items": null,
       "left": null,
       "margin": null,
       "max_height": null,
       "max_width": null,
       "min_height": null,
       "min_width": null,
       "object_fit": null,
       "object_position": null,
       "order": null,
       "overflow": null,
       "overflow_x": null,
       "overflow_y": null,
       "padding": null,
       "right": null,
       "top": null,
       "visibility": null,
       "width": null
      }
     },
     "7e6768958d884a3bbb6bb6815d94b18c": {
      "model_module": "@jupyter-widgets/controls",
      "model_module_version": "1.5.0",
      "model_name": "HBoxModel",
      "state": {
       "_dom_classes": [],
       "_model_module": "@jupyter-widgets/controls",
       "_model_module_version": "1.5.0",
       "_model_name": "HBoxModel",
       "_view_count": null,
       "_view_module": "@jupyter-widgets/controls",
       "_view_module_version": "1.5.0",
       "_view_name": "HBoxView",
       "box_style": "",
       "children": [
        "IPY_MODEL_0fba5bf08edb4af88bf88f370c7329ac",
        "IPY_MODEL_f18dd4a05f674b5b80bd14148e5f1a61",
        "IPY_MODEL_766a5c2ac2114b5db4bb333bec2a73d8"
       ],
       "layout": "IPY_MODEL_c5a5ce4279f347f39196433ff0469040"
      }
     },
     "80d64112509143268d50b5e1ccd49a8e": {
      "model_module": "@jupyter-widgets/controls",
      "model_module_version": "1.5.0",
      "model_name": "HTMLModel",
      "state": {
       "_dom_classes": [],
       "_model_module": "@jupyter-widgets/controls",
       "_model_module_version": "1.5.0",
       "_model_name": "HTMLModel",
       "_view_count": null,
       "_view_module": "@jupyter-widgets/controls",
       "_view_module_version": "1.5.0",
       "_view_name": "HTMLView",
       "description": "",
       "description_tooltip": null,
       "layout": "IPY_MODEL_2cc167330f0b41c3bd47a6d9b506d64f",
       "placeholder": "​",
       "style": "IPY_MODEL_006b194ec9744ca0a10c2111721d5d73",
       "value": " 1.02G/1.02G [00:23&lt;00:00, 45.2MB/s]"
      }
     },
     "80e759655d394574a167e4c753a76f00": {
      "model_module": "@jupyter-widgets/controls",
      "model_module_version": "1.5.0",
      "model_name": "HTMLModel",
      "state": {
       "_dom_classes": [],
       "_model_module": "@jupyter-widgets/controls",
       "_model_module_version": "1.5.0",
       "_model_name": "HTMLModel",
       "_view_count": null,
       "_view_module": "@jupyter-widgets/controls",
       "_view_module_version": "1.5.0",
       "_view_name": "HTMLView",
       "description": "",
       "description_tooltip": null,
       "layout": "IPY_MODEL_2141845e359a4c83ab714fe448f6cb27",
       "placeholder": "​",
       "style": "IPY_MODEL_17dc32f7efb747ceac5ae15c8055045c",
       "value": " 1.36M/1.36M [00:00&lt;00:00, 2.36MB/s]"
      }
     },
     "81db4eae4d774df8a5594d984a124aa2": {
      "model_module": "@jupyter-widgets/controls",
      "model_module_version": "1.5.0",
      "model_name": "HBoxModel",
      "state": {
       "_dom_classes": [],
       "_model_module": "@jupyter-widgets/controls",
       "_model_module_version": "1.5.0",
       "_model_name": "HBoxModel",
       "_view_count": null,
       "_view_module": "@jupyter-widgets/controls",
       "_view_module_version": "1.5.0",
       "_view_name": "HBoxView",
       "box_style": "",
       "children": [
        "IPY_MODEL_c17bd29741e843d49e89329fa5ac5857",
        "IPY_MODEL_e1c2953b3e514af99f508233f3d41a82",
        "IPY_MODEL_82c4001ed81d4c279e09d6f5aa7e29e8"
       ],
       "layout": "IPY_MODEL_1574408cd11545a2905c123d2aade7c0"
      }
     },
     "82037ed190564f579ce5bd79ace8535c": {
      "model_module": "@jupyter-widgets/base",
      "model_module_version": "1.2.0",
      "model_name": "LayoutModel",
      "state": {
       "_model_module": "@jupyter-widgets/base",
       "_model_module_version": "1.2.0",
       "_model_name": "LayoutModel",
       "_view_count": null,
       "_view_module": "@jupyter-widgets/base",
       "_view_module_version": "1.2.0",
       "_view_name": "LayoutView",
       "align_content": null,
       "align_items": null,
       "align_self": null,
       "border": null,
       "bottom": null,
       "display": null,
       "flex": null,
       "flex_flow": null,
       "grid_area": null,
       "grid_auto_columns": null,
       "grid_auto_flow": null,
       "grid_auto_rows": null,
       "grid_column": null,
       "grid_gap": null,
       "grid_row": null,
       "grid_template_areas": null,
       "grid_template_columns": null,
       "grid_template_rows": null,
       "height": null,
       "justify_content": null,
       "justify_items": null,
       "left": null,
       "margin": null,
       "max_height": null,
       "max_width": null,
       "min_height": null,
       "min_width": null,
       "object_fit": null,
       "object_position": null,
       "order": null,
       "overflow": null,
       "overflow_x": null,
       "overflow_y": null,
       "padding": null,
       "right": null,
       "top": null,
       "visibility": null,
       "width": null
      }
     },
     "82c4001ed81d4c279e09d6f5aa7e29e8": {
      "model_module": "@jupyter-widgets/controls",
      "model_module_version": "1.5.0",
      "model_name": "HTMLModel",
      "state": {
       "_dom_classes": [],
       "_model_module": "@jupyter-widgets/controls",
       "_model_module_version": "1.5.0",
       "_model_name": "HTMLModel",
       "_view_count": null,
       "_view_module": "@jupyter-widgets/controls",
       "_view_module_version": "1.5.0",
       "_view_name": "HTMLView",
       "description": "",
       "description_tooltip": null,
       "layout": "IPY_MODEL_432baab32a3f496d8a53abb22ba0f0d7",
       "placeholder": "​",
       "style": "IPY_MODEL_eef374822f3845bfbd8fd1ed2633dc2e",
       "value": " 1/1 [00:00&lt;00:00,  1.17ba/s]"
      }
     },
     "832409d938e54c7084ad48a09049bbd8": {
      "model_module": "@jupyter-widgets/controls",
      "model_module_version": "1.5.0",
      "model_name": "HTMLModel",
      "state": {
       "_dom_classes": [],
       "_model_module": "@jupyter-widgets/controls",
       "_model_module_version": "1.5.0",
       "_model_name": "HTMLModel",
       "_view_count": null,
       "_view_module": "@jupyter-widgets/controls",
       "_view_module_version": "1.5.0",
       "_view_name": "HTMLView",
       "description": "",
       "description_tooltip": null,
       "layout": "IPY_MODEL_51fb6c7d9e714cc58cc213de743f9a43",
       "placeholder": "​",
       "style": "IPY_MODEL_a497bdcb91794d869a0303f2309afe1f",
       "value": "Downloading: 100%"
      }
     },
     "85447862398944c0884a3acd8032b2a8": {
      "model_module": "@jupyter-widgets/controls",
      "model_module_version": "1.5.0",
      "model_name": "HTMLModel",
      "state": {
       "_dom_classes": [],
       "_model_module": "@jupyter-widgets/controls",
       "_model_module_version": "1.5.0",
       "_model_name": "HTMLModel",
       "_view_count": null,
       "_view_module": "@jupyter-widgets/controls",
       "_view_module_version": "1.5.0",
       "_view_name": "HTMLView",
       "description": "",
       "description_tooltip": null,
       "layout": "IPY_MODEL_45f76c230c384c0c8ba41317a3d6e98e",
       "placeholder": "​",
       "style": "IPY_MODEL_e818739bef724029b02b09c52d1d33ce",
       "value": "100%"
      }
     },
     "85960d5ef16d488892e26e0b5ddb9c88": {
      "model_module": "@jupyter-widgets/base",
      "model_module_version": "1.2.0",
      "model_name": "LayoutModel",
      "state": {
       "_model_module": "@jupyter-widgets/base",
       "_model_module_version": "1.2.0",
       "_model_name": "LayoutModel",
       "_view_count": null,
       "_view_module": "@jupyter-widgets/base",
       "_view_module_version": "1.2.0",
       "_view_name": "LayoutView",
       "align_content": null,
       "align_items": null,
       "align_self": null,
       "border": null,
       "bottom": null,
       "display": null,
       "flex": null,
       "flex_flow": null,
       "grid_area": null,
       "grid_auto_columns": null,
       "grid_auto_flow": null,
       "grid_auto_rows": null,
       "grid_column": null,
       "grid_gap": null,
       "grid_row": null,
       "grid_template_areas": null,
       "grid_template_columns": null,
       "grid_template_rows": null,
       "height": null,
       "justify_content": null,
       "justify_items": null,
       "left": null,
       "margin": null,
       "max_height": null,
       "max_width": null,
       "min_height": null,
       "min_width": null,
       "object_fit": null,
       "object_position": null,
       "order": null,
       "overflow": null,
       "overflow_x": null,
       "overflow_y": null,
       "padding": null,
       "right": null,
       "top": null,
       "visibility": null,
       "width": null
      }
     },
     "87af8e2a8d314b39ab7eacd5c1add788": {
      "model_module": "@jupyter-widgets/controls",
      "model_module_version": "1.5.0",
      "model_name": "DescriptionStyleModel",
      "state": {
       "_model_module": "@jupyter-widgets/controls",
       "_model_module_version": "1.5.0",
       "_model_name": "DescriptionStyleModel",
       "_view_count": null,
       "_view_module": "@jupyter-widgets/base",
       "_view_module_version": "1.2.0",
       "_view_name": "StyleView",
       "description_width": ""
      }
     },
     "8f6ba29bf8a44f128ac922216e25ae75": {
      "model_module": "@jupyter-widgets/controls",
      "model_module_version": "1.5.0",
      "model_name": "HBoxModel",
      "state": {
       "_dom_classes": [],
       "_model_module": "@jupyter-widgets/controls",
       "_model_module_version": "1.5.0",
       "_model_name": "HBoxModel",
       "_view_count": null,
       "_view_module": "@jupyter-widgets/controls",
       "_view_module_version": "1.5.0",
       "_view_name": "HBoxView",
       "box_style": "",
       "children": [
        "IPY_MODEL_6ae30323d376448986764381a0979179",
        "IPY_MODEL_3997001ea958428c8a291e5a8dd21ff5",
        "IPY_MODEL_80d64112509143268d50b5e1ccd49a8e"
       ],
       "layout": "IPY_MODEL_fda925604c6e448888b8a7b638b9620d"
      }
     },
     "8fc6a89f20c94dbe896098921462a702": {
      "model_module": "@jupyter-widgets/base",
      "model_module_version": "1.2.0",
      "model_name": "LayoutModel",
      "state": {
       "_model_module": "@jupyter-widgets/base",
       "_model_module_version": "1.2.0",
       "_model_name": "LayoutModel",
       "_view_count": null,
       "_view_module": "@jupyter-widgets/base",
       "_view_module_version": "1.2.0",
       "_view_name": "LayoutView",
       "align_content": null,
       "align_items": null,
       "align_self": null,
       "border": null,
       "bottom": null,
       "display": null,
       "flex": null,
       "flex_flow": null,
       "grid_area": null,
       "grid_auto_columns": null,
       "grid_auto_flow": null,
       "grid_auto_rows": null,
       "grid_column": null,
       "grid_gap": null,
       "grid_row": null,
       "grid_template_areas": null,
       "grid_template_columns": null,
       "grid_template_rows": null,
       "height": null,
       "justify_content": null,
       "justify_items": null,
       "left": null,
       "margin": null,
       "max_height": null,
       "max_width": null,
       "min_height": null,
       "min_width": null,
       "object_fit": null,
       "object_position": null,
       "order": null,
       "overflow": null,
       "overflow_x": null,
       "overflow_y": null,
       "padding": null,
       "right": null,
       "top": null,
       "visibility": null,
       "width": null
      }
     },
     "90099e4a0a844b6b98eb8a482a236bbe": {
      "model_module": "@jupyter-widgets/base",
      "model_module_version": "1.2.0",
      "model_name": "LayoutModel",
      "state": {
       "_model_module": "@jupyter-widgets/base",
       "_model_module_version": "1.2.0",
       "_model_name": "LayoutModel",
       "_view_count": null,
       "_view_module": "@jupyter-widgets/base",
       "_view_module_version": "1.2.0",
       "_view_name": "LayoutView",
       "align_content": null,
       "align_items": null,
       "align_self": null,
       "border": null,
       "bottom": null,
       "display": null,
       "flex": null,
       "flex_flow": null,
       "grid_area": null,
       "grid_auto_columns": null,
       "grid_auto_flow": null,
       "grid_auto_rows": null,
       "grid_column": null,
       "grid_gap": null,
       "grid_row": null,
       "grid_template_areas": null,
       "grid_template_columns": null,
       "grid_template_rows": null,
       "height": null,
       "justify_content": null,
       "justify_items": null,
       "left": null,
       "margin": null,
       "max_height": null,
       "max_width": null,
       "min_height": null,
       "min_width": null,
       "object_fit": null,
       "object_position": null,
       "order": null,
       "overflow": null,
       "overflow_x": null,
       "overflow_y": null,
       "padding": null,
       "right": null,
       "top": null,
       "visibility": null,
       "width": null
      }
     },
     "92ad72152bed4a9da736ddf3e9432128": {
      "model_module": "@jupyter-widgets/controls",
      "model_module_version": "1.5.0",
      "model_name": "FloatProgressModel",
      "state": {
       "_dom_classes": [],
       "_model_module": "@jupyter-widgets/controls",
       "_model_module_version": "1.5.0",
       "_model_name": "FloatProgressModel",
       "_view_count": null,
       "_view_module": "@jupyter-widgets/controls",
       "_view_module_version": "1.5.0",
       "_view_name": "ProgressView",
       "bar_style": "success",
       "description": "",
       "description_tooltip": null,
       "layout": "IPY_MODEL_d784048caea84ef99eb1e381fdeae001",
       "max": 26.0,
       "min": 0.0,
       "orientation": "horizontal",
       "style": "IPY_MODEL_179fcd683bf542c8aa670f905324299b",
       "value": 26.0
      }
     },
     "9595ee2e33b94d218e5ee9dd9bd37b96": {
      "model_module": "@jupyter-widgets/base",
      "model_module_version": "1.2.0",
      "model_name": "LayoutModel",
      "state": {
       "_model_module": "@jupyter-widgets/base",
       "_model_module_version": "1.2.0",
       "_model_name": "LayoutModel",
       "_view_count": null,
       "_view_module": "@jupyter-widgets/base",
       "_view_module_version": "1.2.0",
       "_view_name": "LayoutView",
       "align_content": null,
       "align_items": null,
       "align_self": null,
       "border": null,
       "bottom": null,
       "display": null,
       "flex": null,
       "flex_flow": null,
       "grid_area": null,
       "grid_auto_columns": null,
       "grid_auto_flow": null,
       "grid_auto_rows": null,
       "grid_column": null,
       "grid_gap": null,
       "grid_row": null,
       "grid_template_areas": null,
       "grid_template_columns": null,
       "grid_template_rows": null,
       "height": null,
       "justify_content": null,
       "justify_items": null,
       "left": null,
       "margin": null,
       "max_height": null,
       "max_width": null,
       "min_height": null,
       "min_width": null,
       "object_fit": null,
       "object_position": null,
       "order": null,
       "overflow": null,
       "overflow_x": null,
       "overflow_y": null,
       "padding": null,
       "right": null,
       "top": null,
       "visibility": null,
       "width": null
      }
     },
     "95f7a0f23dca40d7bb98ff688945820c": {
      "model_module": "@jupyter-widgets/base",
      "model_module_version": "1.2.0",
      "model_name": "LayoutModel",
      "state": {
       "_model_module": "@jupyter-widgets/base",
       "_model_module_version": "1.2.0",
       "_model_name": "LayoutModel",
       "_view_count": null,
       "_view_module": "@jupyter-widgets/base",
       "_view_module_version": "1.2.0",
       "_view_name": "LayoutView",
       "align_content": null,
       "align_items": null,
       "align_self": null,
       "border": null,
       "bottom": null,
       "display": null,
       "flex": null,
       "flex_flow": null,
       "grid_area": null,
       "grid_auto_columns": null,
       "grid_auto_flow": null,
       "grid_auto_rows": null,
       "grid_column": null,
       "grid_gap": null,
       "grid_row": null,
       "grid_template_areas": null,
       "grid_template_columns": null,
       "grid_template_rows": null,
       "height": null,
       "justify_content": null,
       "justify_items": null,
       "left": null,
       "margin": null,
       "max_height": null,
       "max_width": null,
       "min_height": null,
       "min_width": null,
       "object_fit": null,
       "object_position": null,
       "order": null,
       "overflow": null,
       "overflow_x": null,
       "overflow_y": null,
       "padding": null,
       "right": null,
       "top": null,
       "visibility": null,
       "width": null
      }
     },
     "968ee61d6b0147a28f98c64493ab9dab": {
      "model_module": "@jupyter-widgets/controls",
      "model_module_version": "1.5.0",
      "model_name": "HTMLModel",
      "state": {
       "_dom_classes": [],
       "_model_module": "@jupyter-widgets/controls",
       "_model_module_version": "1.5.0",
       "_model_name": "HTMLModel",
       "_view_count": null,
       "_view_module": "@jupyter-widgets/controls",
       "_view_module_version": "1.5.0",
       "_view_name": "HTMLView",
       "description": "",
       "description_tooltip": null,
       "layout": "IPY_MODEL_f429e7a0914c4d76877ce59ad080a562",
       "placeholder": "​",
       "style": "IPY_MODEL_55efb1c8b2c5458f983e5cbe258c9b24",
       "value": "100%"
      }
     },
     "9b3cf67ee4334edab9cfc45f1dc3502c": {
      "model_module": "@jupyter-widgets/base",
      "model_module_version": "1.2.0",
      "model_name": "LayoutModel",
      "state": {
       "_model_module": "@jupyter-widgets/base",
       "_model_module_version": "1.2.0",
       "_model_name": "LayoutModel",
       "_view_count": null,
       "_view_module": "@jupyter-widgets/base",
       "_view_module_version": "1.2.0",
       "_view_name": "LayoutView",
       "align_content": null,
       "align_items": null,
       "align_self": null,
       "border": null,
       "bottom": null,
       "display": null,
       "flex": null,
       "flex_flow": null,
       "grid_area": null,
       "grid_auto_columns": null,
       "grid_auto_flow": null,
       "grid_auto_rows": null,
       "grid_column": null,
       "grid_gap": null,
       "grid_row": null,
       "grid_template_areas": null,
       "grid_template_columns": null,
       "grid_template_rows": null,
       "height": null,
       "justify_content": null,
       "justify_items": null,
       "left": null,
       "margin": null,
       "max_height": null,
       "max_width": null,
       "min_height": null,
       "min_width": null,
       "object_fit": null,
       "object_position": null,
       "order": null,
       "overflow": null,
       "overflow_x": null,
       "overflow_y": null,
       "padding": null,
       "right": null,
       "top": null,
       "visibility": null,
       "width": null
      }
     },
     "9c0e4296e594481286770311ffe86c09": {
      "model_module": "@jupyter-widgets/controls",
      "model_module_version": "1.5.0",
      "model_name": "DescriptionStyleModel",
      "state": {
       "_model_module": "@jupyter-widgets/controls",
       "_model_module_version": "1.5.0",
       "_model_name": "DescriptionStyleModel",
       "_view_count": null,
       "_view_module": "@jupyter-widgets/base",
       "_view_module_version": "1.2.0",
       "_view_name": "StyleView",
       "description_width": ""
      }
     },
     "9d319b9dddfe4fceb280bce226bb65ce": {
      "model_module": "@jupyter-widgets/base",
      "model_module_version": "1.2.0",
      "model_name": "LayoutModel",
      "state": {
       "_model_module": "@jupyter-widgets/base",
       "_model_module_version": "1.2.0",
       "_model_name": "LayoutModel",
       "_view_count": null,
       "_view_module": "@jupyter-widgets/base",
       "_view_module_version": "1.2.0",
       "_view_name": "LayoutView",
       "align_content": null,
       "align_items": null,
       "align_self": null,
       "border": null,
       "bottom": null,
       "display": null,
       "flex": null,
       "flex_flow": null,
       "grid_area": null,
       "grid_auto_columns": null,
       "grid_auto_flow": null,
       "grid_auto_rows": null,
       "grid_column": null,
       "grid_gap": null,
       "grid_row": null,
       "grid_template_areas": null,
       "grid_template_columns": null,
       "grid_template_rows": null,
       "height": null,
       "justify_content": null,
       "justify_items": null,
       "left": null,
       "margin": null,
       "max_height": null,
       "max_width": null,
       "min_height": null,
       "min_width": null,
       "object_fit": null,
       "object_position": null,
       "order": null,
       "overflow": null,
       "overflow_x": null,
       "overflow_y": null,
       "padding": null,
       "right": null,
       "top": null,
       "visibility": null,
       "width": null
      }
     },
     "9dd18e4786754da98c9ca43d6d193889": {
      "model_module": "@jupyter-widgets/controls",
      "model_module_version": "1.5.0",
      "model_name": "HTMLModel",
      "state": {
       "_dom_classes": [],
       "_model_module": "@jupyter-widgets/controls",
       "_model_module_version": "1.5.0",
       "_model_name": "HTMLModel",
       "_view_count": null,
       "_view_module": "@jupyter-widgets/controls",
       "_view_module_version": "1.5.0",
       "_view_name": "HTMLView",
       "description": "",
       "description_tooltip": null,
       "layout": "IPY_MODEL_f2c2293c9d96400690e8e7915721aa00",
       "placeholder": "​",
       "style": "IPY_MODEL_286f669005424ff3b1e6f8209ad68ca6",
       "value": "Downloading: "
      }
     },
     "a497bdcb91794d869a0303f2309afe1f": {
      "model_module": "@jupyter-widgets/controls",
      "model_module_version": "1.5.0",
      "model_name": "DescriptionStyleModel",
      "state": {
       "_model_module": "@jupyter-widgets/controls",
       "_model_module_version": "1.5.0",
       "_model_name": "DescriptionStyleModel",
       "_view_count": null,
       "_view_module": "@jupyter-widgets/base",
       "_view_module_version": "1.2.0",
       "_view_name": "StyleView",
       "description_width": ""
      }
     },
     "a5afbae6da38462b9608f7b227677ffc": {
      "model_module": "@jupyter-widgets/controls",
      "model_module_version": "1.5.0",
      "model_name": "HBoxModel",
      "state": {
       "_dom_classes": [],
       "_model_module": "@jupyter-widgets/controls",
       "_model_module_version": "1.5.0",
       "_model_name": "HBoxModel",
       "_view_count": null,
       "_view_module": "@jupyter-widgets/controls",
       "_view_module_version": "1.5.0",
       "_view_name": "HBoxView",
       "box_style": "",
       "children": [
        "IPY_MODEL_ec66f114bee24ca38e71062274e10105",
        "IPY_MODEL_92ad72152bed4a9da736ddf3e9432128",
        "IPY_MODEL_e721a51fda58496f92a94eb365c41f7d"
       ],
       "layout": "IPY_MODEL_f56ae0692cef4be1a66d66413bea3ebf"
      }
     },
     "a72e8ce2feb24f42ab3111ad955aa5f6": {
      "model_module": "@jupyter-widgets/base",
      "model_module_version": "1.2.0",
      "model_name": "LayoutModel",
      "state": {
       "_model_module": "@jupyter-widgets/base",
       "_model_module_version": "1.2.0",
       "_model_name": "LayoutModel",
       "_view_count": null,
       "_view_module": "@jupyter-widgets/base",
       "_view_module_version": "1.2.0",
       "_view_name": "LayoutView",
       "align_content": null,
       "align_items": null,
       "align_self": null,
       "border": null,
       "bottom": null,
       "display": null,
       "flex": null,
       "flex_flow": null,
       "grid_area": null,
       "grid_auto_columns": null,
       "grid_auto_flow": null,
       "grid_auto_rows": null,
       "grid_column": null,
       "grid_gap": null,
       "grid_row": null,
       "grid_template_areas": null,
       "grid_template_columns": null,
       "grid_template_rows": null,
       "height": null,
       "justify_content": null,
       "justify_items": null,
       "left": null,
       "margin": null,
       "max_height": null,
       "max_width": null,
       "min_height": null,
       "min_width": null,
       "object_fit": null,
       "object_position": null,
       "order": null,
       "overflow": null,
       "overflow_x": null,
       "overflow_y": null,
       "padding": null,
       "right": null,
       "top": null,
       "visibility": null,
       "width": null
      }
     },
     "a7335dec68b14de78a7cd0ca56f60808": {
      "model_module": "@jupyter-widgets/controls",
      "model_module_version": "1.5.0",
      "model_name": "ProgressStyleModel",
      "state": {
       "_model_module": "@jupyter-widgets/controls",
       "_model_module_version": "1.5.0",
       "_model_name": "ProgressStyleModel",
       "_view_count": null,
       "_view_module": "@jupyter-widgets/base",
       "_view_module_version": "1.2.0",
       "_view_name": "StyleView",
       "bar_color": null,
       "description_width": ""
      }
     },
     "a842bb17859c45f08d90213cbf52fc2f": {
      "model_module": "@jupyter-widgets/base",
      "model_module_version": "1.2.0",
      "model_name": "LayoutModel",
      "state": {
       "_model_module": "@jupyter-widgets/base",
       "_model_module_version": "1.2.0",
       "_model_name": "LayoutModel",
       "_view_count": null,
       "_view_module": "@jupyter-widgets/base",
       "_view_module_version": "1.2.0",
       "_view_name": "LayoutView",
       "align_content": null,
       "align_items": null,
       "align_self": null,
       "border": null,
       "bottom": null,
       "display": null,
       "flex": null,
       "flex_flow": null,
       "grid_area": null,
       "grid_auto_columns": null,
       "grid_auto_flow": null,
       "grid_auto_rows": null,
       "grid_column": null,
       "grid_gap": null,
       "grid_row": null,
       "grid_template_areas": null,
       "grid_template_columns": null,
       "grid_template_rows": null,
       "height": null,
       "justify_content": null,
       "justify_items": null,
       "left": null,
       "margin": null,
       "max_height": null,
       "max_width": null,
       "min_height": null,
       "min_width": null,
       "object_fit": null,
       "object_position": null,
       "order": null,
       "overflow": null,
       "overflow_x": null,
       "overflow_y": null,
       "padding": null,
       "right": null,
       "top": null,
       "visibility": null,
       "width": null
      }
     },
     "ab98ca6c2459495896dcdeca7e0e8324": {
      "model_module": "@jupyter-widgets/controls",
      "model_module_version": "1.5.0",
      "model_name": "ProgressStyleModel",
      "state": {
       "_model_module": "@jupyter-widgets/controls",
       "_model_module_version": "1.5.0",
       "_model_name": "ProgressStyleModel",
       "_view_count": null,
       "_view_module": "@jupyter-widgets/base",
       "_view_module_version": "1.2.0",
       "_view_name": "StyleView",
       "bar_color": null,
       "description_width": ""
      }
     },
     "ada9d3bab4f847fb884eb717c9761ef9": {
      "model_module": "@jupyter-widgets/controls",
      "model_module_version": "1.5.0",
      "model_name": "HTMLModel",
      "state": {
       "_dom_classes": [],
       "_model_module": "@jupyter-widgets/controls",
       "_model_module_version": "1.5.0",
       "_model_name": "HTMLModel",
       "_view_count": null,
       "_view_module": "@jupyter-widgets/controls",
       "_view_module_version": "1.5.0",
       "_view_name": "HTMLView",
       "description": "",
       "description_tooltip": null,
       "layout": "IPY_MODEL_fbf840449ac64eddb8e33ab5679e71a4",
       "placeholder": "​",
       "style": "IPY_MODEL_6d1d1ebf47f34598b7ee0efed6526f4e",
       "value": "Downloading: 100%"
      }
     },
     "ba4d5f80ff054fbc84528d5eddffb7d6": {
      "model_module": "@jupyter-widgets/controls",
      "model_module_version": "1.5.0",
      "model_name": "FloatProgressModel",
      "state": {
       "_dom_classes": [],
       "_model_module": "@jupyter-widgets/controls",
       "_model_module_version": "1.5.0",
       "_model_name": "FloatProgressModel",
       "_view_count": null,
       "_view_module": "@jupyter-widgets/controls",
       "_view_module_version": "1.5.0",
       "_view_name": "ProgressView",
       "bar_style": "success",
       "description": "",
       "description_tooltip": null,
       "layout": "IPY_MODEL_9b3cf67ee4334edab9cfc45f1dc3502c",
       "max": 2170.0,
       "min": 0.0,
       "orientation": "horizontal",
       "style": "IPY_MODEL_de8c7d7d498d4284982fb382f4748d3f",
       "value": 2170.0
      }
     },
     "bd055e4a62c1409990b70da2393743f4": {
      "model_module": "@jupyter-widgets/controls",
      "model_module_version": "1.5.0",
      "model_name": "DescriptionStyleModel",
      "state": {
       "_model_module": "@jupyter-widgets/controls",
       "_model_module_version": "1.5.0",
       "_model_name": "DescriptionStyleModel",
       "_view_count": null,
       "_view_module": "@jupyter-widgets/base",
       "_view_module_version": "1.2.0",
       "_view_name": "StyleView",
       "description_width": ""
      }
     },
     "c17bd29741e843d49e89329fa5ac5857": {
      "model_module": "@jupyter-widgets/controls",
      "model_module_version": "1.5.0",
      "model_name": "HTMLModel",
      "state": {
       "_dom_classes": [],
       "_model_module": "@jupyter-widgets/controls",
       "_model_module_version": "1.5.0",
       "_model_name": "HTMLModel",
       "_view_count": null,
       "_view_module": "@jupyter-widgets/controls",
       "_view_module_version": "1.5.0",
       "_view_name": "HTMLView",
       "description": "",
       "description_tooltip": null,
       "layout": "IPY_MODEL_24385e78bf5a4170828d0d55227e93e9",
       "placeholder": "​",
       "style": "IPY_MODEL_9c0e4296e594481286770311ffe86c09",
       "value": "100%"
      }
     },
     "c50cde1992a1442291a5566793ace188": {
      "model_module": "@jupyter-widgets/controls",
      "model_module_version": "1.5.0",
      "model_name": "DescriptionStyleModel",
      "state": {
       "_model_module": "@jupyter-widgets/controls",
       "_model_module_version": "1.5.0",
       "_model_name": "DescriptionStyleModel",
       "_view_count": null,
       "_view_module": "@jupyter-widgets/base",
       "_view_module_version": "1.2.0",
       "_view_name": "StyleView",
       "description_width": ""
      }
     },
     "c59e9ee65eb947aebd6d45f1321703f4": {
      "model_module": "@jupyter-widgets/base",
      "model_module_version": "1.2.0",
      "model_name": "LayoutModel",
      "state": {
       "_model_module": "@jupyter-widgets/base",
       "_model_module_version": "1.2.0",
       "_model_name": "LayoutModel",
       "_view_count": null,
       "_view_module": "@jupyter-widgets/base",
       "_view_module_version": "1.2.0",
       "_view_name": "LayoutView",
       "align_content": null,
       "align_items": null,
       "align_self": null,
       "border": null,
       "bottom": null,
       "display": null,
       "flex": null,
       "flex_flow": null,
       "grid_area": null,
       "grid_auto_columns": null,
       "grid_auto_flow": null,
       "grid_auto_rows": null,
       "grid_column": null,
       "grid_gap": null,
       "grid_row": null,
       "grid_template_areas": null,
       "grid_template_columns": null,
       "grid_template_rows": null,
       "height": null,
       "justify_content": null,
       "justify_items": null,
       "left": null,
       "margin": null,
       "max_height": null,
       "max_width": null,
       "min_height": null,
       "min_width": null,
       "object_fit": null,
       "object_position": null,
       "order": null,
       "overflow": null,
       "overflow_x": null,
       "overflow_y": null,
       "padding": null,
       "right": null,
       "top": null,
       "visibility": null,
       "width": null
      }
     },
     "c5a5ce4279f347f39196433ff0469040": {
      "model_module": "@jupyter-widgets/base",
      "model_module_version": "1.2.0",
      "model_name": "LayoutModel",
      "state": {
       "_model_module": "@jupyter-widgets/base",
       "_model_module_version": "1.2.0",
       "_model_name": "LayoutModel",
       "_view_count": null,
       "_view_module": "@jupyter-widgets/base",
       "_view_module_version": "1.2.0",
       "_view_name": "LayoutView",
       "align_content": null,
       "align_items": null,
       "align_self": null,
       "border": null,
       "bottom": null,
       "display": null,
       "flex": null,
       "flex_flow": null,
       "grid_area": null,
       "grid_auto_columns": null,
       "grid_auto_flow": null,
       "grid_auto_rows": null,
       "grid_column": null,
       "grid_gap": null,
       "grid_row": null,
       "grid_template_areas": null,
       "grid_template_columns": null,
       "grid_template_rows": null,
       "height": null,
       "justify_content": null,
       "justify_items": null,
       "left": null,
       "margin": null,
       "max_height": null,
       "max_width": null,
       "min_height": null,
       "min_width": null,
       "object_fit": null,
       "object_position": null,
       "order": null,
       "overflow": null,
       "overflow_x": null,
       "overflow_y": null,
       "padding": null,
       "right": null,
       "top": null,
       "visibility": null,
       "width": null
      }
     },
     "d1b71d2ea96a44f4b1a25f02f7e2bbd8": {
      "model_module": "@jupyter-widgets/controls",
      "model_module_version": "1.5.0",
      "model_name": "HTMLModel",
      "state": {
       "_dom_classes": [],
       "_model_module": "@jupyter-widgets/controls",
       "_model_module_version": "1.5.0",
       "_model_name": "HTMLModel",
       "_view_count": null,
       "_view_module": "@jupyter-widgets/controls",
       "_view_module_version": "1.5.0",
       "_view_name": "HTMLView",
       "description": "",
       "description_tooltip": null,
       "layout": "IPY_MODEL_90099e4a0a844b6b98eb8a482a236bbe",
       "placeholder": "​",
       "style": "IPY_MODEL_dc9df308c70746d5b19a3ae7789335ee",
       "value": " 1/1 [00:00&lt;00:00,  1.11ba/s]"
      }
     },
     "d46253056afe44b4b48edbb67c0d6835": {
      "model_module": "@jupyter-widgets/base",
      "model_module_version": "1.2.0",
      "model_name": "LayoutModel",
      "state": {
       "_model_module": "@jupyter-widgets/base",
       "_model_module_version": "1.2.0",
       "_model_name": "LayoutModel",
       "_view_count": null,
       "_view_module": "@jupyter-widgets/base",
       "_view_module_version": "1.2.0",
       "_view_name": "LayoutView",
       "align_content": null,
       "align_items": null,
       "align_self": null,
       "border": null,
       "bottom": null,
       "display": null,
       "flex": null,
       "flex_flow": null,
       "grid_area": null,
       "grid_auto_columns": null,
       "grid_auto_flow": null,
       "grid_auto_rows": null,
       "grid_column": null,
       "grid_gap": null,
       "grid_row": null,
       "grid_template_areas": null,
       "grid_template_columns": null,
       "grid_template_rows": null,
       "height": null,
       "justify_content": null,
       "justify_items": null,
       "left": null,
       "margin": null,
       "max_height": null,
       "max_width": null,
       "min_height": null,
       "min_width": null,
       "object_fit": null,
       "object_position": null,
       "order": null,
       "overflow": null,
       "overflow_x": null,
       "overflow_y": null,
       "padding": null,
       "right": null,
       "top": null,
       "visibility": null,
       "width": null
      }
     },
     "d58bbcf4e8814b038b1bfdeb75c3d389": {
      "model_module": "@jupyter-widgets/controls",
      "model_module_version": "1.5.0",
      "model_name": "DescriptionStyleModel",
      "state": {
       "_model_module": "@jupyter-widgets/controls",
       "_model_module_version": "1.5.0",
       "_model_name": "DescriptionStyleModel",
       "_view_count": null,
       "_view_module": "@jupyter-widgets/base",
       "_view_module_version": "1.2.0",
       "_view_name": "StyleView",
       "description_width": ""
      }
     },
     "d5a2746062dc402aa59bf88895b6a72e": {
      "model_module": "@jupyter-widgets/controls",
      "model_module_version": "1.5.0",
      "model_name": "FloatProgressModel",
      "state": {
       "_dom_classes": [],
       "_model_module": "@jupyter-widgets/controls",
       "_model_module_version": "1.5.0",
       "_model_name": "FloatProgressModel",
       "_view_count": null,
       "_view_module": "@jupyter-widgets/controls",
       "_view_module_version": "1.5.0",
       "_view_name": "ProgressView",
       "bar_style": "success",
       "description": "",
       "description_tooltip": null,
       "layout": "IPY_MODEL_385fd4bdbfc14f4faf6914c2bbe0f304",
       "max": 898822.0,
       "min": 0.0,
       "orientation": "horizontal",
       "style": "IPY_MODEL_27cbfb9f06bf4c7c83b9ac8ce3c418d9",
       "value": 898822.0
      }
     },
     "d784048caea84ef99eb1e381fdeae001": {
      "model_module": "@jupyter-widgets/base",
      "model_module_version": "1.2.0",
      "model_name": "LayoutModel",
      "state": {
       "_model_module": "@jupyter-widgets/base",
       "_model_module_version": "1.2.0",
       "_model_name": "LayoutModel",
       "_view_count": null,
       "_view_module": "@jupyter-widgets/base",
       "_view_module_version": "1.2.0",
       "_view_name": "LayoutView",
       "align_content": null,
       "align_items": null,
       "align_self": null,
       "border": null,
       "bottom": null,
       "display": null,
       "flex": null,
       "flex_flow": null,
       "grid_area": null,
       "grid_auto_columns": null,
       "grid_auto_flow": null,
       "grid_auto_rows": null,
       "grid_column": null,
       "grid_gap": null,
       "grid_row": null,
       "grid_template_areas": null,
       "grid_template_columns": null,
       "grid_template_rows": null,
       "height": null,
       "justify_content": null,
       "justify_items": null,
       "left": null,
       "margin": null,
       "max_height": null,
       "max_width": null,
       "min_height": null,
       "min_width": null,
       "object_fit": null,
       "object_position": null,
       "order": null,
       "overflow": null,
       "overflow_x": null,
       "overflow_y": null,
       "padding": null,
       "right": null,
       "top": null,
       "visibility": null,
       "width": null
      }
     },
     "d949a493fc9441d098b43a8146d4e1ee": {
      "model_module": "@jupyter-widgets/base",
      "model_module_version": "1.2.0",
      "model_name": "LayoutModel",
      "state": {
       "_model_module": "@jupyter-widgets/base",
       "_model_module_version": "1.2.0",
       "_model_name": "LayoutModel",
       "_view_count": null,
       "_view_module": "@jupyter-widgets/base",
       "_view_module_version": "1.2.0",
       "_view_name": "LayoutView",
       "align_content": null,
       "align_items": null,
       "align_self": null,
       "border": null,
       "bottom": null,
       "display": null,
       "flex": null,
       "flex_flow": null,
       "grid_area": null,
       "grid_auto_columns": null,
       "grid_auto_flow": null,
       "grid_auto_rows": null,
       "grid_column": null,
       "grid_gap": null,
       "grid_row": null,
       "grid_template_areas": null,
       "grid_template_columns": null,
       "grid_template_rows": null,
       "height": null,
       "justify_content": null,
       "justify_items": null,
       "left": null,
       "margin": null,
       "max_height": null,
       "max_width": null,
       "min_height": null,
       "min_width": null,
       "object_fit": null,
       "object_position": null,
       "order": null,
       "overflow": null,
       "overflow_x": null,
       "overflow_y": null,
       "padding": null,
       "right": null,
       "top": null,
       "visibility": null,
       "width": null
      }
     },
     "dbdcff747bea405c98bee9670fbe56b7": {
      "model_module": "@jupyter-widgets/base",
      "model_module_version": "1.2.0",
      "model_name": "LayoutModel",
      "state": {
       "_model_module": "@jupyter-widgets/base",
       "_model_module_version": "1.2.0",
       "_model_name": "LayoutModel",
       "_view_count": null,
       "_view_module": "@jupyter-widgets/base",
       "_view_module_version": "1.2.0",
       "_view_name": "LayoutView",
       "align_content": null,
       "align_items": null,
       "align_self": null,
       "border": null,
       "bottom": null,
       "display": null,
       "flex": null,
       "flex_flow": null,
       "grid_area": null,
       "grid_auto_columns": null,
       "grid_auto_flow": null,
       "grid_auto_rows": null,
       "grid_column": null,
       "grid_gap": null,
       "grid_row": null,
       "grid_template_areas": null,
       "grid_template_columns": null,
       "grid_template_rows": null,
       "height": null,
       "justify_content": null,
       "justify_items": null,
       "left": null,
       "margin": null,
       "max_height": null,
       "max_width": null,
       "min_height": null,
       "min_width": null,
       "object_fit": null,
       "object_position": null,
       "order": null,
       "overflow": null,
       "overflow_x": null,
       "overflow_y": null,
       "padding": null,
       "right": null,
       "top": null,
       "visibility": null,
       "width": null
      }
     },
     "dc3eb213ba1244a6ba5ed60a81873864": {
      "model_module": "@jupyter-widgets/controls",
      "model_module_version": "1.5.0",
      "model_name": "HTMLModel",
      "state": {
       "_dom_classes": [],
       "_model_module": "@jupyter-widgets/controls",
       "_model_module_version": "1.5.0",
       "_model_name": "HTMLModel",
       "_view_count": null,
       "_view_module": "@jupyter-widgets/controls",
       "_view_module_version": "1.5.0",
       "_view_name": "HTMLView",
       "description": "",
       "description_tooltip": null,
       "layout": "IPY_MODEL_646ecc6d2a0e43d6bbccae0cf9b569ae",
       "placeholder": "​",
       "style": "IPY_MODEL_0f6617fa5d4149dc9c9965f9ab325029",
       "value": "Downloading: 100%"
      }
     },
     "dc9bd55cad694ab6aa5a4903159de8f7": {
      "model_module": "@jupyter-widgets/controls",
      "model_module_version": "1.5.0",
      "model_name": "ProgressStyleModel",
      "state": {
       "_model_module": "@jupyter-widgets/controls",
       "_model_module_version": "1.5.0",
       "_model_name": "ProgressStyleModel",
       "_view_count": null,
       "_view_module": "@jupyter-widgets/base",
       "_view_module_version": "1.2.0",
       "_view_name": "StyleView",
       "bar_color": null,
       "description_width": ""
      }
     },
     "dc9df308c70746d5b19a3ae7789335ee": {
      "model_module": "@jupyter-widgets/controls",
      "model_module_version": "1.5.0",
      "model_name": "DescriptionStyleModel",
      "state": {
       "_model_module": "@jupyter-widgets/controls",
       "_model_module_version": "1.5.0",
       "_model_name": "DescriptionStyleModel",
       "_view_count": null,
       "_view_module": "@jupyter-widgets/base",
       "_view_module_version": "1.2.0",
       "_view_name": "StyleView",
       "description_width": ""
      }
     },
     "dcddf11d44f4493c96dbf8476b6f2e41": {
      "model_module": "@jupyter-widgets/controls",
      "model_module_version": "1.5.0",
      "model_name": "DescriptionStyleModel",
      "state": {
       "_model_module": "@jupyter-widgets/controls",
       "_model_module_version": "1.5.0",
       "_model_name": "DescriptionStyleModel",
       "_view_count": null,
       "_view_module": "@jupyter-widgets/base",
       "_view_module_version": "1.2.0",
       "_view_name": "StyleView",
       "description_width": ""
      }
     },
     "dd634f07cbbb44caa9d4dc5ff0a37ca2": {
      "model_module": "@jupyter-widgets/base",
      "model_module_version": "1.2.0",
      "model_name": "LayoutModel",
      "state": {
       "_model_module": "@jupyter-widgets/base",
       "_model_module_version": "1.2.0",
       "_model_name": "LayoutModel",
       "_view_count": null,
       "_view_module": "@jupyter-widgets/base",
       "_view_module_version": "1.2.0",
       "_view_name": "LayoutView",
       "align_content": null,
       "align_items": null,
       "align_self": null,
       "border": null,
       "bottom": null,
       "display": null,
       "flex": null,
       "flex_flow": null,
       "grid_area": null,
       "grid_auto_columns": null,
       "grid_auto_flow": null,
       "grid_auto_rows": null,
       "grid_column": null,
       "grid_gap": null,
       "grid_row": null,
       "grid_template_areas": null,
       "grid_template_columns": null,
       "grid_template_rows": null,
       "height": null,
       "justify_content": null,
       "justify_items": null,
       "left": null,
       "margin": null,
       "max_height": null,
       "max_width": null,
       "min_height": null,
       "min_width": null,
       "object_fit": null,
       "object_position": null,
       "order": null,
       "overflow": null,
       "overflow_x": null,
       "overflow_y": null,
       "padding": null,
       "right": null,
       "top": null,
       "visibility": null,
       "width": null
      }
     },
     "de8c7d7d498d4284982fb382f4748d3f": {
      "model_module": "@jupyter-widgets/controls",
      "model_module_version": "1.5.0",
      "model_name": "ProgressStyleModel",
      "state": {
       "_model_module": "@jupyter-widgets/controls",
       "_model_module_version": "1.5.0",
       "_model_name": "ProgressStyleModel",
       "_view_count": null,
       "_view_module": "@jupyter-widgets/base",
       "_view_module_version": "1.2.0",
       "_view_name": "StyleView",
       "bar_color": null,
       "description_width": ""
      }
     },
     "df2ba3f413ef47e9a9fb84c934b69308": {
      "model_module": "@jupyter-widgets/controls",
      "model_module_version": "1.5.0",
      "model_name": "HTMLModel",
      "state": {
       "_dom_classes": [],
       "_model_module": "@jupyter-widgets/controls",
       "_model_module_version": "1.5.0",
       "_model_name": "HTMLModel",
       "_view_count": null,
       "_view_module": "@jupyter-widgets/controls",
       "_view_module_version": "1.5.0",
       "_view_name": "HTMLView",
       "description": "",
       "description_tooltip": null,
       "layout": "IPY_MODEL_75bed7f6f42745e29e84ba3dd62e86a2",
       "placeholder": "​",
       "style": "IPY_MODEL_dfd680b4933440669f9a0906ded1a7a6",
       "value": " 899k/899k [00:00&lt;00:00, 2.46MB/s]"
      }
     },
     "df5b2f32c7db48c3ba0037462e196df8": {
      "model_module": "@jupyter-widgets/base",
      "model_module_version": "1.2.0",
      "model_name": "LayoutModel",
      "state": {
       "_model_module": "@jupyter-widgets/base",
       "_model_module_version": "1.2.0",
       "_model_name": "LayoutModel",
       "_view_count": null,
       "_view_module": "@jupyter-widgets/base",
       "_view_module_version": "1.2.0",
       "_view_name": "LayoutView",
       "align_content": null,
       "align_items": null,
       "align_self": null,
       "border": null,
       "bottom": null,
       "display": null,
       "flex": null,
       "flex_flow": null,
       "grid_area": null,
       "grid_auto_columns": null,
       "grid_auto_flow": null,
       "grid_auto_rows": null,
       "grid_column": null,
       "grid_gap": null,
       "grid_row": null,
       "grid_template_areas": null,
       "grid_template_columns": null,
       "grid_template_rows": null,
       "height": null,
       "justify_content": null,
       "justify_items": null,
       "left": null,
       "margin": null,
       "max_height": null,
       "max_width": null,
       "min_height": null,
       "min_width": null,
       "object_fit": null,
       "object_position": null,
       "order": null,
       "overflow": null,
       "overflow_x": null,
       "overflow_y": null,
       "padding": null,
       "right": null,
       "top": null,
       "visibility": null,
       "width": null
      }
     },
     "dfd680b4933440669f9a0906ded1a7a6": {
      "model_module": "@jupyter-widgets/controls",
      "model_module_version": "1.5.0",
      "model_name": "DescriptionStyleModel",
      "state": {
       "_model_module": "@jupyter-widgets/controls",
       "_model_module_version": "1.5.0",
       "_model_name": "DescriptionStyleModel",
       "_view_count": null,
       "_view_module": "@jupyter-widgets/base",
       "_view_module_version": "1.2.0",
       "_view_name": "StyleView",
       "description_width": ""
      }
     },
     "e1c2953b3e514af99f508233f3d41a82": {
      "model_module": "@jupyter-widgets/controls",
      "model_module_version": "1.5.0",
      "model_name": "FloatProgressModel",
      "state": {
       "_dom_classes": [],
       "_model_module": "@jupyter-widgets/controls",
       "_model_module_version": "1.5.0",
       "_model_name": "FloatProgressModel",
       "_view_count": null,
       "_view_module": "@jupyter-widgets/controls",
       "_view_module_version": "1.5.0",
       "_view_name": "ProgressView",
       "bar_style": "success",
       "description": "",
       "description_tooltip": null,
       "layout": "IPY_MODEL_694296063b6a4b69b350f3694e957767",
       "max": 1.0,
       "min": 0.0,
       "orientation": "horizontal",
       "style": "IPY_MODEL_dc9bd55cad694ab6aa5a4903159de8f7",
       "value": 1.0
      }
     },
     "e721a51fda58496f92a94eb365c41f7d": {
      "model_module": "@jupyter-widgets/controls",
      "model_module_version": "1.5.0",
      "model_name": "HTMLModel",
      "state": {
       "_dom_classes": [],
       "_model_module": "@jupyter-widgets/controls",
       "_model_module_version": "1.5.0",
       "_model_name": "HTMLModel",
       "_view_count": null,
       "_view_module": "@jupyter-widgets/controls",
       "_view_module_version": "1.5.0",
       "_view_name": "HTMLView",
       "description": "",
       "description_tooltip": null,
       "layout": "IPY_MODEL_8fc6a89f20c94dbe896098921462a702",
       "placeholder": "​",
       "style": "IPY_MODEL_61d23910edb14b778d940e9721d0bc2a",
       "value": " 26.0/26.0 [00:00&lt;00:00, 885B/s]"
      }
     },
     "e79087a6e306426fbf8fed1e29c7c973": {
      "model_module": "@jupyter-widgets/controls",
      "model_module_version": "1.5.0",
      "model_name": "HTMLModel",
      "state": {
       "_dom_classes": [],
       "_model_module": "@jupyter-widgets/controls",
       "_model_module_version": "1.5.0",
       "_model_name": "HTMLModel",
       "_view_count": null,
       "_view_module": "@jupyter-widgets/controls",
       "_view_module_version": "1.5.0",
       "_view_name": "HTMLView",
       "description": "",
       "description_tooltip": null,
       "layout": "IPY_MODEL_06ad0d43f33b4faa88a6dd5c682bd2af",
       "placeholder": "​",
       "style": "IPY_MODEL_49eeed9224b34463b493fa41d7f0c313",
       "value": " 5.61k/? [00:00&lt;00:00, 190kB/s]"
      }
     },
     "e818739bef724029b02b09c52d1d33ce": {
      "model_module": "@jupyter-widgets/controls",
      "model_module_version": "1.5.0",
      "model_name": "DescriptionStyleModel",
      "state": {
       "_model_module": "@jupyter-widgets/controls",
       "_model_module_version": "1.5.0",
       "_model_name": "DescriptionStyleModel",
       "_view_count": null,
       "_view_module": "@jupyter-widgets/base",
       "_view_module_version": "1.2.0",
       "_view_name": "StyleView",
       "description_width": ""
      }
     },
     "e90fb5188812497ab3932629ff4d1827": {
      "model_module": "@jupyter-widgets/controls",
      "model_module_version": "1.5.0",
      "model_name": "ProgressStyleModel",
      "state": {
       "_model_module": "@jupyter-widgets/controls",
       "_model_module_version": "1.5.0",
       "_model_name": "ProgressStyleModel",
       "_view_count": null,
       "_view_module": "@jupyter-widgets/base",
       "_view_module_version": "1.2.0",
       "_view_name": "StyleView",
       "bar_color": null,
       "description_width": ""
      }
     },
     "ec66f114bee24ca38e71062274e10105": {
      "model_module": "@jupyter-widgets/controls",
      "model_module_version": "1.5.0",
      "model_name": "HTMLModel",
      "state": {
       "_dom_classes": [],
       "_model_module": "@jupyter-widgets/controls",
       "_model_module_version": "1.5.0",
       "_model_name": "HTMLModel",
       "_view_count": null,
       "_view_module": "@jupyter-widgets/controls",
       "_view_module_version": "1.5.0",
       "_view_name": "HTMLView",
       "description": "",
       "description_tooltip": null,
       "layout": "IPY_MODEL_7d3846beda1f416e91b819b2d2afe387",
       "placeholder": "​",
       "style": "IPY_MODEL_d58bbcf4e8814b038b1bfdeb75c3d389",
       "value": "Downloading: 100%"
      }
     },
     "eef374822f3845bfbd8fd1ed2633dc2e": {
      "model_module": "@jupyter-widgets/controls",
      "model_module_version": "1.5.0",
      "model_name": "DescriptionStyleModel",
      "state": {
       "_model_module": "@jupyter-widgets/controls",
       "_model_module_version": "1.5.0",
       "_model_name": "DescriptionStyleModel",
       "_view_count": null,
       "_view_module": "@jupyter-widgets/base",
       "_view_module_version": "1.2.0",
       "_view_name": "StyleView",
       "description_width": ""
      }
     },
     "f18dd4a05f674b5b80bd14148e5f1a61": {
      "model_module": "@jupyter-widgets/controls",
      "model_module_version": "1.5.0",
      "model_name": "FloatProgressModel",
      "state": {
       "_dom_classes": [],
       "_model_module": "@jupyter-widgets/controls",
       "_model_module_version": "1.5.0",
       "_model_name": "FloatProgressModel",
       "_view_count": null,
       "_view_module": "@jupyter-widgets/controls",
       "_view_module_version": "1.5.0",
       "_view_name": "ProgressView",
       "bar_style": "success",
       "description": "",
       "description_tooltip": null,
       "layout": "IPY_MODEL_95f7a0f23dca40d7bb98ff688945820c",
       "max": 456318.0,
       "min": 0.0,
       "orientation": "horizontal",
       "style": "IPY_MODEL_29b482541fb34dc99a91ad0894985005",
       "value": 456318.0
      }
     },
     "f2c2293c9d96400690e8e7915721aa00": {
      "model_module": "@jupyter-widgets/base",
      "model_module_version": "1.2.0",
      "model_name": "LayoutModel",
      "state": {
       "_model_module": "@jupyter-widgets/base",
       "_model_module_version": "1.2.0",
       "_model_name": "LayoutModel",
       "_view_count": null,
       "_view_module": "@jupyter-widgets/base",
       "_view_module_version": "1.2.0",
       "_view_name": "LayoutView",
       "align_content": null,
       "align_items": null,
       "align_self": null,
       "border": null,
       "bottom": null,
       "display": null,
       "flex": null,
       "flex_flow": null,
       "grid_area": null,
       "grid_auto_columns": null,
       "grid_auto_flow": null,
       "grid_auto_rows": null,
       "grid_column": null,
       "grid_gap": null,
       "grid_row": null,
       "grid_template_areas": null,
       "grid_template_columns": null,
       "grid_template_rows": null,
       "height": null,
       "justify_content": null,
       "justify_items": null,
       "left": null,
       "margin": null,
       "max_height": null,
       "max_width": null,
       "min_height": null,
       "min_width": null,
       "object_fit": null,
       "object_position": null,
       "order": null,
       "overflow": null,
       "overflow_x": null,
       "overflow_y": null,
       "padding": null,
       "right": null,
       "top": null,
       "visibility": null,
       "width": null
      }
     },
     "f429e7a0914c4d76877ce59ad080a562": {
      "model_module": "@jupyter-widgets/base",
      "model_module_version": "1.2.0",
      "model_name": "LayoutModel",
      "state": {
       "_model_module": "@jupyter-widgets/base",
       "_model_module_version": "1.2.0",
       "_model_name": "LayoutModel",
       "_view_count": null,
       "_view_module": "@jupyter-widgets/base",
       "_view_module_version": "1.2.0",
       "_view_name": "LayoutView",
       "align_content": null,
       "align_items": null,
       "align_self": null,
       "border": null,
       "bottom": null,
       "display": null,
       "flex": null,
       "flex_flow": null,
       "grid_area": null,
       "grid_auto_columns": null,
       "grid_auto_flow": null,
       "grid_auto_rows": null,
       "grid_column": null,
       "grid_gap": null,
       "grid_row": null,
       "grid_template_areas": null,
       "grid_template_columns": null,
       "grid_template_rows": null,
       "height": null,
       "justify_content": null,
       "justify_items": null,
       "left": null,
       "margin": null,
       "max_height": null,
       "max_width": null,
       "min_height": null,
       "min_width": null,
       "object_fit": null,
       "object_position": null,
       "order": null,
       "overflow": null,
       "overflow_x": null,
       "overflow_y": null,
       "padding": null,
       "right": null,
       "top": null,
       "visibility": null,
       "width": null
      }
     },
     "f56ae0692cef4be1a66d66413bea3ebf": {
      "model_module": "@jupyter-widgets/base",
      "model_module_version": "1.2.0",
      "model_name": "LayoutModel",
      "state": {
       "_model_module": "@jupyter-widgets/base",
       "_model_module_version": "1.2.0",
       "_model_name": "LayoutModel",
       "_view_count": null,
       "_view_module": "@jupyter-widgets/base",
       "_view_module_version": "1.2.0",
       "_view_name": "LayoutView",
       "align_content": null,
       "align_items": null,
       "align_self": null,
       "border": null,
       "bottom": null,
       "display": null,
       "flex": null,
       "flex_flow": null,
       "grid_area": null,
       "grid_auto_columns": null,
       "grid_auto_flow": null,
       "grid_auto_rows": null,
       "grid_column": null,
       "grid_gap": null,
       "grid_row": null,
       "grid_template_areas": null,
       "grid_template_columns": null,
       "grid_template_rows": null,
       "height": null,
       "justify_content": null,
       "justify_items": null,
       "left": null,
       "margin": null,
       "max_height": null,
       "max_width": null,
       "min_height": null,
       "min_width": null,
       "object_fit": null,
       "object_position": null,
       "order": null,
       "overflow": null,
       "overflow_x": null,
       "overflow_y": null,
       "padding": null,
       "right": null,
       "top": null,
       "visibility": null,
       "width": null
      }
     },
     "f56e796496654d8aa523052ea879da49": {
      "model_module": "@jupyter-widgets/controls",
      "model_module_version": "1.5.0",
      "model_name": "HBoxModel",
      "state": {
       "_dom_classes": [],
       "_model_module": "@jupyter-widgets/controls",
       "_model_module_version": "1.5.0",
       "_model_name": "HBoxModel",
       "_view_count": null,
       "_view_module": "@jupyter-widgets/controls",
       "_view_module_version": "1.5.0",
       "_view_name": "HBoxView",
       "box_style": "",
       "children": [
        "IPY_MODEL_968ee61d6b0147a28f98c64493ab9dab",
        "IPY_MODEL_567eb8827a054e16997787e48436ae95",
        "IPY_MODEL_d1b71d2ea96a44f4b1a25f02f7e2bbd8"
       ],
       "layout": "IPY_MODEL_dd634f07cbbb44caa9d4dc5ff0a37ca2"
      }
     },
     "f6ce2c465a084e4dbc6cb7b9eec823ea": {
      "model_module": "@jupyter-widgets/base",
      "model_module_version": "1.2.0",
      "model_name": "LayoutModel",
      "state": {
       "_model_module": "@jupyter-widgets/base",
       "_model_module_version": "1.2.0",
       "_model_name": "LayoutModel",
       "_view_count": null,
       "_view_module": "@jupyter-widgets/base",
       "_view_module_version": "1.2.0",
       "_view_name": "LayoutView",
       "align_content": null,
       "align_items": null,
       "align_self": null,
       "border": null,
       "bottom": null,
       "display": null,
       "flex": null,
       "flex_flow": null,
       "grid_area": null,
       "grid_auto_columns": null,
       "grid_auto_flow": null,
       "grid_auto_rows": null,
       "grid_column": null,
       "grid_gap": null,
       "grid_row": null,
       "grid_template_areas": null,
       "grid_template_columns": null,
       "grid_template_rows": null,
       "height": null,
       "justify_content": null,
       "justify_items": null,
       "left": null,
       "margin": null,
       "max_height": null,
       "max_width": null,
       "min_height": null,
       "min_width": null,
       "object_fit": null,
       "object_position": null,
       "order": null,
       "overflow": null,
       "overflow_x": null,
       "overflow_y": null,
       "padding": null,
       "right": null,
       "top": null,
       "visibility": null,
       "width": null
      }
     },
     "fba962ec141c4e54b065352f9ce84f60": {
      "model_module": "@jupyter-widgets/controls",
      "model_module_version": "1.5.0",
      "model_name": "DescriptionStyleModel",
      "state": {
       "_model_module": "@jupyter-widgets/controls",
       "_model_module_version": "1.5.0",
       "_model_name": "DescriptionStyleModel",
       "_view_count": null,
       "_view_module": "@jupyter-widgets/base",
       "_view_module_version": "1.2.0",
       "_view_name": "StyleView",
       "description_width": ""
      }
     },
     "fbf840449ac64eddb8e33ab5679e71a4": {
      "model_module": "@jupyter-widgets/base",
      "model_module_version": "1.2.0",
      "model_name": "LayoutModel",
      "state": {
       "_model_module": "@jupyter-widgets/base",
       "_model_module_version": "1.2.0",
       "_model_name": "LayoutModel",
       "_view_count": null,
       "_view_module": "@jupyter-widgets/base",
       "_view_module_version": "1.2.0",
       "_view_name": "LayoutView",
       "align_content": null,
       "align_items": null,
       "align_self": null,
       "border": null,
       "bottom": null,
       "display": null,
       "flex": null,
       "flex_flow": null,
       "grid_area": null,
       "grid_auto_columns": null,
       "grid_auto_flow": null,
       "grid_auto_rows": null,
       "grid_column": null,
       "grid_gap": null,
       "grid_row": null,
       "grid_template_areas": null,
       "grid_template_columns": null,
       "grid_template_rows": null,
       "height": null,
       "justify_content": null,
       "justify_items": null,
       "left": null,
       "margin": null,
       "max_height": null,
       "max_width": null,
       "min_height": null,
       "min_width": null,
       "object_fit": null,
       "object_position": null,
       "order": null,
       "overflow": null,
       "overflow_x": null,
       "overflow_y": null,
       "padding": null,
       "right": null,
       "top": null,
       "visibility": null,
       "width": null
      }
     },
     "fd45242b343b4245a15371380ffcb919": {
      "model_module": "@jupyter-widgets/controls",
      "model_module_version": "1.5.0",
      "model_name": "ProgressStyleModel",
      "state": {
       "_model_module": "@jupyter-widgets/controls",
       "_model_module_version": "1.5.0",
       "_model_name": "ProgressStyleModel",
       "_view_count": null,
       "_view_module": "@jupyter-widgets/base",
       "_view_module_version": "1.2.0",
       "_view_name": "StyleView",
       "bar_color": null,
       "description_width": ""
      }
     },
     "fda925604c6e448888b8a7b638b9620d": {
      "model_module": "@jupyter-widgets/base",
      "model_module_version": "1.2.0",
      "model_name": "LayoutModel",
      "state": {
       "_model_module": "@jupyter-widgets/base",
       "_model_module_version": "1.2.0",
       "_model_name": "LayoutModel",
       "_view_count": null,
       "_view_module": "@jupyter-widgets/base",
       "_view_module_version": "1.2.0",
       "_view_name": "LayoutView",
       "align_content": null,
       "align_items": null,
       "align_self": null,
       "border": null,
       "bottom": null,
       "display": null,
       "flex": null,
       "flex_flow": null,
       "grid_area": null,
       "grid_auto_columns": null,
       "grid_auto_flow": null,
       "grid_auto_rows": null,
       "grid_column": null,
       "grid_gap": null,
       "grid_row": null,
       "grid_template_areas": null,
       "grid_template_columns": null,
       "grid_template_rows": null,
       "height": null,
       "justify_content": null,
       "justify_items": null,
       "left": null,
       "margin": null,
       "max_height": null,
       "max_width": null,
       "min_height": null,
       "min_width": null,
       "object_fit": null,
       "object_position": null,
       "order": null,
       "overflow": null,
       "overflow_x": null,
       "overflow_y": null,
       "padding": null,
       "right": null,
       "top": null,
       "visibility": null,
       "width": null
      }
     },
     "fe380afa30db459086b013bea3b65538": {
      "model_module": "@jupyter-widgets/base",
      "model_module_version": "1.2.0",
      "model_name": "LayoutModel",
      "state": {
       "_model_module": "@jupyter-widgets/base",
       "_model_module_version": "1.2.0",
       "_model_name": "LayoutModel",
       "_view_count": null,
       "_view_module": "@jupyter-widgets/base",
       "_view_module_version": "1.2.0",
       "_view_name": "LayoutView",
       "align_content": null,
       "align_items": null,
       "align_self": null,
       "border": null,
       "bottom": null,
       "display": null,
       "flex": null,
       "flex_flow": null,
       "grid_area": null,
       "grid_auto_columns": null,
       "grid_auto_flow": null,
       "grid_auto_rows": null,
       "grid_column": null,
       "grid_gap": null,
       "grid_row": null,
       "grid_template_areas": null,
       "grid_template_columns": null,
       "grid_template_rows": null,
       "height": null,
       "justify_content": null,
       "justify_items": null,
       "left": null,
       "margin": null,
       "max_height": null,
       "max_width": null,
       "min_height": null,
       "min_width": null,
       "object_fit": null,
       "object_position": null,
       "order": null,
       "overflow": null,
       "overflow_x": null,
       "overflow_y": null,
       "padding": null,
       "right": null,
       "top": null,
       "visibility": null,
       "width": null
      }
     }
    },
    "version_major": 2,
    "version_minor": 0
   }
  }
 },
 "nbformat": 4,
 "nbformat_minor": 5
}
